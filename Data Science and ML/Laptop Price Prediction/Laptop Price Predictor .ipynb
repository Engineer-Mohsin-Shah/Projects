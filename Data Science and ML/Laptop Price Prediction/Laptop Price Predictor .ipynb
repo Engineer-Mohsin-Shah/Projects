{
 "cells": [
  {
   "cell_type": "markdown",
   "id": "cfc4b641-2f4f-4514-a8a2-cc31b4bb3d25",
   "metadata": {},
   "source": [
    "### Laptop Price Prediction"
   ]
  },
  {
   "cell_type": "code",
   "execution_count": 8,
   "id": "7e279011-f6c1-44a0-8296-79dfb55ba5f6",
   "metadata": {},
   "outputs": [],
   "source": [
    "import numpy as np\n",
    "import pandas as pd\n",
    "import matplotlib.pyplot as plt\n",
    "import seaborn as sb"
   ]
  },
  {
   "cell_type": "code",
   "execution_count": 9,
   "id": "b9c53c16-05c7-4d32-a070-f347cdee1220",
   "metadata": {},
   "outputs": [],
   "source": [
    "df = pd.read_csv(\"laptop_data.csv\")"
   ]
  },
  {
   "cell_type": "code",
   "execution_count": 3,
   "id": "c817c4be-9b0f-497c-8600-88d10c91984e",
   "metadata": {},
   "outputs": [
    {
     "data": {
      "text/html": [
       "<div>\n",
       "<style scoped>\n",
       "    .dataframe tbody tr th:only-of-type {\n",
       "        vertical-align: middle;\n",
       "    }\n",
       "\n",
       "    .dataframe tbody tr th {\n",
       "        vertical-align: top;\n",
       "    }\n",
       "\n",
       "    .dataframe thead th {\n",
       "        text-align: right;\n",
       "    }\n",
       "</style>\n",
       "<table border=\"1\" class=\"dataframe\">\n",
       "  <thead>\n",
       "    <tr style=\"text-align: right;\">\n",
       "      <th></th>\n",
       "      <th>Unnamed: 0</th>\n",
       "      <th>Company</th>\n",
       "      <th>TypeName</th>\n",
       "      <th>Inches</th>\n",
       "      <th>ScreenResolution</th>\n",
       "      <th>Cpu</th>\n",
       "      <th>Ram</th>\n",
       "      <th>Memory</th>\n",
       "      <th>Gpu</th>\n",
       "      <th>OpSys</th>\n",
       "      <th>Weight</th>\n",
       "      <th>Price</th>\n",
       "    </tr>\n",
       "  </thead>\n",
       "  <tbody>\n",
       "    <tr>\n",
       "      <th>0</th>\n",
       "      <td>0</td>\n",
       "      <td>Apple</td>\n",
       "      <td>Ultrabook</td>\n",
       "      <td>13.3</td>\n",
       "      <td>IPS Panel Retina Display 2560x1600</td>\n",
       "      <td>Intel Core i5 2.3GHz</td>\n",
       "      <td>8GB</td>\n",
       "      <td>128GB SSD</td>\n",
       "      <td>Intel Iris Plus Graphics 640</td>\n",
       "      <td>macOS</td>\n",
       "      <td>1.37kg</td>\n",
       "      <td>71378.6832</td>\n",
       "    </tr>\n",
       "    <tr>\n",
       "      <th>1</th>\n",
       "      <td>1</td>\n",
       "      <td>Apple</td>\n",
       "      <td>Ultrabook</td>\n",
       "      <td>13.3</td>\n",
       "      <td>1440x900</td>\n",
       "      <td>Intel Core i5 1.8GHz</td>\n",
       "      <td>8GB</td>\n",
       "      <td>128GB Flash Storage</td>\n",
       "      <td>Intel HD Graphics 6000</td>\n",
       "      <td>macOS</td>\n",
       "      <td>1.34kg</td>\n",
       "      <td>47895.5232</td>\n",
       "    </tr>\n",
       "    <tr>\n",
       "      <th>2</th>\n",
       "      <td>2</td>\n",
       "      <td>HP</td>\n",
       "      <td>Notebook</td>\n",
       "      <td>15.6</td>\n",
       "      <td>Full HD 1920x1080</td>\n",
       "      <td>Intel Core i5 7200U 2.5GHz</td>\n",
       "      <td>8GB</td>\n",
       "      <td>256GB SSD</td>\n",
       "      <td>Intel HD Graphics 620</td>\n",
       "      <td>No OS</td>\n",
       "      <td>1.86kg</td>\n",
       "      <td>30636.0000</td>\n",
       "    </tr>\n",
       "    <tr>\n",
       "      <th>3</th>\n",
       "      <td>3</td>\n",
       "      <td>Apple</td>\n",
       "      <td>Ultrabook</td>\n",
       "      <td>15.4</td>\n",
       "      <td>IPS Panel Retina Display 2880x1800</td>\n",
       "      <td>Intel Core i7 2.7GHz</td>\n",
       "      <td>16GB</td>\n",
       "      <td>512GB SSD</td>\n",
       "      <td>AMD Radeon Pro 455</td>\n",
       "      <td>macOS</td>\n",
       "      <td>1.83kg</td>\n",
       "      <td>135195.3360</td>\n",
       "    </tr>\n",
       "    <tr>\n",
       "      <th>4</th>\n",
       "      <td>4</td>\n",
       "      <td>Apple</td>\n",
       "      <td>Ultrabook</td>\n",
       "      <td>13.3</td>\n",
       "      <td>IPS Panel Retina Display 2560x1600</td>\n",
       "      <td>Intel Core i5 3.1GHz</td>\n",
       "      <td>8GB</td>\n",
       "      <td>256GB SSD</td>\n",
       "      <td>Intel Iris Plus Graphics 650</td>\n",
       "      <td>macOS</td>\n",
       "      <td>1.37kg</td>\n",
       "      <td>96095.8080</td>\n",
       "    </tr>\n",
       "  </tbody>\n",
       "</table>\n",
       "</div>"
      ],
      "text/plain": [
       "   Unnamed: 0 Company   TypeName  Inches                    ScreenResolution  \\\n",
       "0           0   Apple  Ultrabook    13.3  IPS Panel Retina Display 2560x1600   \n",
       "1           1   Apple  Ultrabook    13.3                            1440x900   \n",
       "2           2      HP   Notebook    15.6                   Full HD 1920x1080   \n",
       "3           3   Apple  Ultrabook    15.4  IPS Panel Retina Display 2880x1800   \n",
       "4           4   Apple  Ultrabook    13.3  IPS Panel Retina Display 2560x1600   \n",
       "\n",
       "                          Cpu   Ram               Memory  \\\n",
       "0        Intel Core i5 2.3GHz   8GB            128GB SSD   \n",
       "1        Intel Core i5 1.8GHz   8GB  128GB Flash Storage   \n",
       "2  Intel Core i5 7200U 2.5GHz   8GB            256GB SSD   \n",
       "3        Intel Core i7 2.7GHz  16GB            512GB SSD   \n",
       "4        Intel Core i5 3.1GHz   8GB            256GB SSD   \n",
       "\n",
       "                            Gpu  OpSys  Weight        Price  \n",
       "0  Intel Iris Plus Graphics 640  macOS  1.37kg   71378.6832  \n",
       "1        Intel HD Graphics 6000  macOS  1.34kg   47895.5232  \n",
       "2         Intel HD Graphics 620  No OS  1.86kg   30636.0000  \n",
       "3            AMD Radeon Pro 455  macOS  1.83kg  135195.3360  \n",
       "4  Intel Iris Plus Graphics 650  macOS  1.37kg   96095.8080  "
      ]
     },
     "execution_count": 3,
     "metadata": {},
     "output_type": "execute_result"
    }
   ],
   "source": [
    "df.head()"
   ]
  },
  {
   "cell_type": "markdown",
   "id": "c7932cfa-0352-4cba-921f-977419a49c52",
   "metadata": {},
   "source": [
    "## EDA (Exploratory Data Analysis)"
   ]
  },
  {
   "cell_type": "code",
   "execution_count": 10,
   "id": "4004a769-5b77-4a37-afff-7060bf5993bb",
   "metadata": {},
   "outputs": [],
   "source": [
    "df.drop(\"Unnamed: 0\", axis = 1, inplace = True)"
   ]
  },
  {
   "cell_type": "code",
   "execution_count": 8,
   "id": "4fe5d57f-7e71-4c56-8b20-b6594d3ee1d3",
   "metadata": {},
   "outputs": [
    {
     "data": {
      "text/html": [
       "<div>\n",
       "<style scoped>\n",
       "    .dataframe tbody tr th:only-of-type {\n",
       "        vertical-align: middle;\n",
       "    }\n",
       "\n",
       "    .dataframe tbody tr th {\n",
       "        vertical-align: top;\n",
       "    }\n",
       "\n",
       "    .dataframe thead th {\n",
       "        text-align: right;\n",
       "    }\n",
       "</style>\n",
       "<table border=\"1\" class=\"dataframe\">\n",
       "  <thead>\n",
       "    <tr style=\"text-align: right;\">\n",
       "      <th></th>\n",
       "      <th>Company</th>\n",
       "      <th>TypeName</th>\n",
       "      <th>Inches</th>\n",
       "      <th>ScreenResolution</th>\n",
       "      <th>Cpu</th>\n",
       "      <th>Ram</th>\n",
       "      <th>Memory</th>\n",
       "      <th>Gpu</th>\n",
       "      <th>OpSys</th>\n",
       "      <th>Weight</th>\n",
       "      <th>Price</th>\n",
       "    </tr>\n",
       "  </thead>\n",
       "  <tbody>\n",
       "    <tr>\n",
       "      <th>0</th>\n",
       "      <td>Apple</td>\n",
       "      <td>Ultrabook</td>\n",
       "      <td>13.3</td>\n",
       "      <td>IPS Panel Retina Display 2560x1600</td>\n",
       "      <td>Intel Core i5 2.3GHz</td>\n",
       "      <td>8GB</td>\n",
       "      <td>128GB SSD</td>\n",
       "      <td>Intel Iris Plus Graphics 640</td>\n",
       "      <td>macOS</td>\n",
       "      <td>1.37kg</td>\n",
       "      <td>71378.6832</td>\n",
       "    </tr>\n",
       "    <tr>\n",
       "      <th>1</th>\n",
       "      <td>Apple</td>\n",
       "      <td>Ultrabook</td>\n",
       "      <td>13.3</td>\n",
       "      <td>1440x900</td>\n",
       "      <td>Intel Core i5 1.8GHz</td>\n",
       "      <td>8GB</td>\n",
       "      <td>128GB Flash Storage</td>\n",
       "      <td>Intel HD Graphics 6000</td>\n",
       "      <td>macOS</td>\n",
       "      <td>1.34kg</td>\n",
       "      <td>47895.5232</td>\n",
       "    </tr>\n",
       "    <tr>\n",
       "      <th>2</th>\n",
       "      <td>HP</td>\n",
       "      <td>Notebook</td>\n",
       "      <td>15.6</td>\n",
       "      <td>Full HD 1920x1080</td>\n",
       "      <td>Intel Core i5 7200U 2.5GHz</td>\n",
       "      <td>8GB</td>\n",
       "      <td>256GB SSD</td>\n",
       "      <td>Intel HD Graphics 620</td>\n",
       "      <td>No OS</td>\n",
       "      <td>1.86kg</td>\n",
       "      <td>30636.0000</td>\n",
       "    </tr>\n",
       "    <tr>\n",
       "      <th>3</th>\n",
       "      <td>Apple</td>\n",
       "      <td>Ultrabook</td>\n",
       "      <td>15.4</td>\n",
       "      <td>IPS Panel Retina Display 2880x1800</td>\n",
       "      <td>Intel Core i7 2.7GHz</td>\n",
       "      <td>16GB</td>\n",
       "      <td>512GB SSD</td>\n",
       "      <td>AMD Radeon Pro 455</td>\n",
       "      <td>macOS</td>\n",
       "      <td>1.83kg</td>\n",
       "      <td>135195.3360</td>\n",
       "    </tr>\n",
       "    <tr>\n",
       "      <th>4</th>\n",
       "      <td>Apple</td>\n",
       "      <td>Ultrabook</td>\n",
       "      <td>13.3</td>\n",
       "      <td>IPS Panel Retina Display 2560x1600</td>\n",
       "      <td>Intel Core i5 3.1GHz</td>\n",
       "      <td>8GB</td>\n",
       "      <td>256GB SSD</td>\n",
       "      <td>Intel Iris Plus Graphics 650</td>\n",
       "      <td>macOS</td>\n",
       "      <td>1.37kg</td>\n",
       "      <td>96095.8080</td>\n",
       "    </tr>\n",
       "  </tbody>\n",
       "</table>\n",
       "</div>"
      ],
      "text/plain": [
       "  Company   TypeName  Inches                    ScreenResolution  \\\n",
       "0   Apple  Ultrabook    13.3  IPS Panel Retina Display 2560x1600   \n",
       "1   Apple  Ultrabook    13.3                            1440x900   \n",
       "2      HP   Notebook    15.6                   Full HD 1920x1080   \n",
       "3   Apple  Ultrabook    15.4  IPS Panel Retina Display 2880x1800   \n",
       "4   Apple  Ultrabook    13.3  IPS Panel Retina Display 2560x1600   \n",
       "\n",
       "                          Cpu   Ram               Memory  \\\n",
       "0        Intel Core i5 2.3GHz   8GB            128GB SSD   \n",
       "1        Intel Core i5 1.8GHz   8GB  128GB Flash Storage   \n",
       "2  Intel Core i5 7200U 2.5GHz   8GB            256GB SSD   \n",
       "3        Intel Core i7 2.7GHz  16GB            512GB SSD   \n",
       "4        Intel Core i5 3.1GHz   8GB            256GB SSD   \n",
       "\n",
       "                            Gpu  OpSys  Weight        Price  \n",
       "0  Intel Iris Plus Graphics 640  macOS  1.37kg   71378.6832  \n",
       "1        Intel HD Graphics 6000  macOS  1.34kg   47895.5232  \n",
       "2         Intel HD Graphics 620  No OS  1.86kg   30636.0000  \n",
       "3            AMD Radeon Pro 455  macOS  1.83kg  135195.3360  \n",
       "4  Intel Iris Plus Graphics 650  macOS  1.37kg   96095.8080  "
      ]
     },
     "execution_count": 8,
     "metadata": {},
     "output_type": "execute_result"
    }
   ],
   "source": [
    "df.head()"
   ]
  },
  {
   "cell_type": "code",
   "execution_count": 11,
   "id": "2a33b5a4-33ea-49ba-ae1b-abc2831be664",
   "metadata": {},
   "outputs": [
    {
     "data": {
      "text/plain": [
       "Company             0\n",
       "TypeName            0\n",
       "Inches              0\n",
       "ScreenResolution    0\n",
       "Cpu                 0\n",
       "Ram                 0\n",
       "Memory              0\n",
       "Gpu                 0\n",
       "OpSys               0\n",
       "Weight              0\n",
       "Price               0\n",
       "dtype: int64"
      ]
     },
     "execution_count": 11,
     "metadata": {},
     "output_type": "execute_result"
    }
   ],
   "source": [
    "df.isnull().sum()"
   ]
  },
  {
   "cell_type": "code",
   "execution_count": 11,
   "id": "c446bc52-1176-484e-82c6-bd1353b16b0b",
   "metadata": {},
   "outputs": [
    {
     "data": {
      "text/plain": [
       "29"
      ]
     },
     "execution_count": 11,
     "metadata": {},
     "output_type": "execute_result"
    }
   ],
   "source": [
    "# checking Duplicate Row\n",
    "df.duplicated().sum()"
   ]
  },
  {
   "cell_type": "code",
   "execution_count": 10,
   "id": "fd7cd51a-0c9c-4094-a132-8eac3df7f429",
   "metadata": {},
   "outputs": [
    {
     "name": "stdout",
     "output_type": "stream",
     "text": [
      "<class 'pandas.core.frame.DataFrame'>\n",
      "RangeIndex: 1303 entries, 0 to 1302\n",
      "Data columns (total 11 columns):\n",
      " #   Column            Non-Null Count  Dtype  \n",
      "---  ------            --------------  -----  \n",
      " 0   Company           1303 non-null   object \n",
      " 1   TypeName          1303 non-null   object \n",
      " 2   Inches            1303 non-null   float64\n",
      " 3   ScreenResolution  1303 non-null   object \n",
      " 4   Cpu               1303 non-null   object \n",
      " 5   Ram               1303 non-null   object \n",
      " 6   Memory            1303 non-null   object \n",
      " 7   Gpu               1303 non-null   object \n",
      " 8   OpSys             1303 non-null   object \n",
      " 9   Weight            1303 non-null   object \n",
      " 10  Price             1303 non-null   float64\n",
      "dtypes: float64(2), object(9)\n",
      "memory usage: 112.1+ KB\n"
     ]
    }
   ],
   "source": [
    "df.info()"
   ]
  },
  {
   "cell_type": "markdown",
   "id": "8334ac22-9961-4767-a371-43169436aeb3",
   "metadata": {},
   "source": [
    "#### 1. we have to seperate Categorical variables and Numerical Variables"
   ]
  },
  {
   "cell_type": "code",
   "execution_count": 12,
   "id": "61ff2a3d-6d17-47b5-b93b-7837e89530eb",
   "metadata": {},
   "outputs": [
    {
     "data": {
      "text/plain": [
       "(Index(['Company', 'TypeName', 'ScreenResolution', 'Cpu', 'Ram', 'Memory',\n",
       "        'Gpu', 'OpSys', 'Weight'],\n",
       "       dtype='object'),\n",
       " Index(['Inches', 'Price'], dtype='object'))"
      ]
     },
     "execution_count": 12,
     "metadata": {},
     "output_type": "execute_result"
    }
   ],
   "source": [
    "# Categorical Varaible\n",
    "cat_vars = df.select_dtypes(include = [\"object\"]).columns\n",
    "# Numerical Variable\n",
    "num_vars = df.select_dtypes(include = [\"int32\",'int64','float32','float64']).columns\n",
    "\n",
    "cat_vars, num_vars"
   ]
  },
  {
   "cell_type": "code",
   "execution_count": 13,
   "id": "fa386f3a-8d81-4e7a-862a-dbd82104c7ed",
   "metadata": {},
   "outputs": [
    {
     "data": {
      "text/plain": [
       "array(['Apple', 'HP', 'Acer', 'Asus', 'Dell', 'Lenovo', 'Chuwi', 'MSI',\n",
       "       'Microsoft', 'Toshiba', 'Huawei', 'Xiaomi', 'Vero', 'Razer',\n",
       "       'Mediacom', 'Samsung', 'Google', 'Fujitsu', 'LG'], dtype=object)"
      ]
     },
     "execution_count": 13,
     "metadata": {},
     "output_type": "execute_result"
    }
   ],
   "source": [
    "df[\"Company\"].unique()"
   ]
  },
  {
   "cell_type": "code",
   "execution_count": 29,
   "id": "5a9ecda0-d53a-443b-a570-d384b76fe44b",
   "metadata": {},
   "outputs": [
    {
     "data": {
      "text/plain": [
       "Company\n",
       "Dell         297\n",
       "Lenovo       297\n",
       "HP           274\n",
       "Asus         158\n",
       "Acer         103\n",
       "MSI           54\n",
       "Toshiba       48\n",
       "Apple         21\n",
       "Samsung        9\n",
       "Razer          7\n",
       "Mediacom       7\n",
       "Microsoft      6\n",
       "Xiaomi         4\n",
       "Vero           4\n",
       "Chuwi          3\n",
       "Google         3\n",
       "Fujitsu        3\n",
       "LG             3\n",
       "Huawei         2\n",
       "Name: count, dtype: int64"
      ]
     },
     "execution_count": 29,
     "metadata": {},
     "output_type": "execute_result"
    }
   ],
   "source": [
    "df[\"Company\"].value_counts()"
   ]
  },
  {
   "cell_type": "markdown",
   "id": "1c7fb303-6503-45bb-82aa-4d153b69ad61",
   "metadata": {},
   "source": [
    "#### 2. Create a function that will show all unique value of columns and count each unique value"
   ]
  },
  {
   "cell_type": "code",
   "execution_count": 14,
   "id": "696d5ef5-8788-4874-b57b-6313260ab778",
   "metadata": {},
   "outputs": [],
   "source": [
    "def unique_values(col):\n",
    "    print(f\"Detail of the ({col}) columns is : {df[col].unique()}\")\n",
    "\n",
    "def values_count(col):\n",
    "    print(f\"Value count of the {col} columns  is : {df[col].value_counts()}\")\n"
   ]
  },
  {
   "cell_type": "code",
   "execution_count": 13,
   "id": "bac8fe7b-4ff5-49f7-b502-6af584c25871",
   "metadata": {},
   "outputs": [
    {
     "name": "stdout",
     "output_type": "stream",
     "text": [
      "Detail of the (Company) columns is : ['Apple' 'HP' 'Acer' 'Asus' 'Dell' 'Lenovo' 'Chuwi' 'MSI' 'Microsoft'\n",
      " 'Toshiba' 'Huawei' 'Xiaomi' 'Vero' 'Razer' 'Mediacom' 'Samsung' 'Google'\n",
      " 'Fujitsu' 'LG']\n",
      "---------------------------------------------------------------------------\n",
      "Detail of the (TypeName) columns is : ['Ultrabook' 'Notebook' 'Netbook' 'Gaming' '2 in 1 Convertible'\n",
      " 'Workstation']\n",
      "---------------------------------------------------------------------------\n",
      "Detail of the (Inches) columns is : [13.3 15.6 15.4 14.  12.  11.6 17.3 10.1 13.5 12.5 13.  18.4 13.9 12.3\n",
      " 17.  15.  14.1 11.3]\n",
      "---------------------------------------------------------------------------\n",
      "Detail of the (ScreenResolution) columns is : ['IPS Panel Retina Display 2560x1600' '1440x900' 'Full HD 1920x1080'\n",
      " 'IPS Panel Retina Display 2880x1800' '1366x768'\n",
      " 'IPS Panel Full HD 1920x1080' 'IPS Panel Retina Display 2304x1440'\n",
      " 'IPS Panel Full HD / Touchscreen 1920x1080'\n",
      " 'Full HD / Touchscreen 1920x1080' 'Touchscreen / Quad HD+ 3200x1800'\n",
      " 'IPS Panel Touchscreen 1920x1200' 'Touchscreen 2256x1504'\n",
      " 'Quad HD+ / Touchscreen 3200x1800' 'IPS Panel 1366x768'\n",
      " 'IPS Panel 4K Ultra HD / Touchscreen 3840x2160'\n",
      " 'IPS Panel Full HD 2160x1440' '4K Ultra HD / Touchscreen 3840x2160'\n",
      " 'Touchscreen 2560x1440' '1600x900' 'IPS Panel 4K Ultra HD 3840x2160'\n",
      " '4K Ultra HD 3840x2160' 'Touchscreen 1366x768'\n",
      " 'IPS Panel Full HD 1366x768' 'IPS Panel 2560x1440'\n",
      " 'IPS Panel Full HD 2560x1440' 'IPS Panel Retina Display 2736x1824'\n",
      " 'Touchscreen 2400x1600' '2560x1440' 'IPS Panel Quad HD+ 2560x1440'\n",
      " 'IPS Panel Quad HD+ 3200x1800'\n",
      " 'IPS Panel Quad HD+ / Touchscreen 3200x1800'\n",
      " 'IPS Panel Touchscreen 1366x768' '1920x1080'\n",
      " 'IPS Panel Full HD 1920x1200'\n",
      " 'IPS Panel Touchscreen / 4K Ultra HD 3840x2160'\n",
      " 'IPS Panel Touchscreen 2560x1440' 'Touchscreen / Full HD 1920x1080'\n",
      " 'Quad HD+ 3200x1800' 'Touchscreen / 4K Ultra HD 3840x2160'\n",
      " 'IPS Panel Touchscreen 2400x1600']\n",
      "---------------------------------------------------------------------------\n",
      "Detail of the (Cpu) columns is : ['Intel Core i5 2.3GHz' 'Intel Core i5 1.8GHz'\n",
      " 'Intel Core i5 7200U 2.5GHz' 'Intel Core i7 2.7GHz'\n",
      " 'Intel Core i5 3.1GHz' 'AMD A9-Series 9420 3GHz' 'Intel Core i7 2.2GHz'\n",
      " 'Intel Core i7 8550U 1.8GHz' 'Intel Core i5 8250U 1.6GHz'\n",
      " 'Intel Core i3 6006U 2GHz' 'Intel Core i7 2.8GHz'\n",
      " 'Intel Core M m3 1.2GHz' 'Intel Core i7 7500U 2.7GHz'\n",
      " 'Intel Core i7 2.9GHz' 'Intel Core i3 7100U 2.4GHz'\n",
      " 'Intel Atom x5-Z8350 1.44GHz' 'Intel Core i5 7300HQ 2.5GHz'\n",
      " 'AMD E-Series E2-9000e 1.5GHz' 'Intel Core i5 1.6GHz'\n",
      " 'Intel Core i7 8650U 1.9GHz' 'Intel Atom x5-Z8300 1.44GHz'\n",
      " 'AMD E-Series E2-6110 1.5GHz' 'AMD A6-Series 9220 2.5GHz'\n",
      " 'Intel Celeron Dual Core N3350 1.1GHz' 'Intel Core i3 7130U 2.7GHz'\n",
      " 'Intel Core i7 7700HQ 2.8GHz' 'Intel Core i5 2.0GHz'\n",
      " 'AMD Ryzen 1700 3GHz' 'Intel Pentium Quad Core N4200 1.1GHz'\n",
      " 'Intel Atom x5-Z8550 1.44GHz' 'Intel Celeron Dual Core N3060 1.6GHz'\n",
      " 'Intel Core i5 1.3GHz' 'AMD FX 9830P 3GHz' 'Intel Core i7 7560U 2.4GHz'\n",
      " 'AMD E-Series 6110 1.5GHz' 'Intel Core i5 6200U 2.3GHz'\n",
      " 'Intel Core M 6Y75 1.2GHz' 'Intel Core i5 7500U 2.7GHz'\n",
      " 'Intel Core i3 6006U 2.2GHz' 'AMD A6-Series 9220 2.9GHz'\n",
      " 'Intel Core i7 6920HQ 2.9GHz' 'Intel Core i5 7Y54 1.2GHz'\n",
      " 'Intel Core i7 7820HK 2.9GHz' 'Intel Xeon E3-1505M V6 3GHz'\n",
      " 'Intel Core i7 6500U 2.5GHz' 'AMD E-Series 9000e 1.5GHz'\n",
      " 'AMD A10-Series A10-9620P 2.5GHz' 'AMD A6-Series A6-9220 2.5GHz'\n",
      " 'Intel Core i5 2.9GHz' 'Intel Core i7 6600U 2.6GHz'\n",
      " 'Intel Core i3 6006U 2.0GHz' 'Intel Celeron Dual Core 3205U 1.5GHz'\n",
      " 'Intel Core i7 7820HQ 2.9GHz' 'AMD A10-Series 9600P 2.4GHz'\n",
      " 'Intel Core i7 7600U 2.8GHz' 'AMD A8-Series 7410 2.2GHz'\n",
      " 'Intel Celeron Dual Core 3855U 1.6GHz'\n",
      " 'Intel Pentium Quad Core N3710 1.6GHz' 'AMD A12-Series 9720P 2.7GHz'\n",
      " 'Intel Core i5 7300U 2.6GHz' 'AMD A12-Series 9720P 3.6GHz'\n",
      " 'Intel Celeron Quad Core N3450 1.1GHz'\n",
      " 'Intel Celeron Dual Core N3060 1.60GHz' 'Intel Core i5 6440HQ 2.6GHz'\n",
      " 'Intel Core i7 6820HQ 2.7GHz' 'AMD Ryzen 1600 3.2GHz'\n",
      " 'Intel Core i7 7Y75 1.3GHz' 'Intel Core i5 7440HQ 2.8GHz'\n",
      " 'Intel Core i7 7660U 2.5GHz' 'Intel Core i7 7700HQ 2.7GHz'\n",
      " 'Intel Core M m3-7Y30 2.2GHz' 'Intel Core i5 7Y57 1.2GHz'\n",
      " 'Intel Core i7 6700HQ 2.6GHz' 'Intel Core i3 6100U 2.3GHz'\n",
      " 'AMD A10-Series 9620P 2.5GHz' 'AMD E-Series 7110 1.8GHz'\n",
      " 'Intel Celeron Dual Core N3350 2.0GHz' 'AMD A9-Series A9-9420 3GHz'\n",
      " 'Intel Core i7 6820HK 2.7GHz' 'Intel Core M 7Y30 1.0GHz'\n",
      " 'Intel Xeon E3-1535M v6 3.1GHz' 'Intel Celeron Quad Core N3160 1.6GHz'\n",
      " 'Intel Core i5 6300U 2.4GHz' 'Intel Core i3 6100U 2.1GHz'\n",
      " 'AMD E-Series E2-9000 2.2GHz' 'Intel Celeron Dual Core N3050 1.6GHz'\n",
      " 'Intel Core M M3-6Y30 0.9GHz' 'AMD A9-Series 9420 2.9GHz'\n",
      " 'Intel Core i5 6300HQ 2.3GHz' 'AMD A6-Series 7310 2GHz'\n",
      " 'Intel Atom Z8350 1.92GHz' 'Intel Xeon E3-1535M v5 2.9GHz'\n",
      " 'Intel Core i5 6260U 1.8GHz' 'Intel Pentium Dual Core N4200 1.1GHz'\n",
      " 'Intel Celeron Quad Core N3710 1.6GHz' 'Intel Core M 1.2GHz'\n",
      " 'AMD A12-Series 9700P 2.5GHz' 'Intel Core i7 7500U 2.5GHz'\n",
      " 'Intel Pentium Dual Core 4405U 2.1GHz' 'AMD A4-Series 7210 2.2GHz'\n",
      " 'Intel Core i7 6560U 2.2GHz' 'Intel Core M m7-6Y75 1.2GHz'\n",
      " 'AMD FX 8800P 2.1GHz' 'Intel Core M M7-6Y75 1.2GHz'\n",
      " 'Intel Core i5 7200U 2.50GHz' 'Intel Core i5 7200U 2.70GHz'\n",
      " 'Intel Atom X5-Z8350 1.44GHz' 'Intel Core i5 7200U 2.7GHz'\n",
      " 'Intel Core M 1.1GHz' 'Intel Pentium Dual Core 4405Y 1.5GHz'\n",
      " 'Intel Pentium Quad Core N3700 1.6GHz' 'Intel Core M 6Y54 1.1GHz'\n",
      " 'Intel Core i7 6500U 2.50GHz' 'Intel Celeron Dual Core N3350 2GHz'\n",
      " 'Samsung Cortex A72&A53 2.0GHz' 'AMD E-Series 9000 2.2GHz'\n",
      " 'Intel Core M 6Y30 0.9GHz' 'AMD A9-Series 9410 2.9GHz']\n",
      "---------------------------------------------------------------------------\n",
      "Detail of the (Ram) columns is : ['8GB' '16GB' '4GB' '2GB' '12GB' '6GB' '32GB' '24GB' '64GB']\n",
      "---------------------------------------------------------------------------\n",
      "Detail of the (Memory) columns is : ['128GB SSD' '128GB Flash Storage' '256GB SSD' '512GB SSD' '500GB HDD'\n",
      " '256GB Flash Storage' '1TB HDD' '32GB Flash Storage'\n",
      " '128GB SSD +  1TB HDD' '256GB SSD +  256GB SSD' '64GB Flash Storage'\n",
      " '256GB SSD +  1TB HDD' '256GB SSD +  2TB HDD' '32GB SSD' '2TB HDD'\n",
      " '64GB SSD' '1.0TB Hybrid' '512GB SSD +  1TB HDD' '1TB SSD'\n",
      " '256GB SSD +  500GB HDD' '128GB SSD +  2TB HDD' '512GB SSD +  512GB SSD'\n",
      " '16GB SSD' '16GB Flash Storage' '512GB SSD +  256GB SSD'\n",
      " '512GB SSD +  2TB HDD' '64GB Flash Storage +  1TB HDD' '180GB SSD'\n",
      " '1TB HDD +  1TB HDD' '32GB HDD' '1TB SSD +  1TB HDD'\n",
      " '512GB Flash Storage' '128GB HDD' '240GB SSD' '8GB SSD' '508GB Hybrid'\n",
      " '1.0TB HDD' '512GB SSD +  1.0TB Hybrid' '256GB SSD +  1.0TB Hybrid']\n",
      "---------------------------------------------------------------------------\n",
      "Detail of the (Gpu) columns is : ['Intel Iris Plus Graphics 640' 'Intel HD Graphics 6000'\n",
      " 'Intel HD Graphics 620' 'AMD Radeon Pro 455'\n",
      " 'Intel Iris Plus Graphics 650' 'AMD Radeon R5' 'Intel Iris Pro Graphics'\n",
      " 'Nvidia GeForce MX150' 'Intel UHD Graphics 620' 'Intel HD Graphics 520'\n",
      " 'AMD Radeon Pro 555' 'AMD Radeon R5 M430' 'Intel HD Graphics 615'\n",
      " 'AMD Radeon Pro 560' 'Nvidia GeForce 940MX' 'Intel HD Graphics 400'\n",
      " 'Nvidia GeForce GTX 1050' 'AMD Radeon R2' 'AMD Radeon 530'\n",
      " 'Nvidia GeForce 930MX' 'Intel HD Graphics' 'Intel HD Graphics 500'\n",
      " 'Nvidia GeForce 930MX ' 'Nvidia GeForce GTX 1060' 'Nvidia GeForce 150MX'\n",
      " 'Intel Iris Graphics 540' 'AMD Radeon RX 580' 'Nvidia GeForce 920MX'\n",
      " 'AMD Radeon R4 Graphics' 'AMD Radeon 520' 'Nvidia GeForce GTX 1070'\n",
      " 'Nvidia GeForce GTX 1050 Ti' 'Nvidia GeForce MX130' 'AMD R4 Graphics'\n",
      " 'Nvidia GeForce GTX 940MX' 'AMD Radeon RX 560' 'Nvidia GeForce 920M'\n",
      " 'AMD Radeon R7 M445' 'AMD Radeon RX 550' 'Nvidia GeForce GTX 1050M'\n",
      " 'Intel HD Graphics 515' 'AMD Radeon R5 M420' 'Intel HD Graphics 505'\n",
      " 'Nvidia GTX 980 SLI' 'AMD R17M-M1-70' 'Nvidia GeForce GTX 1080'\n",
      " 'Nvidia Quadro M1200' 'Nvidia GeForce 920MX ' 'Nvidia GeForce GTX 950M'\n",
      " 'AMD FirePro W4190M ' 'Nvidia GeForce GTX 980M' 'Intel Iris Graphics 550'\n",
      " 'Nvidia GeForce 930M' 'Intel HD Graphics 630' 'AMD Radeon R5 430'\n",
      " 'Nvidia GeForce GTX 940M' 'Intel HD Graphics 510' 'Intel HD Graphics 405'\n",
      " 'AMD Radeon RX 540' 'Nvidia GeForce GT 940MX' 'AMD FirePro W5130M'\n",
      " 'Nvidia Quadro M2200M' 'AMD Radeon R4' 'Nvidia Quadro M620'\n",
      " 'AMD Radeon R7 M460' 'Intel HD Graphics 530' 'Nvidia GeForce GTX 965M'\n",
      " 'Nvidia GeForce GTX1080' 'Nvidia GeForce GTX1050 Ti'\n",
      " 'Nvidia GeForce GTX 960M' 'AMD Radeon R2 Graphics' 'Nvidia Quadro M620M'\n",
      " 'Nvidia GeForce GTX 970M' 'Nvidia GeForce GTX 960<U+039C>'\n",
      " 'Intel Graphics 620' 'Nvidia GeForce GTX 960' 'AMD Radeon R5 520'\n",
      " 'AMD Radeon R7 M440' 'AMD Radeon R7' 'Nvidia Quadro M520M'\n",
      " 'Nvidia Quadro M2200' 'Nvidia Quadro M2000M' 'Intel HD Graphics 540'\n",
      " 'Nvidia Quadro M1000M' 'AMD Radeon 540' 'Nvidia GeForce GTX 1070M'\n",
      " 'Nvidia GeForce GTX1060' 'Intel HD Graphics 5300' 'AMD Radeon R5 M420X'\n",
      " 'AMD Radeon R7 Graphics' 'Nvidia GeForce 920' 'Nvidia GeForce 940M'\n",
      " 'Nvidia GeForce GTX 930MX' 'AMD Radeon R7 M465' 'AMD Radeon R3'\n",
      " 'Nvidia GeForce GTX 1050Ti' 'AMD Radeon R7 M365X' 'AMD Radeon R9 M385'\n",
      " 'Intel HD Graphics 620 ' 'Nvidia Quadro 3000M' 'Nvidia GeForce GTX 980 '\n",
      " 'AMD Radeon R5 M330' 'AMD FirePro W4190M' 'AMD FirePro W6150M'\n",
      " 'AMD Radeon R5 M315' 'Nvidia Quadro M500M' 'AMD Radeon R7 M360'\n",
      " 'Nvidia Quadro M3000M' 'Nvidia GeForce 960M' 'ARM Mali T860 MP4']\n",
      "---------------------------------------------------------------------------\n",
      "Detail of the (OpSys) columns is : ['macOS' 'No OS' 'Windows 10' 'Mac OS X' 'Linux' 'Android' 'Windows 10 S'\n",
      " 'Chrome OS' 'Windows 7']\n",
      "---------------------------------------------------------------------------\n",
      "Detail of the (Weight) columns is : ['1.37kg' '1.34kg' '1.86kg' '1.83kg' '2.1kg' '2.04kg' '1.3kg' '1.6kg'\n",
      " '2.2kg' '0.92kg' '1.22kg' '0.98kg' '2.5kg' '1.62kg' '1.91kg' '2.3kg'\n",
      " '1.35kg' '1.88kg' '1.89kg' '1.65kg' '2.71kg' '1.2kg' '1.44kg' '2.8kg'\n",
      " '2kg' '2.65kg' '2.77kg' '3.2kg' '0.69kg' '1.49kg' '2.4kg' '2.13kg'\n",
      " '2.43kg' '1.7kg' '1.4kg' '1.8kg' '1.9kg' '3kg' '1.252kg' '2.7kg' '2.02kg'\n",
      " '1.63kg' '1.96kg' '1.21kg' '2.45kg' '1.25kg' '1.5kg' '2.62kg' '1.38kg'\n",
      " '1.58kg' '1.85kg' '1.23kg' '1.26kg' '2.16kg' '2.36kg' '2.05kg' '1.32kg'\n",
      " '1.75kg' '0.97kg' '2.9kg' '2.56kg' '1.48kg' '1.74kg' '1.1kg' '1.56kg'\n",
      " '2.03kg' '1.05kg' '4.4kg' '1.90kg' '1.29kg' '2.0kg' '1.95kg' '2.06kg'\n",
      " '1.12kg' '1.42kg' '3.49kg' '3.35kg' '2.23kg' '4.42kg' '2.69kg' '2.37kg'\n",
      " '4.7kg' '3.6kg' '2.08kg' '4.3kg' '1.68kg' '1.41kg' '4.14kg' '2.18kg'\n",
      " '2.24kg' '2.67kg' '2.14kg' '1.36kg' '2.25kg' '2.15kg' '2.19kg' '2.54kg'\n",
      " '3.42kg' '1.28kg' '2.33kg' '1.45kg' '2.79kg' '1.84kg' '2.6kg' '2.26kg'\n",
      " '3.25kg' '1.59kg' '1.13kg' '1.78kg' '1.10kg' '1.15kg' '1.27kg' '1.43kg'\n",
      " '2.31kg' '1.16kg' '1.64kg' '2.17kg' '1.47kg' '3.78kg' '1.79kg' '0.91kg'\n",
      " '1.99kg' '4.33kg' '1.93kg' '1.87kg' '2.63kg' '3.4kg' '3.14kg' '1.94kg'\n",
      " '1.24kg' '4.6kg' '4.5kg' '2.73kg' '1.39kg' '2.29kg' '2.59kg' '2.94kg'\n",
      " '1.14kg' '3.8kg' '3.31kg' '1.09kg' '3.21kg' '1.19kg' '1.98kg' '1.17kg'\n",
      " '4.36kg' '1.71kg' '2.32kg' '4.2kg' '1.55kg' '0.81kg' '1.18kg' '2.72kg'\n",
      " '1.31kg' '0.920kg' '3.74kg' '1.76kg' '1.54kg' '2.83kg' '2.07kg' '2.38kg'\n",
      " '3.58kg' '1.08kg' '2.20kg' '2.75kg' '1.70kg' '2.99kg' '1.11kg' '2.09kg'\n",
      " '4kg' '3.0kg' '0.99kg' '3.52kg' '2.591kg' '2.21kg' '3.3kg' '2.191kg'\n",
      " '2.34kg' '4.0kg']\n",
      "---------------------------------------------------------------------------\n",
      "Detail of the (Price) columns is : [ 71378.6832  47895.5232  30636.     135195.336   96095.808   21312.\n",
      " 114017.6016  61735.536   79653.6     41025.6     20986.992   18381.0672\n",
      " 130001.6016  26581.392   67260.672   80908.344   39693.6    152274.24\n",
      "  26586.72    52161.12    10224.432   53226.72    13746.24    43636.32\n",
      "  35111.52    22305.1392  58554.72    42624.      69157.44    47738.88\n",
      "  13053.0672  10602.72    23389.92    99580.32    53173.44    13266.72\n",
      "  19553.76    26037.4032  46833.12    20725.92    79866.72    27864.9072\n",
      "  36336.96    75604.32    19660.32    69210.72    34045.92    24828.48\n",
      "  16996.32    44808.48    21231.5472  58767.84    20459.52    40908.384\n",
      "  31232.2032 130482.72    22111.2     31914.72    50136.48    36763.2\n",
      " 105654.24    23373.4032  12201.12    29250.72    50562.72    58021.92\n",
      "  50882.4     46353.6     58341.6     27652.32    45554.4     28238.4\n",
      "  52054.56    58403.4048  80452.8     45820.8     21258.72    21045.6\n",
      "  71874.72    37242.72    31914.1872  77202.72    87858.72    36709.92\n",
      "  63776.16    63669.6     55890.72    45128.16    31962.672   25840.8\n",
      "  30742.56    66546.72    38308.32    18594.72    34472.16    59620.32\n",
      "  71395.2     22105.872   63563.04    78854.4     67239.36    73473.12\n",
      "  74538.72    38468.16    86793.12    74538.1872  57755.52    60223.9824\n",
      "  30049.92    59567.04    25521.12   119427.12    33513.12    67718.88\n",
      "  24029.28    13799.52    43263.36    14811.3072  74378.88    49443.84\n",
      "  34045.3872  23922.72    47099.52    30476.16    31861.44    52640.64\n",
      "  13445.7408  49976.64    34898.4     59461.5456  46300.32    32074.56\n",
      " 107305.92    18328.32   108105.12    23816.16    66560.5728  47898.72\n",
      "  26533.44   100699.2     57648.96    32980.32    70063.2     21471.84\n",
      "  42890.4     38787.84    57489.12    18541.44    95850.72    19367.8128\n",
      "  56502.9072  45501.12    40173.12    16463.52    26053.92    49177.44\n",
      "  24455.52   149130.72    43316.64    98514.72    42251.04    63882.72\n",
      "  82530.72   127712.16    41505.12    52693.92    57808.8    150462.72\n",
      "  13852.8     53274.672   37189.44    44701.92    48697.92   324954.72\n",
      "  51095.52    55677.6     98301.6     26267.04    39533.76    93186.72\n",
      " 162770.4     74485.44   103842.72    31808.16    74964.96    49650.5664\n",
      "  31381.92    54931.68    61218.72    68145.12    36089.208   72620.64\n",
      "  42304.32   130873.7952  44328.96    45768.0528  40972.32    47472.48\n",
      "  67612.32    21258.1872  17582.4     45767.52    20779.2    207259.2\n",
      "  45074.88    61005.6     47365.92    52480.8     29783.52   159786.72\n",
      "  35964.     108691.2     24988.32    37402.56    23757.552   56423.52\n",
      " 133146.72    90522.72    60845.76    23656.32    35004.96    30103.2\n",
      "  42570.72    24881.76    54239.04    46886.4    104370.192   39164.5296\n",
      "  37992.3696  45234.72    22803.84    44169.12    30849.12    50669.28\n",
      "  58448.16    62817.12    35112.0528  63243.36    97449.12    39373.92\n",
      " 153705.3408  78215.04    27119.52   113060.16    34578.72    67399.2\n",
      "  19180.2672 105228.      55571.04   111834.72    14652.      44968.32\n",
      "  24503.472   52214.4     68837.76    58288.32    48058.56    15557.76\n",
      "  55938.672   71128.8    140605.92    50243.04    71075.52    67559.04\n",
      "  60952.32    14651.4672  60885.72    14646.672   38148.48    84129.12\n",
      "  60153.12    14865.12    85672.1088  19980.      35324.64   108020.9376\n",
      "  69477.12    75071.52    92615.0256  74751.84    51729.552   17155.6272\n",
      "  29696.6736  76030.56    50349.6     43103.52    93240.      22697.28\n",
      " 117162.72    46300.8528  26053.3872  29463.84    15238.08    63456.48\n",
      "  21498.48    88178.4     93181.392  121584.96    72940.32   113752.8\n",
      " 133679.52    55357.92    84768.48    36975.7872  41498.1936  65510.9568\n",
      " 144495.36   139860.      16303.68    81465.12    60978.96   119826.72\n",
      "  99793.44    93080.16    89510.4     21791.52    16221.096  102564.\n",
      " 103523.04    42038.4528  31909.392   79920.      28768.536   64755.4464\n",
      " 101178.72    61751.52    60867.072  106506.72    15930.72    14332.32\n",
      "  53812.8    130269.6     90309.6     18488.16   126912.96    39906.72\n",
      "  76137.12    23539.104  106187.04    54757.9872 137941.92    81731.52\n",
      "  71661.6    109010.88    34093.872   28984.32    23176.8    111355.2\n",
      "  16197.12    40439.52    98994.24    61485.12    67932.      98133.768\n",
      "  39427.2    128298.24    72673.92    89084.16    31254.048   38681.28\n",
      "  13261.392  124568.64    95797.44   103896.      53918.8272  71928.\n",
      "  47893.392   48538.08    18115.2     32979.7872  85194.72    14119.2\n",
      "  65214.72    32660.64    70489.44    44542.08    64961.1072  74589.336\n",
      "  13053.6     27783.9216 158135.04    80133.12    68184.0144  31168.8\n",
      "  73366.56   160520.3856  42486.0048  39207.1536  42517.44    37589.04\n",
      "  41824.8     24634.008   21152.16    92121.12    59513.2272 143802.72\n",
      "  28992.312   68198.4     11934.72    13586.4     30310.992   32921.712\n",
      "  33566.4    104695.2     52747.2     99153.5472  44222.4     36496.8\n",
      "  99367.2    141884.64   145401.12    39907.2528  53733.9456  81912.1392\n",
      "  15717.6    125154.72    79813.44    89137.44    32447.52    94305.6\n",
      "  32127.84    28185.12   107892.      78534.72    88977.6     93932.64\n",
      "  64948.32    35616.6144  17529.12    24775.2    122490.72   261018.72\n",
      "  46833.6528  23650.992   19127.52    62231.04    30316.32    74005.92\n",
      " 120831.5808  20193.12    59886.72    78055.2     41345.28    49656.96\n",
      "  12733.92    24935.04    34046.4528  96969.6    101232.      78801.12\n",
      "  48304.7136  93635.3376 127818.72    59087.52    27753.552  130536.\n",
      "  62284.32    23976.      14598.72    48964.32   138474.72    64628.64\n",
      "  84395.52    37775.52    77250.672   63499.104   19441.872   56689.92\n",
      "  60472.8     63722.88   167691.8736  65481.12    22324.32    28504.8\n",
      "  28717.92    79215.1056  67026.24    21951.36    99519.048   43580.376\n",
      "  55091.52    68944.32    26373.6     53168.112  109277.28   149916.6\n",
      "  32639.8608  29073.2976  16943.04   101657.7072 137995.2     51841.44\n",
      "  35644.32   100006.56    22857.12    33110.856   42357.6     98834.4\n",
      "  34898.9328  15877.44    76012.4448  45664.6896  63936.      89864.1792\n",
      "  44574.048  194972.832   71847.0144  26101.872   31409.6256 103096.8\n",
      "  34632.      51148.8    128884.32   111593.8944  21887.424   64308.96\n",
      "  35431.2     81784.8    175770.72    60031.1088 233845.92    25308.\n",
      "  58394.88    45282.672   83170.08   152859.7872  55837.44    99047.52\n",
      "  83063.52    25059.7152  62938.0656  54345.6     66280.32   126273.6\n",
      "  33886.08   154458.72    31003.632  191211.264  125208.      93985.92\n",
      " 100752.48    71341.92    10810.512  104961.6     62071.2    124142.4\n",
      "  43156.8    110017.872   39640.32    41558.4     89457.12   128671.2\n",
      "  51202.08    42081.0768  20512.8    133467.4656  40226.4     58075.2\n",
      "  99900.      72354.24    18914.4    292986.72    63190.08    87912.\n",
      " 147832.2864  17316.      31435.2    163723.5792  48484.8     38041.3872\n",
      "  99633.6     32767.2     54665.28   121318.56    46087.2    101391.84\n",
      "  41931.36   136343.52    45323.1648  68464.8     54185.76   119347.2\n",
      "  94731.84    56210.4     73952.64    39160.8     90043.2     49816.8\n",
      "  48618.      90576.      36486.144   24279.696   72988.272   15824.16\n",
      " 141138.72    78588.      49497.12    47952.      32713.92   107257.968\n",
      " 109170.72   104588.1072  79014.24    42037.92    64202.4    165168.\n",
      "  54291.7872  46939.68    59668.8048  36496.2672  69103.6272  97236.\n",
      "  38889.072   37725.4368  15392.592   58874.4     88924.32    29762.208\n",
      "  87325.92   146946.24    78438.816   94572.      77788.8     79333.3872\n",
      " 168045.12    41292.      93772.8     53759.52    95371.2     45101.52\n",
      "  24808.2336  43956.     167778.72    37029.6    104587.5744 149184.\n",
      "  62870.4    109218.672   53386.56    48751.2     42943.68    63349.92\n",
      " 101658.24    14418.6336  61272.      20246.4    111301.92    67132.8\n",
      "  29144.16    58607.4672  55904.5728  36443.52    81997.92    84715.2\n",
      " 100550.5488  64468.8     41025.0672  79387.2    118761.12    42410.3472\n",
      "  63159.7104  55754.3232  56476.8     86526.72    57542.4     65480.5872\n",
      "  91908.      56633.976   53839.9728  11231.424   75924.      55922.688\n",
      "  53280.     112065.9552  78268.32    82351.6992 122010.6672  15339.312\n",
      " 139593.6    120093.12    37570.392   96916.32    57009.6     52746.6672\n",
      " 102777.12    77682.24   211788.      42517.9728  70809.12    69264.\n",
      "  25679.8944  91294.7472  28771.2     50083.2    172627.2     34433.2656\n",
      "  39960.      54931.1472  20619.36    20965.1472  18434.3472  43601.688\n",
      "  34035.264   26640.      60480.792   62176.1616  11135.52    75289.968\n",
      "  80516.2032  46193.76    21205.44    40980.312  104908.32   146519.4672\n",
      "  54825.12   118601.28    69929.4672  10442.88    80612.64    27899.0064\n",
      " 100965.6    109244.2464  14811.84    40066.56    32820.48   210424.032\n",
      "  41771.52   115709.2416 130003.2     60888.384  122381.496   53807.472\n",
      " 124621.92    18061.92   119916.2304  25515.2592  79536.384   42010.7472\n",
      " 108744.48    94252.32    25414.0272  74059.2     36177.12    69530.4\n",
      " 114731.5536  87219.36    44275.68    47686.1328  17742.24    48431.52\n",
      "  36816.48    61964.64    70702.56    19607.04   114552.      14492.16\n",
      " 109165.392  142790.4    103842.1872   9270.72    67772.16    78647.1408\n",
      "  91288.3536  78694.56    27804.7008 186426.72    24988.8528  85141.44\n",
      "  25467.84   117119.5632  39267.36    31838.5296  19276.704   85248.\n",
      "  46620.     123876.      30529.44    96596.64    17262.72    57116.16\n",
      "  23655.7872  26107.2     47685.6     44382.7728  38841.12    15397.92\n",
      "  29303.4672  42943.1472  38378.6496  33992.64    40705.92  ]\n",
      "---------------------------------------------------------------------------\n"
     ]
    }
   ],
   "source": [
    "# This function will show all unique value of thecolumns\n",
    "for col in df.columns:\n",
    "    unique_values(col)\n",
    "    print(\"-\"*75)"
   ]
  },
  {
   "cell_type": "code",
   "execution_count": 14,
   "id": "09dba253-eb17-4e3f-bc7e-d5984e98d93e",
   "metadata": {},
   "outputs": [
    {
     "name": "stdout",
     "output_type": "stream",
     "text": [
      "Value count of the Company columns  is : Company\n",
      "Dell         297\n",
      "Lenovo       297\n",
      "HP           274\n",
      "Asus         158\n",
      "Acer         103\n",
      "MSI           54\n",
      "Toshiba       48\n",
      "Apple         21\n",
      "Samsung        9\n",
      "Razer          7\n",
      "Mediacom       7\n",
      "Microsoft      6\n",
      "Xiaomi         4\n",
      "Vero           4\n",
      "Chuwi          3\n",
      "Google         3\n",
      "Fujitsu        3\n",
      "LG             3\n",
      "Huawei         2\n",
      "Name: count, dtype: int64\n",
      "---------------------------------------------------------------------------\n",
      "Value count of the TypeName columns  is : TypeName\n",
      "Notebook              727\n",
      "Gaming                205\n",
      "Ultrabook             196\n",
      "2 in 1 Convertible    121\n",
      "Workstation            29\n",
      "Netbook                25\n",
      "Name: count, dtype: int64\n",
      "---------------------------------------------------------------------------\n",
      "Value count of the Inches columns  is : Inches\n",
      "15.6    665\n",
      "14.0    197\n",
      "13.3    164\n",
      "17.3    164\n",
      "12.5     39\n",
      "11.6     33\n",
      "12.0      6\n",
      "13.5      6\n",
      "13.9      6\n",
      "12.3      5\n",
      "10.1      4\n",
      "15.4      4\n",
      "15.0      4\n",
      "13.0      2\n",
      "18.4      1\n",
      "17.0      1\n",
      "14.1      1\n",
      "11.3      1\n",
      "Name: count, dtype: int64\n",
      "---------------------------------------------------------------------------\n",
      "Value count of the ScreenResolution columns  is : ScreenResolution\n",
      "Full HD 1920x1080                                507\n",
      "1366x768                                         281\n",
      "IPS Panel Full HD 1920x1080                      230\n",
      "IPS Panel Full HD / Touchscreen 1920x1080         53\n",
      "Full HD / Touchscreen 1920x1080                   47\n",
      "1600x900                                          23\n",
      "Touchscreen 1366x768                              16\n",
      "Quad HD+ / Touchscreen 3200x1800                  15\n",
      "IPS Panel 4K Ultra HD 3840x2160                   12\n",
      "IPS Panel 4K Ultra HD / Touchscreen 3840x2160     11\n",
      "4K Ultra HD / Touchscreen 3840x2160               10\n",
      "4K Ultra HD 3840x2160                              7\n",
      "Touchscreen 2560x1440                              7\n",
      "IPS Panel 1366x768                                 7\n",
      "IPS Panel Quad HD+ / Touchscreen 3200x1800         6\n",
      "IPS Panel Retina Display 2560x1600                 6\n",
      "IPS Panel Retina Display 2304x1440                 6\n",
      "Touchscreen 2256x1504                              6\n",
      "IPS Panel Touchscreen 2560x1440                    5\n",
      "IPS Panel Retina Display 2880x1800                 4\n",
      "IPS Panel Touchscreen 1920x1200                    4\n",
      "1440x900                                           4\n",
      "IPS Panel 2560x1440                                4\n",
      "IPS Panel Quad HD+ 2560x1440                       3\n",
      "Quad HD+ 3200x1800                                 3\n",
      "1920x1080                                          3\n",
      "Touchscreen 2400x1600                              3\n",
      "2560x1440                                          3\n",
      "IPS Panel Touchscreen 1366x768                     3\n",
      "IPS Panel Touchscreen / 4K Ultra HD 3840x2160      2\n",
      "IPS Panel Full HD 2160x1440                        2\n",
      "IPS Panel Quad HD+ 3200x1800                       2\n",
      "IPS Panel Retina Display 2736x1824                 1\n",
      "IPS Panel Full HD 1920x1200                        1\n",
      "IPS Panel Full HD 2560x1440                        1\n",
      "IPS Panel Full HD 1366x768                         1\n",
      "Touchscreen / Full HD 1920x1080                    1\n",
      "Touchscreen / Quad HD+ 3200x1800                   1\n",
      "Touchscreen / 4K Ultra HD 3840x2160                1\n",
      "IPS Panel Touchscreen 2400x1600                    1\n",
      "Name: count, dtype: int64\n",
      "---------------------------------------------------------------------------\n",
      "Value count of the Cpu columns  is : Cpu\n",
      "Intel Core i5 7200U 2.5GHz       190\n",
      "Intel Core i7 7700HQ 2.8GHz      146\n",
      "Intel Core i7 7500U 2.7GHz       134\n",
      "Intel Core i7 8550U 1.8GHz        73\n",
      "Intel Core i5 8250U 1.6GHz        72\n",
      "                                ... \n",
      "Intel Core M M3-6Y30 0.9GHz        1\n",
      "AMD A9-Series 9420 2.9GHz          1\n",
      "Intel Core i3 6006U 2.2GHz         1\n",
      "AMD A6-Series 7310 2GHz            1\n",
      "Intel Xeon E3-1535M v6 3.1GHz      1\n",
      "Name: count, Length: 118, dtype: int64\n",
      "---------------------------------------------------------------------------\n",
      "Value count of the Ram columns  is : Ram\n",
      "8GB     619\n",
      "4GB     375\n",
      "16GB    200\n",
      "6GB      41\n",
      "12GB     25\n",
      "2GB      22\n",
      "32GB     17\n",
      "24GB      3\n",
      "64GB      1\n",
      "Name: count, dtype: int64\n",
      "---------------------------------------------------------------------------\n",
      "Value count of the Memory columns  is : Memory\n",
      "256GB SSD                        412\n",
      "1TB HDD                          223\n",
      "500GB HDD                        132\n",
      "512GB SSD                        118\n",
      "128GB SSD +  1TB HDD              94\n",
      "128GB SSD                         76\n",
      "256GB SSD +  1TB HDD              73\n",
      "32GB Flash Storage                38\n",
      "2TB HDD                           16\n",
      "64GB Flash Storage                15\n",
      "512GB SSD +  1TB HDD              14\n",
      "1TB SSD                           14\n",
      "256GB SSD +  2TB HDD              10\n",
      "1.0TB Hybrid                       9\n",
      "256GB Flash Storage                8\n",
      "16GB Flash Storage                 7\n",
      "32GB SSD                           6\n",
      "180GB SSD                          5\n",
      "128GB Flash Storage                4\n",
      "512GB SSD +  2TB HDD               3\n",
      "16GB SSD                           3\n",
      "512GB Flash Storage                2\n",
      "1TB SSD +  1TB HDD                 2\n",
      "256GB SSD +  500GB HDD             2\n",
      "128GB SSD +  2TB HDD               2\n",
      "256GB SSD +  256GB SSD             2\n",
      "512GB SSD +  256GB SSD             1\n",
      "512GB SSD +  512GB SSD             1\n",
      "64GB Flash Storage +  1TB HDD      1\n",
      "1TB HDD +  1TB HDD                 1\n",
      "32GB HDD                           1\n",
      "64GB SSD                           1\n",
      "128GB HDD                          1\n",
      "240GB SSD                          1\n",
      "8GB SSD                            1\n",
      "508GB Hybrid                       1\n",
      "1.0TB HDD                          1\n",
      "512GB SSD +  1.0TB Hybrid          1\n",
      "256GB SSD +  1.0TB Hybrid          1\n",
      "Name: count, dtype: int64\n",
      "---------------------------------------------------------------------------\n",
      "Value count of the Gpu columns  is : Gpu\n",
      "Intel HD Graphics 620      281\n",
      "Intel HD Graphics 520      185\n",
      "Intel UHD Graphics 620      68\n",
      "Nvidia GeForce GTX 1050     66\n",
      "Nvidia GeForce GTX 1060     48\n",
      "                          ... \n",
      "AMD Radeon R5 520            1\n",
      "AMD Radeon R7                1\n",
      "Intel HD Graphics 540        1\n",
      "AMD Radeon 540               1\n",
      "ARM Mali T860 MP4            1\n",
      "Name: count, Length: 110, dtype: int64\n",
      "---------------------------------------------------------------------------\n",
      "Value count of the OpSys columns  is : OpSys\n",
      "Windows 10      1072\n",
      "No OS             66\n",
      "Linux             62\n",
      "Windows 7         45\n",
      "Chrome OS         27\n",
      "macOS             13\n",
      "Mac OS X           8\n",
      "Windows 10 S       8\n",
      "Android            2\n",
      "Name: count, dtype: int64\n",
      "---------------------------------------------------------------------------\n",
      "Value count of the Weight columns  is : Weight\n",
      "2.2kg     121\n",
      "2.1kg      58\n",
      "2.4kg      44\n",
      "2.3kg      41\n",
      "2.5kg      38\n",
      "         ... \n",
      "3.25kg      1\n",
      "4.7kg       1\n",
      "1.55kg      1\n",
      "1.18kg      1\n",
      "4.0kg       1\n",
      "Name: count, Length: 179, dtype: int64\n",
      "---------------------------------------------------------------------------\n",
      "Value count of the Price columns  is : Price\n",
      "79866.72     14\n",
      "58554.72     14\n",
      "95850.72     14\n",
      "47898.72     11\n",
      "63882.72     11\n",
      "             ..\n",
      "111355.20     1\n",
      "16197.12      1\n",
      "40439.52      1\n",
      "98994.24      1\n",
      "143802.72     1\n",
      "Name: count, Length: 791, dtype: int64\n",
      "---------------------------------------------------------------------------\n"
     ]
    }
   ],
   "source": [
    "# This function will number of unique value of the columns\n",
    "\n",
    "for col in df.columns:\n",
    "    values_count(col)\n",
    "    print(\"-\"*75)"
   ]
  },
  {
   "cell_type": "markdown",
   "id": "e6c1f4ec-7e08-415b-aa11-2e66273a3428",
   "metadata": {},
   "source": [
    "## 3. Visualization"
   ]
  },
  {
   "cell_type": "markdown",
   "id": "b9f4d679-d03b-4d1a-97cc-326a1331d35e",
   "metadata": {},
   "source": [
    "#### View the distribution of price columns"
   ]
  },
  {
   "cell_type": "code",
   "execution_count": 15,
   "id": "582373fe-24d6-41cf-9b3d-3deaa54cba99",
   "metadata": {},
   "outputs": [
    {
     "data": {
      "text/plain": [
       "<seaborn.axisgrid.FacetGrid at 0x1d8c3162c40>"
      ]
     },
     "execution_count": 15,
     "metadata": {},
     "output_type": "execute_result"
    },
    {
     "data": {
      "text/plain": [
       "<Figure size 10x10 with 0 Axes>"
      ]
     },
     "metadata": {},
     "output_type": "display_data"
    },
    {
     "data": {
      "image/png": "[encoded data removed]",
      "text/plain": [
       "<Figure size 500x500 with 1 Axes>"
      ]
     },
     "metadata": {},
     "output_type": "display_data"
    }
   ],
   "source": [
    "plt.figure(figsize = (0.1,0.1))\n",
    "sb.displot(data = df, x = df.Price)"
   ]
  },
  {
   "cell_type": "markdown",
   "id": "43abf9c1-b18d-4fa0-8215-f33957627410",
   "metadata": {},
   "source": [
    "#### Plotting countplot for the categorical variables"
   ]
  },
  {
   "cell_type": "code",
   "execution_count": 14,
   "id": "59596bda-66b9-43ce-97b0-36d6e24e6078",
   "metadata": {},
   "outputs": [
    {
     "data": {
      "image/png": "[encoded data removed]",
      "text/plain": [
       "<Figure size 400x200 with 1 Axes>"
      ]
     },
     "metadata": {},
     "output_type": "display_data"
    },
    {
     "data": {
      "image/png": "[encoded data removed]",
      "text/plain": [
       "<Figure size 400x200 with 1 Axes>"
      ]
     },
     "metadata": {},
     "output_type": "display_data"
    },
    {
     "data": {
      "image/png": "[encoded data removed]",
      "text/plain": [
       "<Figure size 400x200 with 1 Axes>"
      ]
     },
     "metadata": {},
     "output_type": "display_data"
    },
    {
     "data": {
      "image/png": "[encoded data removed]",
      "text/plain": [
       "<Figure size 400x200 with 1 Axes>"
      ]
     },
     "metadata": {},
     "output_type": "display_data"
    }
   ],
   "source": [
    "def draw_countplot(col):\n",
    "    plt.figure(figsize = (4,2))\n",
    "    sb.countplot(data = df , x = df[col], palette = \"plasma\")\n",
    "    plt.xticks(rotation = \"vertical\")\n",
    "\n",
    "catg_var = ['Company', 'TypeName', 'Ram','OpSys',]\n",
    "for col in catg_var:\n",
    "    draw_countplot(col)"
   ]
  },
  {
   "cell_type": "markdown",
   "id": "14f9f449-d4fd-4c37-87a1-de79036784b3",
   "metadata": {},
   "source": [
    "#### The average Price of laptop of each company"
   ]
  },
  {
   "cell_type": "code",
   "execution_count": 62,
   "id": "c44ad1fb-2752-4a8b-807d-f9b076c370f9",
   "metadata": {},
   "outputs": [
    {
     "data": {
      "image/png": "[encoded data removed]",
      "text/plain": [
       "<Figure size 1000x500 with 1 Axes>"
      ]
     },
     "metadata": {},
     "output_type": "display_data"
    }
   ],
   "source": [
    "# The line shows the average price of laptop\n",
    "plt.figure(figsize = (10,5))\n",
    "sb.barplot(x = df.Company, y = df.Price)\n",
    "plt.xticks(rotation = \"vertical\")\n",
    "# it will remove the word above the grapgh\n",
    "plt.show()"
   ]
  },
  {
   "cell_type": "markdown",
   "id": "92fcea37-883e-4d40-9315-0cf4955d5c47",
   "metadata": {},
   "source": [
    "#### laptop type and variation about price"
   ]
  },
  {
   "cell_type": "code",
   "execution_count": 75,
   "id": "dac43deb-c249-49f7-a721-77cb97b08a62",
   "metadata": {},
   "outputs": [
    {
     "data": {
      "image/png": "[encoded data removed]",
      "text/plain": [
       "<Figure size 600x600 with 1 Axes>"
      ]
     },
     "metadata": {},
     "output_type": "display_data"
    }
   ],
   "source": [
    "plt.figure(figsize = (6,6))\n",
    "sb.barplot(x = df.TypeName, y = df.Price)\n",
    "plt.xticks(rotation = \"vertical\")\n",
    "plt.show()"
   ]
  },
  {
   "cell_type": "markdown",
   "id": "9c07170e-bda3-4ae1-973e-a6e2c0942b11",
   "metadata": {},
   "source": [
    "#### Varaition of inches towards Price"
   ]
  },
  {
   "cell_type": "code",
   "execution_count": 71,
   "id": "c61500a7-9a51-4867-a2bd-923a83d08b5b",
   "metadata": {},
   "outputs": [
    {
     "data": {
      "image/png": "[encoded data removed]",
      "text/plain": [
       "<Figure size 1500x1200 with 1 Axes>"
      ]
     },
     "metadata": {},
     "output_type": "display_data"
    }
   ],
   "source": [
    "plt.figure(figsize = (10,8), dpi = 150)\n",
    "sb.scatterplot(x = df.Inches, y = df.Price,hue = True, palette = \"bright\")\n",
    "plt.show()"
   ]
  },
  {
   "cell_type": "markdown",
   "id": "929f590d-8db4-438a-8be6-166b62a11aeb",
   "metadata": {},
   "source": [
    "## 4. Text Processing"
   ]
  },
  {
   "cell_type": "markdown",
   "id": "c33697aa-8187-4ea2-8f50-d78a8ee980bd",
   "metadata": {},
   "source": [
    "#### In Screen Resolution Columns we have many type of Screen Resolution out there as shown \"Touch Screen\" and \"Normal\" and \"IPS Panel\" are the 3 Parts on the basis of which we can segregate the things"
   ]
  },
  {
   "cell_type": "code",
   "execution_count": 166,
   "id": "123c94ff-3f70-48e4-b101-c7a78d128989",
   "metadata": {},
   "outputs": [],
   "source": [
    "#df.ScreenResolution.value_counts()"
   ]
  },
  {
   "cell_type": "markdown",
   "id": "f4d05e25-169a-44b1-8655-d5bdd1bb8a6d",
   "metadata": {},
   "source": [
    "#### Creating a new column, touch Screen if the value is 1 that laptop is Touch screen"
   ]
  },
  {
   "cell_type": "code",
   "execution_count": 15,
   "id": "8163a8af-5d1b-4cb5-ba14-d41e8e120dbe",
   "metadata": {},
   "outputs": [],
   "source": [
    "df1 = df.copy()"
   ]
  },
  {
   "cell_type": "code",
   "execution_count": 16,
   "id": "9965b4d2-fedd-4856-9859-b293ec8d3fd2",
   "metadata": {},
   "outputs": [
    {
     "data": {
      "text/html": [
       "<div>\n",
       "<style scoped>\n",
       "    .dataframe tbody tr th:only-of-type {\n",
       "        vertical-align: middle;\n",
       "    }\n",
       "\n",
       "    .dataframe tbody tr th {\n",
       "        vertical-align: top;\n",
       "    }\n",
       "\n",
       "    .dataframe thead th {\n",
       "        text-align: right;\n",
       "    }\n",
       "</style>\n",
       "<table border=\"1\" class=\"dataframe\">\n",
       "  <thead>\n",
       "    <tr style=\"text-align: right;\">\n",
       "      <th></th>\n",
       "      <th>Company</th>\n",
       "      <th>TypeName</th>\n",
       "      <th>Inches</th>\n",
       "      <th>ScreenResolution</th>\n",
       "      <th>Cpu</th>\n",
       "      <th>Ram</th>\n",
       "      <th>Memory</th>\n",
       "      <th>Gpu</th>\n",
       "      <th>OpSys</th>\n",
       "      <th>Weight</th>\n",
       "      <th>Price</th>\n",
       "      <th>Touch_Screen</th>\n",
       "    </tr>\n",
       "  </thead>\n",
       "  <tbody>\n",
       "    <tr>\n",
       "      <th>0</th>\n",
       "      <td>Apple</td>\n",
       "      <td>Ultrabook</td>\n",
       "      <td>13.3</td>\n",
       "      <td>IPS Panel Retina Display 2560x1600</td>\n",
       "      <td>Intel Core i5 2.3GHz</td>\n",
       "      <td>8GB</td>\n",
       "      <td>128GB SSD</td>\n",
       "      <td>Intel Iris Plus Graphics 640</td>\n",
       "      <td>macOS</td>\n",
       "      <td>1.37kg</td>\n",
       "      <td>71378.6832</td>\n",
       "      <td>0</td>\n",
       "    </tr>\n",
       "    <tr>\n",
       "      <th>1</th>\n",
       "      <td>Apple</td>\n",
       "      <td>Ultrabook</td>\n",
       "      <td>13.3</td>\n",
       "      <td>1440x900</td>\n",
       "      <td>Intel Core i5 1.8GHz</td>\n",
       "      <td>8GB</td>\n",
       "      <td>128GB Flash Storage</td>\n",
       "      <td>Intel HD Graphics 6000</td>\n",
       "      <td>macOS</td>\n",
       "      <td>1.34kg</td>\n",
       "      <td>47895.5232</td>\n",
       "      <td>0</td>\n",
       "    </tr>\n",
       "  </tbody>\n",
       "</table>\n",
       "</div>"
      ],
      "text/plain": [
       "  Company   TypeName  Inches                    ScreenResolution  \\\n",
       "0   Apple  Ultrabook    13.3  IPS Panel Retina Display 2560x1600   \n",
       "1   Apple  Ultrabook    13.3                            1440x900   \n",
       "\n",
       "                    Cpu  Ram               Memory  \\\n",
       "0  Intel Core i5 2.3GHz  8GB            128GB SSD   \n",
       "1  Intel Core i5 1.8GHz  8GB  128GB Flash Storage   \n",
       "\n",
       "                            Gpu  OpSys  Weight       Price  Touch_Screen  \n",
       "0  Intel Iris Plus Graphics 640  macOS  1.37kg  71378.6832             0  \n",
       "1        Intel HD Graphics 6000  macOS  1.34kg  47895.5232             0  "
      ]
     },
     "execution_count": 16,
     "metadata": {},
     "output_type": "execute_result"
    }
   ],
   "source": [
    "df1['Touch_Screen'] = df1[\"ScreenResolution\"].apply(lambda Screen:1 if 'Touchscreen' in Screen else 0)\n",
    "df1.head(2)"
   ]
  },
  {
   "cell_type": "code",
   "execution_count": 18,
   "id": "24ca2309-9b23-47a1-9cc3-15254f2cd40a",
   "metadata": {},
   "outputs": [
    {
     "data": {
      "text/plain": [
       "Touch_Screen\n",
       "0    1111\n",
       "1     192\n",
       "Name: count, dtype: int64"
      ]
     },
     "execution_count": 18,
     "metadata": {},
     "output_type": "execute_result"
    }
   ],
   "source": [
    "df1.Touch_Screen.value_counts()"
   ]
  },
  {
   "cell_type": "code",
   "execution_count": 167,
   "id": "56cad2c1-ff2f-4008-a905-cf00a3de4527",
   "metadata": {},
   "outputs": [],
   "source": [
    "#sb.barplot(x = df1.Touch_Screen, y = df1.Price)"
   ]
  },
  {
   "cell_type": "markdown",
   "id": "8f5d271f-37b4-438f-acc1-989059723ebc",
   "metadata": {},
   "source": [
    "#### Creating a new column IPS, if the value is 1 that laptop is IPS display"
   ]
  },
  {
   "cell_type": "code",
   "execution_count": 17,
   "id": "a9e95b22-1863-41b7-be54-e1271aab7a3c",
   "metadata": {},
   "outputs": [
    {
     "data": {
      "text/html": [
       "<div>\n",
       "<style scoped>\n",
       "    .dataframe tbody tr th:only-of-type {\n",
       "        vertical-align: middle;\n",
       "    }\n",
       "\n",
       "    .dataframe tbody tr th {\n",
       "        vertical-align: top;\n",
       "    }\n",
       "\n",
       "    .dataframe thead th {\n",
       "        text-align: right;\n",
       "    }\n",
       "</style>\n",
       "<table border=\"1\" class=\"dataframe\">\n",
       "  <thead>\n",
       "    <tr style=\"text-align: right;\">\n",
       "      <th></th>\n",
       "      <th>Company</th>\n",
       "      <th>TypeName</th>\n",
       "      <th>Inches</th>\n",
       "      <th>ScreenResolution</th>\n",
       "      <th>Cpu</th>\n",
       "      <th>Ram</th>\n",
       "      <th>Memory</th>\n",
       "      <th>Gpu</th>\n",
       "      <th>OpSys</th>\n",
       "      <th>Weight</th>\n",
       "      <th>Price</th>\n",
       "      <th>Touch_Screen</th>\n",
       "      <th>IPS</th>\n",
       "    </tr>\n",
       "  </thead>\n",
       "  <tbody>\n",
       "    <tr>\n",
       "      <th>0</th>\n",
       "      <td>Apple</td>\n",
       "      <td>Ultrabook</td>\n",
       "      <td>13.3</td>\n",
       "      <td>IPS Panel Retina Display 2560x1600</td>\n",
       "      <td>Intel Core i5 2.3GHz</td>\n",
       "      <td>8GB</td>\n",
       "      <td>128GB SSD</td>\n",
       "      <td>Intel Iris Plus Graphics 640</td>\n",
       "      <td>macOS</td>\n",
       "      <td>1.37kg</td>\n",
       "      <td>71378.6832</td>\n",
       "      <td>0</td>\n",
       "      <td>1</td>\n",
       "    </tr>\n",
       "    <tr>\n",
       "      <th>1</th>\n",
       "      <td>Apple</td>\n",
       "      <td>Ultrabook</td>\n",
       "      <td>13.3</td>\n",
       "      <td>1440x900</td>\n",
       "      <td>Intel Core i5 1.8GHz</td>\n",
       "      <td>8GB</td>\n",
       "      <td>128GB Flash Storage</td>\n",
       "      <td>Intel HD Graphics 6000</td>\n",
       "      <td>macOS</td>\n",
       "      <td>1.34kg</td>\n",
       "      <td>47895.5232</td>\n",
       "      <td>0</td>\n",
       "      <td>0</td>\n",
       "    </tr>\n",
       "  </tbody>\n",
       "</table>\n",
       "</div>"
      ],
      "text/plain": [
       "  Company   TypeName  Inches                    ScreenResolution  \\\n",
       "0   Apple  Ultrabook    13.3  IPS Panel Retina Display 2560x1600   \n",
       "1   Apple  Ultrabook    13.3                            1440x900   \n",
       "\n",
       "                    Cpu  Ram               Memory  \\\n",
       "0  Intel Core i5 2.3GHz  8GB            128GB SSD   \n",
       "1  Intel Core i5 1.8GHz  8GB  128GB Flash Storage   \n",
       "\n",
       "                            Gpu  OpSys  Weight       Price  Touch_Screen  IPS  \n",
       "0  Intel Iris Plus Graphics 640  macOS  1.37kg  71378.6832             0    1  \n",
       "1        Intel HD Graphics 6000  macOS  1.34kg  47895.5232             0    0  "
      ]
     },
     "execution_count": 17,
     "metadata": {},
     "output_type": "execute_result"
    }
   ],
   "source": [
    "df1[\"IPS\"] = df1[\"ScreenResolution\"].apply(lambda IPS : 1 if 'IPS' in IPS else 0)\n",
    "df1.head(2)"
   ]
  },
  {
   "cell_type": "code",
   "execution_count": 168,
   "id": "427b55c2-ff73-4186-98c2-6d815ba41184",
   "metadata": {},
   "outputs": [],
   "source": [
    "#sb.barplot(x = df1.IPS, y = df1.Price)"
   ]
  },
  {
   "cell_type": "markdown",
   "id": "f867a0c2-3d11-47de-af99-c64dbd4328cc",
   "metadata": {},
   "source": [
    "#### Extracting the X Resolution and the Y Resolution"
   ]
  },
  {
   "cell_type": "code",
   "execution_count": 18,
   "id": "8de96a47-e54e-45dc-a710-f5c72d4bfb25",
   "metadata": {},
   "outputs": [
    {
     "data": {
      "text/html": [
       "<div>\n",
       "<style scoped>\n",
       "    .dataframe tbody tr th:only-of-type {\n",
       "        vertical-align: middle;\n",
       "    }\n",
       "\n",
       "    .dataframe tbody tr th {\n",
       "        vertical-align: top;\n",
       "    }\n",
       "\n",
       "    .dataframe thead th {\n",
       "        text-align: right;\n",
       "    }\n",
       "</style>\n",
       "<table border=\"1\" class=\"dataframe\">\n",
       "  <thead>\n",
       "    <tr style=\"text-align: right;\">\n",
       "      <th></th>\n",
       "      <th>0</th>\n",
       "      <th>1</th>\n",
       "    </tr>\n",
       "  </thead>\n",
       "  <tbody>\n",
       "    <tr>\n",
       "      <th>0</th>\n",
       "      <td>IPS Panel Retina Display 2560</td>\n",
       "      <td>1600</td>\n",
       "    </tr>\n",
       "    <tr>\n",
       "      <th>1</th>\n",
       "      <td>1440</td>\n",
       "      <td>900</td>\n",
       "    </tr>\n",
       "    <tr>\n",
       "      <th>2</th>\n",
       "      <td>Full HD 1920</td>\n",
       "      <td>1080</td>\n",
       "    </tr>\n",
       "    <tr>\n",
       "      <th>3</th>\n",
       "      <td>IPS Panel Retina Display 2880</td>\n",
       "      <td>1800</td>\n",
       "    </tr>\n",
       "    <tr>\n",
       "      <th>4</th>\n",
       "      <td>IPS Panel Retina Display 2560</td>\n",
       "      <td>1600</td>\n",
       "    </tr>\n",
       "  </tbody>\n",
       "</table>\n",
       "</div>"
      ],
      "text/plain": [
       "                               0     1\n",
       "0  IPS Panel Retina Display 2560  1600\n",
       "1                           1440   900\n",
       "2                   Full HD 1920  1080\n",
       "3  IPS Panel Retina Display 2880  1800\n",
       "4  IPS Panel Retina Display 2560  1600"
      ]
     },
     "execution_count": 18,
     "metadata": {},
     "output_type": "execute_result"
    }
   ],
   "source": [
    "# Split function will spite the str when it found x , n = 1 mean when found x first, then it spite the str\n",
    "# n: Numbers of max separations to make in a single string, default is -1 which means all. \n",
    "# expand: Boolean value, returns a data frame with different value in different columns if True. Else it returns a series with list of strings. \n",
    "Splitdf = df[\"ScreenResolution\"].str.split(\"x\", n = 1, expand = True)\n",
    "Splitdf.head()"
   ]
  },
  {
   "cell_type": "code",
   "execution_count": 19,
   "id": "f1f7886a-2fcf-4619-b4fd-62d649a274a6",
   "metadata": {},
   "outputs": [],
   "source": [
    "# X resolution and y resolution is seperated, but in x resolution there is some string we have to remove it\n",
    "df1['x_res'] = Splitdf[0]\n",
    "df1['y_res'] = Splitdf[1]\n",
    "#df1.head()"
   ]
  },
  {
   "cell_type": "markdown",
   "id": "06b38b34-7538-421a-8cc1-f988a6ce8d75",
   "metadata": {},
   "source": [
    "\n",
    "So basically from that whole text of the x_res column, we need to extract the digit from it , but the problem is the number are scatter in some cases, that is the reason why i am using regex, if we use this we will exactly get the numbers which we are looking for, so first we have to replace all the commas \",\" with space \" \" and then find all numbers from that string as \"\\d+\\.?\\d+\"     \n",
    "\n",
    "\"\\d\" means that integer number   \n",
    "\"\\.?\" all number which come after number      \n",
    "\"\\d+\" the string must end with number "
   ]
  },
  {
   "cell_type": "code",
   "execution_count": 20,
   "id": "28506727-eb71-4e20-85b2-8baae0041cf5",
   "metadata": {},
   "outputs": [
    {
     "data": {
      "text/html": [
       "<div>\n",
       "<style scoped>\n",
       "    .dataframe tbody tr th:only-of-type {\n",
       "        vertical-align: middle;\n",
       "    }\n",
       "\n",
       "    .dataframe tbody tr th {\n",
       "        vertical-align: top;\n",
       "    }\n",
       "\n",
       "    .dataframe thead th {\n",
       "        text-align: right;\n",
       "    }\n",
       "</style>\n",
       "<table border=\"1\" class=\"dataframe\">\n",
       "  <thead>\n",
       "    <tr style=\"text-align: right;\">\n",
       "      <th></th>\n",
       "      <th>Company</th>\n",
       "      <th>TypeName</th>\n",
       "      <th>Inches</th>\n",
       "      <th>ScreenResolution</th>\n",
       "      <th>Cpu</th>\n",
       "      <th>Ram</th>\n",
       "      <th>Memory</th>\n",
       "      <th>Gpu</th>\n",
       "      <th>OpSys</th>\n",
       "      <th>Weight</th>\n",
       "      <th>Price</th>\n",
       "      <th>Touch_Screen</th>\n",
       "      <th>IPS</th>\n",
       "      <th>x_res</th>\n",
       "      <th>y_res</th>\n",
       "    </tr>\n",
       "  </thead>\n",
       "  <tbody>\n",
       "    <tr>\n",
       "      <th>0</th>\n",
       "      <td>Apple</td>\n",
       "      <td>Ultrabook</td>\n",
       "      <td>13.3</td>\n",
       "      <td>IPS Panel Retina Display 2560x1600</td>\n",
       "      <td>Intel Core i5 2.3GHz</td>\n",
       "      <td>8GB</td>\n",
       "      <td>128GB SSD</td>\n",
       "      <td>Intel Iris Plus Graphics 640</td>\n",
       "      <td>macOS</td>\n",
       "      <td>1.37kg</td>\n",
       "      <td>71378.6832</td>\n",
       "      <td>0</td>\n",
       "      <td>1</td>\n",
       "      <td>2560</td>\n",
       "      <td>1600</td>\n",
       "    </tr>\n",
       "    <tr>\n",
       "      <th>1</th>\n",
       "      <td>Apple</td>\n",
       "      <td>Ultrabook</td>\n",
       "      <td>13.3</td>\n",
       "      <td>1440x900</td>\n",
       "      <td>Intel Core i5 1.8GHz</td>\n",
       "      <td>8GB</td>\n",
       "      <td>128GB Flash Storage</td>\n",
       "      <td>Intel HD Graphics 6000</td>\n",
       "      <td>macOS</td>\n",
       "      <td>1.34kg</td>\n",
       "      <td>47895.5232</td>\n",
       "      <td>0</td>\n",
       "      <td>0</td>\n",
       "      <td>1440</td>\n",
       "      <td>900</td>\n",
       "    </tr>\n",
       "    <tr>\n",
       "      <th>2</th>\n",
       "      <td>HP</td>\n",
       "      <td>Notebook</td>\n",
       "      <td>15.6</td>\n",
       "      <td>Full HD 1920x1080</td>\n",
       "      <td>Intel Core i5 7200U 2.5GHz</td>\n",
       "      <td>8GB</td>\n",
       "      <td>256GB SSD</td>\n",
       "      <td>Intel HD Graphics 620</td>\n",
       "      <td>No OS</td>\n",
       "      <td>1.86kg</td>\n",
       "      <td>30636.0000</td>\n",
       "      <td>0</td>\n",
       "      <td>0</td>\n",
       "      <td>1920</td>\n",
       "      <td>1080</td>\n",
       "    </tr>\n",
       "    <tr>\n",
       "      <th>3</th>\n",
       "      <td>Apple</td>\n",
       "      <td>Ultrabook</td>\n",
       "      <td>15.4</td>\n",
       "      <td>IPS Panel Retina Display 2880x1800</td>\n",
       "      <td>Intel Core i7 2.7GHz</td>\n",
       "      <td>16GB</td>\n",
       "      <td>512GB SSD</td>\n",
       "      <td>AMD Radeon Pro 455</td>\n",
       "      <td>macOS</td>\n",
       "      <td>1.83kg</td>\n",
       "      <td>135195.3360</td>\n",
       "      <td>0</td>\n",
       "      <td>1</td>\n",
       "      <td>2880</td>\n",
       "      <td>1800</td>\n",
       "    </tr>\n",
       "    <tr>\n",
       "      <th>4</th>\n",
       "      <td>Apple</td>\n",
       "      <td>Ultrabook</td>\n",
       "      <td>13.3</td>\n",
       "      <td>IPS Panel Retina Display 2560x1600</td>\n",
       "      <td>Intel Core i5 3.1GHz</td>\n",
       "      <td>8GB</td>\n",
       "      <td>256GB SSD</td>\n",
       "      <td>Intel Iris Plus Graphics 650</td>\n",
       "      <td>macOS</td>\n",
       "      <td>1.37kg</td>\n",
       "      <td>96095.8080</td>\n",
       "      <td>0</td>\n",
       "      <td>1</td>\n",
       "      <td>2560</td>\n",
       "      <td>1600</td>\n",
       "    </tr>\n",
       "  </tbody>\n",
       "</table>\n",
       "</div>"
      ],
      "text/plain": [
       "  Company   TypeName  Inches                    ScreenResolution  \\\n",
       "0   Apple  Ultrabook    13.3  IPS Panel Retina Display 2560x1600   \n",
       "1   Apple  Ultrabook    13.3                            1440x900   \n",
       "2      HP   Notebook    15.6                   Full HD 1920x1080   \n",
       "3   Apple  Ultrabook    15.4  IPS Panel Retina Display 2880x1800   \n",
       "4   Apple  Ultrabook    13.3  IPS Panel Retina Display 2560x1600   \n",
       "\n",
       "                          Cpu   Ram               Memory  \\\n",
       "0        Intel Core i5 2.3GHz   8GB            128GB SSD   \n",
       "1        Intel Core i5 1.8GHz   8GB  128GB Flash Storage   \n",
       "2  Intel Core i5 7200U 2.5GHz   8GB            256GB SSD   \n",
       "3        Intel Core i7 2.7GHz  16GB            512GB SSD   \n",
       "4        Intel Core i5 3.1GHz   8GB            256GB SSD   \n",
       "\n",
       "                            Gpu  OpSys  Weight        Price  Touch_Screen  \\\n",
       "0  Intel Iris Plus Graphics 640  macOS  1.37kg   71378.6832             0   \n",
       "1        Intel HD Graphics 6000  macOS  1.34kg   47895.5232             0   \n",
       "2         Intel HD Graphics 620  No OS  1.86kg   30636.0000             0   \n",
       "3            AMD Radeon Pro 455  macOS  1.83kg  135195.3360             0   \n",
       "4  Intel Iris Plus Graphics 650  macOS  1.37kg   96095.8080             0   \n",
       "\n",
       "   IPS x_res y_res  \n",
       "0    1  2560  1600  \n",
       "1    0  1440   900  \n",
       "2    0  1920  1080  \n",
       "3    1  2880  1800  \n",
       "4    1  2560  1600  "
      ]
     },
     "execution_count": 20,
     "metadata": {},
     "output_type": "execute_result"
    }
   ],
   "source": [
    "df1[\"x_res\"] = df1[\"x_res\"].str.replace(',','').str.findall(r'(\\d+\\.?\\d+)').apply(lambda x:x[0])\n",
    "df1.head()"
   ]
  },
  {
   "cell_type": "code",
   "execution_count": 21,
   "id": "b029c0b0-a132-4bec-939e-a1e08b0fc5f4",
   "metadata": {},
   "outputs": [
    {
     "name": "stdout",
     "output_type": "stream",
     "text": [
      "<class 'pandas.core.frame.DataFrame'>\n",
      "RangeIndex: 1303 entries, 0 to 1302\n",
      "Data columns (total 15 columns):\n",
      " #   Column            Non-Null Count  Dtype  \n",
      "---  ------            --------------  -----  \n",
      " 0   Company           1303 non-null   object \n",
      " 1   TypeName          1303 non-null   object \n",
      " 2   Inches            1303 non-null   float64\n",
      " 3   ScreenResolution  1303 non-null   object \n",
      " 4   Cpu               1303 non-null   object \n",
      " 5   Ram               1303 non-null   object \n",
      " 6   Memory            1303 non-null   object \n",
      " 7   Gpu               1303 non-null   object \n",
      " 8   OpSys             1303 non-null   object \n",
      " 9   Weight            1303 non-null   object \n",
      " 10  Price             1303 non-null   float64\n",
      " 11  Touch_Screen      1303 non-null   int64  \n",
      " 12  IPS               1303 non-null   int64  \n",
      " 13  x_res             1303 non-null   int32  \n",
      " 14  y_res             1303 non-null   int32  \n",
      "dtypes: float64(2), int32(2), int64(2), object(9)\n",
      "memory usage: 142.6+ KB\n"
     ]
    }
   ],
   "source": [
    "# The x_res and y_res are \"string\" now i have to convert into \"int\"\n",
    "df1[\"x_res\"] = df1[\"x_res\"].astype('int')\n",
    "df1[\"y_res\"] = df1[\"y_res\"].astype('int')\n",
    "df1.info()"
   ]
  },
  {
   "cell_type": "code",
   "execution_count": 22,
   "id": "2aa44f02-ca01-44d6-af4e-ff21ebdb65b0",
   "metadata": {},
   "outputs": [
    {
     "data": {
      "text/plain": [
       "Inches          0.068197\n",
       "Price           1.000000\n",
       "Touch_Screen    0.191226\n",
       "IPS             0.252208\n",
       "x_res           0.556529\n",
       "y_res           0.552809\n",
       "Name: Price, dtype: float64"
      ]
     },
     "execution_count": 22,
     "metadata": {},
     "output_type": "execute_result"
    }
   ],
   "source": [
    "df1.corr(numeric_only = True)[\"Price\"]"
   ]
  },
  {
   "attachments": {
    "71df863f-7c9a-4609-adfc-a0984684c097.png": {
     "image/png": "[encoded data removed]"
    }
   },
   "cell_type": "markdown",
   "id": "012dd90d-3c3c-4a95-a432-8f61e2615c51",
   "metadata": {},
   "source": [
    "The Price Factor are 55% affected by resolution factor x_res and y_res, it may increase Price more.    \n",
    "\n",
    "Now we have to create a new columns PPI\" Pixel per inches\". by combining \"x_res\" and \"y_res\" with \"inches\".   \n",
    "\n",
    "The formula is \n",
    "\n",
    "![image.png](attachment:71df863f-7c9a-4609-adfc-a0984684c097.png)"
   ]
  },
  {
   "cell_type": "code",
   "execution_count": 23,
   "id": "24e3f959-4ff6-4101-87bd-ceba519032c7",
   "metadata": {},
   "outputs": [],
   "source": [
    "df1[\"PPI\"] = (df1[\"x_res\"]**2 + df1[\"y_res\"]**2)**0.5/df1[\"Inches\"]"
   ]
  },
  {
   "cell_type": "code",
   "execution_count": 24,
   "id": "de66ace5-d136-4f72-aac5-edd6ace82c49",
   "metadata": {},
   "outputs": [
    {
     "data": {
      "text/plain": [
       "Inches          0.068197\n",
       "Price           1.000000\n",
       "Touch_Screen    0.191226\n",
       "IPS             0.252208\n",
       "x_res           0.556529\n",
       "y_res           0.552809\n",
       "PPI             0.473487\n",
       "Name: Price, dtype: float64"
      ]
     },
     "execution_count": 24,
     "metadata": {},
     "output_type": "execute_result"
    }
   ],
   "source": [
    "df1.corr(numeric_only = True)[\"Price\"]"
   ]
  },
  {
   "cell_type": "code",
   "execution_count": 25,
   "id": "400a3ff9-cc41-4c39-9150-b3420741be8d",
   "metadata": {},
   "outputs": [
    {
     "data": {
      "text/html": [
       "<div>\n",
       "<style scoped>\n",
       "    .dataframe tbody tr th:only-of-type {\n",
       "        vertical-align: middle;\n",
       "    }\n",
       "\n",
       "    .dataframe tbody tr th {\n",
       "        vertical-align: top;\n",
       "    }\n",
       "\n",
       "    .dataframe thead th {\n",
       "        text-align: right;\n",
       "    }\n",
       "</style>\n",
       "<table border=\"1\" class=\"dataframe\">\n",
       "  <thead>\n",
       "    <tr style=\"text-align: right;\">\n",
       "      <th></th>\n",
       "      <th>Company</th>\n",
       "      <th>TypeName</th>\n",
       "      <th>ScreenResolution</th>\n",
       "      <th>Cpu</th>\n",
       "      <th>Ram</th>\n",
       "      <th>Memory</th>\n",
       "      <th>Gpu</th>\n",
       "      <th>OpSys</th>\n",
       "      <th>Weight</th>\n",
       "      <th>Price</th>\n",
       "      <th>Touch_Screen</th>\n",
       "      <th>IPS</th>\n",
       "      <th>PPI</th>\n",
       "    </tr>\n",
       "  </thead>\n",
       "  <tbody>\n",
       "    <tr>\n",
       "      <th>0</th>\n",
       "      <td>Apple</td>\n",
       "      <td>Ultrabook</td>\n",
       "      <td>IPS Panel Retina Display 2560x1600</td>\n",
       "      <td>Intel Core i5 2.3GHz</td>\n",
       "      <td>8GB</td>\n",
       "      <td>128GB SSD</td>\n",
       "      <td>Intel Iris Plus Graphics 640</td>\n",
       "      <td>macOS</td>\n",
       "      <td>1.37kg</td>\n",
       "      <td>71378.6832</td>\n",
       "      <td>0</td>\n",
       "      <td>1</td>\n",
       "      <td>226.983005</td>\n",
       "    </tr>\n",
       "    <tr>\n",
       "      <th>1</th>\n",
       "      <td>Apple</td>\n",
       "      <td>Ultrabook</td>\n",
       "      <td>1440x900</td>\n",
       "      <td>Intel Core i5 1.8GHz</td>\n",
       "      <td>8GB</td>\n",
       "      <td>128GB Flash Storage</td>\n",
       "      <td>Intel HD Graphics 6000</td>\n",
       "      <td>macOS</td>\n",
       "      <td>1.34kg</td>\n",
       "      <td>47895.5232</td>\n",
       "      <td>0</td>\n",
       "      <td>0</td>\n",
       "      <td>127.677940</td>\n",
       "    </tr>\n",
       "  </tbody>\n",
       "</table>\n",
       "</div>"
      ],
      "text/plain": [
       "  Company   TypeName                    ScreenResolution  \\\n",
       "0   Apple  Ultrabook  IPS Panel Retina Display 2560x1600   \n",
       "1   Apple  Ultrabook                            1440x900   \n",
       "\n",
       "                    Cpu  Ram               Memory  \\\n",
       "0  Intel Core i5 2.3GHz  8GB            128GB SSD   \n",
       "1  Intel Core i5 1.8GHz  8GB  128GB Flash Storage   \n",
       "\n",
       "                            Gpu  OpSys  Weight       Price  Touch_Screen  IPS  \\\n",
       "0  Intel Iris Plus Graphics 640  macOS  1.37kg  71378.6832             0    1   \n",
       "1        Intel HD Graphics 6000  macOS  1.34kg  47895.5232             0    0   \n",
       "\n",
       "          PPI  \n",
       "0  226.983005  \n",
       "1  127.677940  "
      ]
     },
     "execution_count": 25,
     "metadata": {},
     "output_type": "execute_result"
    }
   ],
   "source": [
    "# Now we observe from data that PPI is good co_relation with Price, so we remove \"Inches\" which is already low correlation and \"x_res\", \"y_res\"\n",
    "df1.drop(columns = [\"Inches\", \"x_res\", \"y_res\"], inplace = True)\n",
    "df1.head(2)"
   ]
  },
  {
   "cell_type": "markdown",
   "id": "216c6cff-d041-4843-ba6c-d73b34275f34",
   "metadata": {},
   "source": [
    "#### CPU Columns"
   ]
  },
  {
   "cell_type": "code",
   "execution_count": 26,
   "id": "bb74003b-3d8b-4dda-ba3d-3c09467c92ea",
   "metadata": {},
   "outputs": [],
   "source": [
    "# The more commons CPU are: \"Intel Core i3,i5,i7\" and \"other Intel\" and \"AMD\" so we have to seperate these five type.\n",
    "# This Function will took the first three words from the string\n",
    "df1[\"CPU_Name\"] = df1[\"Cpu\"].apply(lambda text: ' '.join(text.split()[:3]))"
   ]
  },
  {
   "cell_type": "code",
   "execution_count": 150,
   "id": "d2e44395-ae77-422a-9dc2-d1b3df2715b8",
   "metadata": {},
   "outputs": [],
   "source": [
    "#df1.head(2)"
   ]
  },
  {
   "cell_type": "code",
   "execution_count": 27,
   "id": "c190769d-366f-4a5f-864d-0c1e36223238",
   "metadata": {},
   "outputs": [],
   "source": [
    "# Now There is Three type of CPU which \"Intel Core i7,i5,i3\", \"Other Intel\" and \"AMD(Other)\"\n",
    "# Now we have to Seperate these type\n",
    "\n",
    "def Processor_type(text):\n",
    "    if text == 'Intel Core i7' or text == 'Intel Core i5' or text == 'Intel Core i3':\n",
    "        return text\n",
    "    \n",
    "    else:\n",
    "        if text.split()[0] == 'Intel':\n",
    "            return 'Other Intel Processor'\n",
    "        else:\n",
    "            return 'AMD(Other) Processor'"
   ]
  },
  {
   "cell_type": "code",
   "execution_count": 28,
   "id": "309aff18-5574-4323-94d5-db5afa621aff",
   "metadata": {},
   "outputs": [],
   "source": [
    "df1[\"CPU_Name\"] = df1[\"CPU_Name\"].apply(lambda text:Processor_type(text))"
   ]
  },
  {
   "cell_type": "code",
   "execution_count": 32,
   "id": "f5af8932-9631-40ef-a734-427a16584999",
   "metadata": {},
   "outputs": [],
   "source": [
    "#df1.head(10)"
   ]
  },
  {
   "cell_type": "code",
   "execution_count": 30,
   "id": "defe4561-54ca-4b36-bcac-cc3341df9284",
   "metadata": {},
   "outputs": [
    {
     "data": {
      "image/png": "[encoded data removed]",
      "text/plain": [
       "<Figure size 200x400 with 1 Axes>"
      ]
     },
     "metadata": {},
     "output_type": "display_data"
    }
   ],
   "source": [
    "plt.figure(figsize = (2,4))\n",
    "sb.countplot(x = df1.CPU_Name)\n",
    "plt.xticks(rotation = \"vertical\")\n",
    "plt.show()"
   ]
  },
  {
   "cell_type": "code",
   "execution_count": 29,
   "id": "a94552a6-fea2-487d-a262-9506607d8b09",
   "metadata": {},
   "outputs": [
    {
     "data": {
      "image/png": "[encoded data removed]",
      "text/plain": [
       "<Figure size 400x400 with 1 Axes>"
      ]
     },
     "metadata": {},
     "output_type": "display_data"
    }
   ],
   "source": [
    "plt.figure(figsize = (4,4))\n",
    "sb.barplot(x = df1.CPU_Name, y = df1.Price)\n",
    "plt.xticks(rotation = \"vertical\")\n",
    "plt.show()"
   ]
  },
  {
   "cell_type": "code",
   "execution_count": 30,
   "id": "548e42ca-8d2e-4b54-8e79-40bf279861a0",
   "metadata": {},
   "outputs": [],
   "source": [
    "df1.drop(columns = [\"Cpu\"], inplace = True)"
   ]
  },
  {
   "cell_type": "code",
   "execution_count": 159,
   "id": "4b8950db-a12f-4c7b-a5e4-34c55b9ae66b",
   "metadata": {},
   "outputs": [],
   "source": [
    "#df1.head()"
   ]
  },
  {
   "cell_type": "markdown",
   "id": "3e161cfe-b565-4c46-8738-f3fbbe7ae378",
   "metadata": {},
   "source": [
    "#### Analysis the Ram columns"
   ]
  },
  {
   "cell_type": "markdown",
   "id": "015ba1cf-e2ad-4611-9af2-456115ae79a9",
   "metadata": {},
   "source": [
    "#### Method 1 How to sepeare integer from string"
   ]
  },
  {
   "cell_type": "code",
   "execution_count": 73,
   "id": "356626d6-4876-42c9-a3cd-23e577b675dd",
   "metadata": {},
   "outputs": [],
   "source": [
    "# This function will remove The GB string \n",
    "Ram = df1[\"Weight\"].str.replace('kg','')"
   ]
  },
  {
   "cell_type": "code",
   "execution_count": 37,
   "id": "3c901b70-8b53-4ad7-bd96-856168c6d98d",
   "metadata": {},
   "outputs": [
    {
     "data": {
      "text/plain": [
       "0        8\n",
       "1        8\n",
       "2        8\n",
       "3       16\n",
       "4        8\n",
       "        ..\n",
       "1298     4\n",
       "1299    16\n",
       "1300     2\n",
       "1301     6\n",
       "1302     4\n",
       "Name: Ram, Length: 1303, dtype: int32"
      ]
     },
     "execution_count": 37,
     "metadata": {},
     "output_type": "execute_result"
    }
   ],
   "source": [
    "Ram.astype(int)"
   ]
  },
  {
   "cell_type": "markdown",
   "id": "fb7f7482-9138-4d57-beee-69f9f4d33998",
   "metadata": {},
   "source": [
    "#### Method 2 How to sepeare integer from string"
   ]
  },
  {
   "cell_type": "code",
   "execution_count": 38,
   "id": "794f6204-19b9-4ea4-9861-a898fabc8ce0",
   "metadata": {},
   "outputs": [],
   "source": [
    "# apply(lambda x:x[0]) this function will show the value of each array\n",
    "Ram1 = df1[\"Ram\"].str.findall(r'\\d+').apply(lambda x:x[0])"
   ]
  },
  {
   "cell_type": "code",
   "execution_count": 31,
   "id": "c9ebb9df-827d-4689-8ff8-f32fddd2f94d",
   "metadata": {},
   "outputs": [],
   "source": [
    "#Ram1.astype(int)\n",
    "df2 = df1.copy()"
   ]
  },
  {
   "cell_type": "code",
   "execution_count": 32,
   "id": "31fabe4a-f938-47c8-bee5-aa5673a5452e",
   "metadata": {},
   "outputs": [],
   "source": [
    "df2.Ram = df1[\"Ram\"].str.findall(r'\\d+').apply(lambda x:x[0])"
   ]
  },
  {
   "cell_type": "code",
   "execution_count": 188,
   "id": "a585f103-7890-4a73-a700-52ac8244af52",
   "metadata": {},
   "outputs": [],
   "source": [
    "#df2.head()"
   ]
  },
  {
   "cell_type": "code",
   "execution_count": 38,
   "id": "a008af5e-bbc5-4934-8895-bd6505cdaabf",
   "metadata": {},
   "outputs": [
    {
     "name": "stderr",
     "output_type": "stream",
     "text": [
      "C:\\Users\\Mohsin\\AppData\\Local\\Temp\\ipykernel_18484\\15452431.py:1: FutureWarning: \n",
      "\n",
      "Passing `palette` without assigning `hue` is deprecated and will be removed in v0.14.0. Assign the `x` variable to `hue` and set `legend=False` for the same effect.\n",
      "\n",
      "  sb.barplot(x = df2.Ram, y = df2.Price, palette = \"deep\")\n"
     ]
    },
    {
     "data": {
      "image/png": "[encoded data removed]",
      "text/plain": [
       "<Figure size 640x480 with 1 Axes>"
      ]
     },
     "metadata": {},
     "output_type": "display_data"
    }
   ],
   "source": [
    "sb.barplot(x = df2.Ram, y = df2.Price, palette = \"deep\")\n",
    "plt.show()"
   ]
  },
  {
   "cell_type": "markdown",
   "id": "c8e77352-6720-43f7-ad1f-ac604c218d99",
   "metadata": {},
   "source": [
    "### Memory Columns"
   ]
  },
  {
   "cell_type": "code",
   "execution_count": 41,
   "id": "0e3aee53-f8f1-4d27-8b45-6c317ad21af7",
   "metadata": {},
   "outputs": [
    {
     "data": {
      "text/plain": [
       "Memory\n",
       "256GB SSD                        412\n",
       "1TB HDD                          223\n",
       "500GB HDD                        132\n",
       "512GB SSD                        118\n",
       "128GB SSD +  1TB HDD              94\n",
       "128GB SSD                         76\n",
       "256GB SSD +  1TB HDD              73\n",
       "32GB Flash Storage                38\n",
       "2TB HDD                           16\n",
       "64GB Flash Storage                15\n",
       "512GB SSD +  1TB HDD              14\n",
       "1TB SSD                           14\n",
       "256GB SSD +  2TB HDD              10\n",
       "1.0TB Hybrid                       9\n",
       "256GB Flash Storage                8\n",
       "16GB Flash Storage                 7\n",
       "32GB SSD                           6\n",
       "180GB SSD                          5\n",
       "128GB Flash Storage                4\n",
       "512GB SSD +  2TB HDD               3\n",
       "16GB SSD                           3\n",
       "512GB Flash Storage                2\n",
       "1TB SSD +  1TB HDD                 2\n",
       "256GB SSD +  500GB HDD             2\n",
       "128GB SSD +  2TB HDD               2\n",
       "256GB SSD +  256GB SSD             2\n",
       "512GB SSD +  256GB SSD             1\n",
       "512GB SSD +  512GB SSD             1\n",
       "64GB Flash Storage +  1TB HDD      1\n",
       "1TB HDD +  1TB HDD                 1\n",
       "32GB HDD                           1\n",
       "64GB SSD                           1\n",
       "128GB HDD                          1\n",
       "240GB SSD                          1\n",
       "8GB SSD                            1\n",
       "508GB Hybrid                       1\n",
       "1.0TB HDD                          1\n",
       "512GB SSD +  1.0TB Hybrid          1\n",
       "256GB SSD +  1.0TB Hybrid          1\n",
       "Name: count, dtype: int64"
      ]
     },
     "execution_count": 41,
     "metadata": {},
     "output_type": "execute_result"
    }
   ],
   "source": [
    "df2[\"Memory\"].value_counts()"
   ]
  },
  {
   "cell_type": "code",
   "execution_count": 39,
   "id": "29bd06cd-9a73-4b46-8f0d-6d8bd8d108d1",
   "metadata": {},
   "outputs": [],
   "source": [
    "df3 = df2.copy()"
   ]
  },
  {
   "cell_type": "code",
   "execution_count": 40,
   "id": "b78d6178-df7f-4fb8-980d-0764d8570b90",
   "metadata": {},
   "outputs": [
    {
     "data": {
      "text/html": [
       "<div>\n",
       "<style scoped>\n",
       "    .dataframe tbody tr th:only-of-type {\n",
       "        vertical-align: middle;\n",
       "    }\n",
       "\n",
       "    .dataframe tbody tr th {\n",
       "        vertical-align: top;\n",
       "    }\n",
       "\n",
       "    .dataframe thead th {\n",
       "        text-align: right;\n",
       "    }\n",
       "</style>\n",
       "<table border=\"1\" class=\"dataframe\">\n",
       "  <thead>\n",
       "    <tr style=\"text-align: right;\">\n",
       "      <th></th>\n",
       "      <th>0</th>\n",
       "      <th>1</th>\n",
       "    </tr>\n",
       "  </thead>\n",
       "  <tbody>\n",
       "    <tr>\n",
       "      <th>0</th>\n",
       "      <td>128 SSD</td>\n",
       "      <td>None</td>\n",
       "    </tr>\n",
       "    <tr>\n",
       "      <th>1</th>\n",
       "      <td>128 Flash Storage</td>\n",
       "      <td>None</td>\n",
       "    </tr>\n",
       "    <tr>\n",
       "      <th>2</th>\n",
       "      <td>256 SSD</td>\n",
       "      <td>None</td>\n",
       "    </tr>\n",
       "    <tr>\n",
       "      <th>3</th>\n",
       "      <td>512 SSD</td>\n",
       "      <td>None</td>\n",
       "    </tr>\n",
       "    <tr>\n",
       "      <th>4</th>\n",
       "      <td>256 SSD</td>\n",
       "      <td>None</td>\n",
       "    </tr>\n",
       "    <tr>\n",
       "      <th>...</th>\n",
       "      <td>...</td>\n",
       "      <td>...</td>\n",
       "    </tr>\n",
       "    <tr>\n",
       "      <th>1298</th>\n",
       "      <td>128 SSD</td>\n",
       "      <td>None</td>\n",
       "    </tr>\n",
       "    <tr>\n",
       "      <th>1299</th>\n",
       "      <td>512 SSD</td>\n",
       "      <td>None</td>\n",
       "    </tr>\n",
       "    <tr>\n",
       "      <th>1300</th>\n",
       "      <td>64 Flash Storage</td>\n",
       "      <td>None</td>\n",
       "    </tr>\n",
       "    <tr>\n",
       "      <th>1301</th>\n",
       "      <td>1000 HDD</td>\n",
       "      <td>None</td>\n",
       "    </tr>\n",
       "    <tr>\n",
       "      <th>1302</th>\n",
       "      <td>500 HDD</td>\n",
       "      <td>None</td>\n",
       "    </tr>\n",
       "  </tbody>\n",
       "</table>\n",
       "<p>1303 rows × 2 columns</p>\n",
       "</div>"
      ],
      "text/plain": [
       "                      0     1\n",
       "0               128 SSD  None\n",
       "1     128 Flash Storage  None\n",
       "2               256 SSD  None\n",
       "3               512 SSD  None\n",
       "4               256 SSD  None\n",
       "...                 ...   ...\n",
       "1298            128 SSD  None\n",
       "1299            512 SSD  None\n",
       "1300   64 Flash Storage  None\n",
       "1301           1000 HDD  None\n",
       "1302            500 HDD  None\n",
       "\n",
       "[1303 rows x 2 columns]"
      ]
     },
     "execution_count": 40,
     "metadata": {},
     "output_type": "execute_result"
    }
   ],
   "source": [
    "# 4 Most common variants observed, HDD, SDD, Flash, Hybrid\n",
    "\n",
    "# This will remove the decimal space for example 1.0 TB is 1 TB\n",
    "df3[\"Memory\"] = df3[\"Memory\"].astype(str).replace(\"\\.0\",'', regex = True)\n",
    "\n",
    "# Replace the GB word with \" \"\n",
    "df3[\"Memory\"] = df3[\"Memory\"].str.replace('GB','')\n",
    "\n",
    "# Replace the TB With '000'\n",
    "df3['Memory'] = df3['Memory'].str.replace('TB','000')\n",
    "\n",
    "# Split the word accross the '+' character\n",
    "newdf = df3[\"Memory\"].str.split(\"+\", n = 1, expand = True)\n",
    "newdf\n"
   ]
  },
  {
   "cell_type": "code",
   "execution_count": 41,
   "id": "922d61e7-4db4-4b24-8ba1-aad87f62204d",
   "metadata": {},
   "outputs": [],
   "source": [
    "# Now we have to Create two new columns 'Memory' and 'Extra Memory'\n",
    "# Python strip() function is used to remove extra whitespaces and specified characters from the start and from the end of the strip irrespective of how the parameter is passed\n",
    "df3['F_Memory'] = newdf[0]\n",
    "df3['F_Memory'] = df3[\"F_Memory\"].str.strip()"
   ]
  },
  {
   "cell_type": "code",
   "execution_count": 234,
   "id": "741f3a0e-d0cd-4732-bfcc-20baac8ee625",
   "metadata": {},
   "outputs": [
    {
     "data": {
      "text/html": [
       "<div>\n",
       "<style scoped>\n",
       "    .dataframe tbody tr th:only-of-type {\n",
       "        vertical-align: middle;\n",
       "    }\n",
       "\n",
       "    .dataframe tbody tr th {\n",
       "        vertical-align: top;\n",
       "    }\n",
       "\n",
       "    .dataframe thead th {\n",
       "        text-align: right;\n",
       "    }\n",
       "</style>\n",
       "<table border=\"1\" class=\"dataframe\">\n",
       "  <thead>\n",
       "    <tr style=\"text-align: right;\">\n",
       "      <th></th>\n",
       "      <th>Company</th>\n",
       "      <th>TypeName</th>\n",
       "      <th>ScreenResolution</th>\n",
       "      <th>Ram</th>\n",
       "      <th>Memory</th>\n",
       "      <th>Gpu</th>\n",
       "      <th>OpSys</th>\n",
       "      <th>Weight</th>\n",
       "      <th>Price</th>\n",
       "      <th>Touch_Screen</th>\n",
       "      <th>IPS</th>\n",
       "      <th>PPI</th>\n",
       "      <th>CPU_Name</th>\n",
       "      <th>F_Memory</th>\n",
       "    </tr>\n",
       "  </thead>\n",
       "  <tbody>\n",
       "    <tr>\n",
       "      <th>0</th>\n",
       "      <td>Apple</td>\n",
       "      <td>Ultrabook</td>\n",
       "      <td>IPS Panel Retina Display 2560x1600</td>\n",
       "      <td>8</td>\n",
       "      <td>128 SSD</td>\n",
       "      <td>Intel Iris Plus Graphics 640</td>\n",
       "      <td>macOS</td>\n",
       "      <td>1.37kg</td>\n",
       "      <td>71378.6832</td>\n",
       "      <td>0</td>\n",
       "      <td>1</td>\n",
       "      <td>226.983005</td>\n",
       "      <td>Intel Core i5</td>\n",
       "      <td>128 SSD</td>\n",
       "    </tr>\n",
       "    <tr>\n",
       "      <th>1</th>\n",
       "      <td>Apple</td>\n",
       "      <td>Ultrabook</td>\n",
       "      <td>1440x900</td>\n",
       "      <td>8</td>\n",
       "      <td>128 Flash Storage</td>\n",
       "      <td>Intel HD Graphics 6000</td>\n",
       "      <td>macOS</td>\n",
       "      <td>1.34kg</td>\n",
       "      <td>47895.5232</td>\n",
       "      <td>0</td>\n",
       "      <td>0</td>\n",
       "      <td>127.677940</td>\n",
       "      <td>Intel Core i5</td>\n",
       "      <td>128 Flash Storage</td>\n",
       "    </tr>\n",
       "  </tbody>\n",
       "</table>\n",
       "</div>"
      ],
      "text/plain": [
       "  Company   TypeName                    ScreenResolution Ram  \\\n",
       "0   Apple  Ultrabook  IPS Panel Retina Display 2560x1600   8   \n",
       "1   Apple  Ultrabook                            1440x900   8   \n",
       "\n",
       "              Memory                           Gpu  OpSys  Weight       Price  \\\n",
       "0            128 SSD  Intel Iris Plus Graphics 640  macOS  1.37kg  71378.6832   \n",
       "1  128 Flash Storage        Intel HD Graphics 6000  macOS  1.34kg  47895.5232   \n",
       "\n",
       "   Touch_Screen  IPS         PPI       CPU_Name           F_Memory  \n",
       "0             0    1  226.983005  Intel Core i5            128 SSD  \n",
       "1             0    0  127.677940  Intel Core i5  128 Flash Storage  "
      ]
     },
     "execution_count": 234,
     "metadata": {},
     "output_type": "execute_result"
    }
   ],
   "source": [
    "df3.head(2)"
   ]
  },
  {
   "cell_type": "code",
   "execution_count": 42,
   "id": "e6ac2733-3fd9-498f-8247-1cab542d3faf",
   "metadata": {},
   "outputs": [
    {
     "data": {
      "text/html": [
       "<div>\n",
       "<style scoped>\n",
       "    .dataframe tbody tr th:only-of-type {\n",
       "        vertical-align: middle;\n",
       "    }\n",
       "\n",
       "    .dataframe tbody tr th {\n",
       "        vertical-align: top;\n",
       "    }\n",
       "\n",
       "    .dataframe thead th {\n",
       "        text-align: right;\n",
       "    }\n",
       "</style>\n",
       "<table border=\"1\" class=\"dataframe\">\n",
       "  <thead>\n",
       "    <tr style=\"text-align: right;\">\n",
       "      <th></th>\n",
       "      <th>Company</th>\n",
       "      <th>TypeName</th>\n",
       "      <th>ScreenResolution</th>\n",
       "      <th>Ram</th>\n",
       "      <th>Memory</th>\n",
       "      <th>Gpu</th>\n",
       "      <th>OpSys</th>\n",
       "      <th>Weight</th>\n",
       "      <th>Price</th>\n",
       "      <th>Touch_Screen</th>\n",
       "      <th>IPS</th>\n",
       "      <th>PPI</th>\n",
       "      <th>CPU_Name</th>\n",
       "      <th>F_Memory</th>\n",
       "      <th>F_HDD</th>\n",
       "      <th>F_SSD</th>\n",
       "      <th>F_Hybrid</th>\n",
       "      <th>F_Flash</th>\n",
       "    </tr>\n",
       "  </thead>\n",
       "  <tbody>\n",
       "    <tr>\n",
       "      <th>0</th>\n",
       "      <td>Apple</td>\n",
       "      <td>Ultrabook</td>\n",
       "      <td>IPS Panel Retina Display 2560x1600</td>\n",
       "      <td>8</td>\n",
       "      <td>128 SSD</td>\n",
       "      <td>Intel Iris Plus Graphics 640</td>\n",
       "      <td>macOS</td>\n",
       "      <td>1.37kg</td>\n",
       "      <td>71378.6832</td>\n",
       "      <td>0</td>\n",
       "      <td>1</td>\n",
       "      <td>226.983005</td>\n",
       "      <td>Intel Core i5</td>\n",
       "      <td>128 SSD</td>\n",
       "      <td>0</td>\n",
       "      <td>1</td>\n",
       "      <td>0</td>\n",
       "      <td>0</td>\n",
       "    </tr>\n",
       "    <tr>\n",
       "      <th>1</th>\n",
       "      <td>Apple</td>\n",
       "      <td>Ultrabook</td>\n",
       "      <td>1440x900</td>\n",
       "      <td>8</td>\n",
       "      <td>128 Flash Storage</td>\n",
       "      <td>Intel HD Graphics 6000</td>\n",
       "      <td>macOS</td>\n",
       "      <td>1.34kg</td>\n",
       "      <td>47895.5232</td>\n",
       "      <td>0</td>\n",
       "      <td>0</td>\n",
       "      <td>127.677940</td>\n",
       "      <td>Intel Core i5</td>\n",
       "      <td>128 Flash Storage</td>\n",
       "      <td>0</td>\n",
       "      <td>0</td>\n",
       "      <td>0</td>\n",
       "      <td>1</td>\n",
       "    </tr>\n",
       "    <tr>\n",
       "      <th>2</th>\n",
       "      <td>HP</td>\n",
       "      <td>Notebook</td>\n",
       "      <td>Full HD 1920x1080</td>\n",
       "      <td>8</td>\n",
       "      <td>256 SSD</td>\n",
       "      <td>Intel HD Graphics 620</td>\n",
       "      <td>No OS</td>\n",
       "      <td>1.86kg</td>\n",
       "      <td>30636.0000</td>\n",
       "      <td>0</td>\n",
       "      <td>0</td>\n",
       "      <td>141.211998</td>\n",
       "      <td>Intel Core i5</td>\n",
       "      <td>256 SSD</td>\n",
       "      <td>0</td>\n",
       "      <td>1</td>\n",
       "      <td>0</td>\n",
       "      <td>0</td>\n",
       "    </tr>\n",
       "    <tr>\n",
       "      <th>3</th>\n",
       "      <td>Apple</td>\n",
       "      <td>Ultrabook</td>\n",
       "      <td>IPS Panel Retina Display 2880x1800</td>\n",
       "      <td>16</td>\n",
       "      <td>512 SSD</td>\n",
       "      <td>AMD Radeon Pro 455</td>\n",
       "      <td>macOS</td>\n",
       "      <td>1.83kg</td>\n",
       "      <td>135195.3360</td>\n",
       "      <td>0</td>\n",
       "      <td>1</td>\n",
       "      <td>220.534624</td>\n",
       "      <td>Intel Core i7</td>\n",
       "      <td>512 SSD</td>\n",
       "      <td>0</td>\n",
       "      <td>1</td>\n",
       "      <td>0</td>\n",
       "      <td>0</td>\n",
       "    </tr>\n",
       "    <tr>\n",
       "      <th>4</th>\n",
       "      <td>Apple</td>\n",
       "      <td>Ultrabook</td>\n",
       "      <td>IPS Panel Retina Display 2560x1600</td>\n",
       "      <td>8</td>\n",
       "      <td>256 SSD</td>\n",
       "      <td>Intel Iris Plus Graphics 650</td>\n",
       "      <td>macOS</td>\n",
       "      <td>1.37kg</td>\n",
       "      <td>96095.8080</td>\n",
       "      <td>0</td>\n",
       "      <td>1</td>\n",
       "      <td>226.983005</td>\n",
       "      <td>Intel Core i5</td>\n",
       "      <td>256 SSD</td>\n",
       "      <td>0</td>\n",
       "      <td>1</td>\n",
       "      <td>0</td>\n",
       "      <td>0</td>\n",
       "    </tr>\n",
       "  </tbody>\n",
       "</table>\n",
       "</div>"
      ],
      "text/plain": [
       "  Company   TypeName                    ScreenResolution Ram  \\\n",
       "0   Apple  Ultrabook  IPS Panel Retina Display 2560x1600   8   \n",
       "1   Apple  Ultrabook                            1440x900   8   \n",
       "2      HP   Notebook                   Full HD 1920x1080   8   \n",
       "3   Apple  Ultrabook  IPS Panel Retina Display 2880x1800  16   \n",
       "4   Apple  Ultrabook  IPS Panel Retina Display 2560x1600   8   \n",
       "\n",
       "              Memory                           Gpu  OpSys  Weight  \\\n",
       "0            128 SSD  Intel Iris Plus Graphics 640  macOS  1.37kg   \n",
       "1  128 Flash Storage        Intel HD Graphics 6000  macOS  1.34kg   \n",
       "2            256 SSD         Intel HD Graphics 620  No OS  1.86kg   \n",
       "3            512 SSD            AMD Radeon Pro 455  macOS  1.83kg   \n",
       "4            256 SSD  Intel Iris Plus Graphics 650  macOS  1.37kg   \n",
       "\n",
       "         Price  Touch_Screen  IPS         PPI       CPU_Name  \\\n",
       "0   71378.6832             0    1  226.983005  Intel Core i5   \n",
       "1   47895.5232             0    0  127.677940  Intel Core i5   \n",
       "2   30636.0000             0    0  141.211998  Intel Core i5   \n",
       "3  135195.3360             0    1  220.534624  Intel Core i7   \n",
       "4   96095.8080             0    1  226.983005  Intel Core i5   \n",
       "\n",
       "            F_Memory  F_HDD  F_SSD  F_Hybrid  F_Flash  \n",
       "0            128 SSD      0      1         0        0  \n",
       "1  128 Flash Storage      0      0         0        1  \n",
       "2            256 SSD      0      1         0        0  \n",
       "3            512 SSD      0      1         0        0  \n",
       "4            256 SSD      0      1         0        0  "
      ]
     },
     "execution_count": 42,
     "metadata": {},
     "output_type": "execute_result"
    }
   ],
   "source": [
    "# There are four main type of memory 'HDD', 'SSD', 'Hybrib', 'Flash Storage'\n",
    "# Now we have to Create all these new columns \n",
    "\n",
    "def applychange(Name):\n",
    "     df3[\"F_\"+Name] = df3[\"F_Memory\"].apply(lambda x: 1 if Name in x else 0)\n",
    "\n",
    "\n",
    "List_of_Memory = ['HDD','SSD','Hybrid','Flash']\n",
    "\n",
    "for Name in List_of_Memory:\n",
    "    applychange(Name)\n",
    "\n",
    "\n",
    "df3.head()\n",
    "   "
   ]
  },
  {
   "cell_type": "code",
   "execution_count": 43,
   "id": "4f7dd761-3dc1-4c37-b260-ed7592bd4759",
   "metadata": {},
   "outputs": [
    {
     "data": {
      "text/plain": [
       "F_Memory\n",
       "256     508\n",
       "1000    250\n",
       "128     177\n",
       "512     140\n",
       "500     132\n",
       "32       45\n",
       "64       17\n",
       "2000     16\n",
       "16       10\n",
       "180       5\n",
       "240       1\n",
       "8         1\n",
       "508       1\n",
       "Name: count, dtype: int64"
      ]
     },
     "execution_count": 43,
     "metadata": {},
     "output_type": "execute_result"
    }
   ],
   "source": [
    "# Now we have to remove all character from 'F_Memory' Columns\n",
    "#df4 = df3.copy()\n",
    "df3['F_Memory'] = df3[\"F_Memory\"].str.findall(r'\\d+').apply(lambda x:x[0])\n",
    "df3['F_Memory'].value_counts()"
   ]
  },
  {
   "cell_type": "code",
   "execution_count": 130,
   "id": "0e0249fd-eedf-4825-a781-2ea052f19677",
   "metadata": {},
   "outputs": [
    {
     "data": {
      "text/html": [
       "<div>\n",
       "<style scoped>\n",
       "    .dataframe tbody tr th:only-of-type {\n",
       "        vertical-align: middle;\n",
       "    }\n",
       "\n",
       "    .dataframe tbody tr th {\n",
       "        vertical-align: top;\n",
       "    }\n",
       "\n",
       "    .dataframe thead th {\n",
       "        text-align: right;\n",
       "    }\n",
       "</style>\n",
       "<table border=\"1\" class=\"dataframe\">\n",
       "  <thead>\n",
       "    <tr style=\"text-align: right;\">\n",
       "      <th></th>\n",
       "      <th>Company</th>\n",
       "      <th>TypeName</th>\n",
       "      <th>ScreenResolution</th>\n",
       "      <th>Ram</th>\n",
       "      <th>Memory</th>\n",
       "      <th>Gpu</th>\n",
       "      <th>OpSys</th>\n",
       "      <th>Weight</th>\n",
       "      <th>Price</th>\n",
       "      <th>Touch_Screen</th>\n",
       "      <th>IPS</th>\n",
       "      <th>PPI</th>\n",
       "      <th>CPU_Name</th>\n",
       "      <th>F_Memory</th>\n",
       "      <th>F_HDD</th>\n",
       "      <th>F_SSD</th>\n",
       "      <th>F_Hybrid</th>\n",
       "      <th>F_Flash</th>\n",
       "    </tr>\n",
       "  </thead>\n",
       "  <tbody>\n",
       "    <tr>\n",
       "      <th>0</th>\n",
       "      <td>Apple</td>\n",
       "      <td>Ultrabook</td>\n",
       "      <td>IPS Panel Retina Display 2560x1600</td>\n",
       "      <td>8</td>\n",
       "      <td>128 SSD</td>\n",
       "      <td>Intel Iris Plus Graphics 640</td>\n",
       "      <td>macOS</td>\n",
       "      <td>1.37kg</td>\n",
       "      <td>71378.6832</td>\n",
       "      <td>0</td>\n",
       "      <td>1</td>\n",
       "      <td>226.983005</td>\n",
       "      <td>Intel Core i5</td>\n",
       "      <td>128</td>\n",
       "      <td>0</td>\n",
       "      <td>1</td>\n",
       "      <td>0</td>\n",
       "      <td>0</td>\n",
       "    </tr>\n",
       "    <tr>\n",
       "      <th>1</th>\n",
       "      <td>Apple</td>\n",
       "      <td>Ultrabook</td>\n",
       "      <td>1440x900</td>\n",
       "      <td>8</td>\n",
       "      <td>128 Flash Storage</td>\n",
       "      <td>Intel HD Graphics 6000</td>\n",
       "      <td>macOS</td>\n",
       "      <td>1.34kg</td>\n",
       "      <td>47895.5232</td>\n",
       "      <td>0</td>\n",
       "      <td>0</td>\n",
       "      <td>127.677940</td>\n",
       "      <td>Intel Core i5</td>\n",
       "      <td>128</td>\n",
       "      <td>0</td>\n",
       "      <td>0</td>\n",
       "      <td>0</td>\n",
       "      <td>1</td>\n",
       "    </tr>\n",
       "  </tbody>\n",
       "</table>\n",
       "</div>"
      ],
      "text/plain": [
       "  Company   TypeName                    ScreenResolution Ram  \\\n",
       "0   Apple  Ultrabook  IPS Panel Retina Display 2560x1600   8   \n",
       "1   Apple  Ultrabook                            1440x900   8   \n",
       "\n",
       "              Memory                           Gpu  OpSys  Weight       Price  \\\n",
       "0            128 SSD  Intel Iris Plus Graphics 640  macOS  1.37kg  71378.6832   \n",
       "1  128 Flash Storage        Intel HD Graphics 6000  macOS  1.34kg  47895.5232   \n",
       "\n",
       "   Touch_Screen  IPS         PPI       CPU_Name F_Memory  F_HDD  F_SSD  \\\n",
       "0             0    1  226.983005  Intel Core i5      128      0      1   \n",
       "1             0    0  127.677940  Intel Core i5      128      0      0   \n",
       "\n",
       "   F_Hybrid  F_Flash  \n",
       "0         0        0  \n",
       "1         0        1  "
      ]
     },
     "execution_count": 130,
     "metadata": {},
     "output_type": "execute_result"
    }
   ],
   "source": [
    "df3.head(2)"
   ]
  },
  {
   "cell_type": "code",
   "execution_count": 44,
   "id": "b33ac525-3110-411e-a107-a75fcd6975c6",
   "metadata": {},
   "outputs": [
    {
     "data": {
      "text/html": [
       "<div>\n",
       "<style scoped>\n",
       "    .dataframe tbody tr th:only-of-type {\n",
       "        vertical-align: middle;\n",
       "    }\n",
       "\n",
       "    .dataframe tbody tr th {\n",
       "        vertical-align: top;\n",
       "    }\n",
       "\n",
       "    .dataframe thead th {\n",
       "        text-align: right;\n",
       "    }\n",
       "</style>\n",
       "<table border=\"1\" class=\"dataframe\">\n",
       "  <thead>\n",
       "    <tr style=\"text-align: right;\">\n",
       "      <th></th>\n",
       "      <th>Company</th>\n",
       "      <th>TypeName</th>\n",
       "      <th>ScreenResolution</th>\n",
       "      <th>Ram</th>\n",
       "      <th>Memory</th>\n",
       "      <th>Gpu</th>\n",
       "      <th>OpSys</th>\n",
       "      <th>Weight</th>\n",
       "      <th>Price</th>\n",
       "      <th>Touch_Screen</th>\n",
       "      <th>IPS</th>\n",
       "      <th>PPI</th>\n",
       "      <th>CPU_Name</th>\n",
       "      <th>F_Memory</th>\n",
       "      <th>F_HDD</th>\n",
       "      <th>F_SSD</th>\n",
       "      <th>F_Hybrid</th>\n",
       "      <th>F_Flash</th>\n",
       "      <th>S_Memory</th>\n",
       "    </tr>\n",
       "  </thead>\n",
       "  <tbody>\n",
       "    <tr>\n",
       "      <th>0</th>\n",
       "      <td>Apple</td>\n",
       "      <td>Ultrabook</td>\n",
       "      <td>IPS Panel Retina Display 2560x1600</td>\n",
       "      <td>8</td>\n",
       "      <td>128 SSD</td>\n",
       "      <td>Intel Iris Plus Graphics 640</td>\n",
       "      <td>macOS</td>\n",
       "      <td>1.37kg</td>\n",
       "      <td>71378.6832</td>\n",
       "      <td>0</td>\n",
       "      <td>1</td>\n",
       "      <td>226.983005</td>\n",
       "      <td>Intel Core i5</td>\n",
       "      <td>128</td>\n",
       "      <td>0</td>\n",
       "      <td>1</td>\n",
       "      <td>0</td>\n",
       "      <td>0</td>\n",
       "      <td>None</td>\n",
       "    </tr>\n",
       "    <tr>\n",
       "      <th>1</th>\n",
       "      <td>Apple</td>\n",
       "      <td>Ultrabook</td>\n",
       "      <td>1440x900</td>\n",
       "      <td>8</td>\n",
       "      <td>128 Flash Storage</td>\n",
       "      <td>Intel HD Graphics 6000</td>\n",
       "      <td>macOS</td>\n",
       "      <td>1.34kg</td>\n",
       "      <td>47895.5232</td>\n",
       "      <td>0</td>\n",
       "      <td>0</td>\n",
       "      <td>127.677940</td>\n",
       "      <td>Intel Core i5</td>\n",
       "      <td>128</td>\n",
       "      <td>0</td>\n",
       "      <td>0</td>\n",
       "      <td>0</td>\n",
       "      <td>1</td>\n",
       "      <td>None</td>\n",
       "    </tr>\n",
       "  </tbody>\n",
       "</table>\n",
       "</div>"
      ],
      "text/plain": [
       "  Company   TypeName                    ScreenResolution Ram  \\\n",
       "0   Apple  Ultrabook  IPS Panel Retina Display 2560x1600   8   \n",
       "1   Apple  Ultrabook                            1440x900   8   \n",
       "\n",
       "              Memory                           Gpu  OpSys  Weight       Price  \\\n",
       "0            128 SSD  Intel Iris Plus Graphics 640  macOS  1.37kg  71378.6832   \n",
       "1  128 Flash Storage        Intel HD Graphics 6000  macOS  1.34kg  47895.5232   \n",
       "\n",
       "   Touch_Screen  IPS         PPI       CPU_Name F_Memory  F_HDD  F_SSD  \\\n",
       "0             0    1  226.983005  Intel Core i5      128      0      1   \n",
       "1             0    0  127.677940  Intel Core i5      128      0      0   \n",
       "\n",
       "   F_Hybrid  F_Flash S_Memory  \n",
       "0         0        0     None  \n",
       "1         0        1     None  "
      ]
     },
     "execution_count": 44,
     "metadata": {},
     "output_type": "execute_result"
    }
   ],
   "source": [
    "# S mean Secondary Memory\n",
    "df3['S_Memory'] = newdf[1]\n",
    "df3.head(2)"
   ]
  },
  {
   "cell_type": "code",
   "execution_count": 45,
   "id": "10036827",
   "metadata": {},
   "outputs": [
    {
     "data": {
      "text/html": [
       "<div>\n",
       "<style scoped>\n",
       "    .dataframe tbody tr th:only-of-type {\n",
       "        vertical-align: middle;\n",
       "    }\n",
       "\n",
       "    .dataframe tbody tr th {\n",
       "        vertical-align: top;\n",
       "    }\n",
       "\n",
       "    .dataframe thead th {\n",
       "        text-align: right;\n",
       "    }\n",
       "</style>\n",
       "<table border=\"1\" class=\"dataframe\">\n",
       "  <thead>\n",
       "    <tr style=\"text-align: right;\">\n",
       "      <th></th>\n",
       "      <th>Company</th>\n",
       "      <th>TypeName</th>\n",
       "      <th>ScreenResolution</th>\n",
       "      <th>Ram</th>\n",
       "      <th>Memory</th>\n",
       "      <th>Gpu</th>\n",
       "      <th>OpSys</th>\n",
       "      <th>Weight</th>\n",
       "      <th>Price</th>\n",
       "      <th>Touch_Screen</th>\n",
       "      <th>...</th>\n",
       "      <th>F_Memory</th>\n",
       "      <th>F_HDD</th>\n",
       "      <th>F_SSD</th>\n",
       "      <th>F_Hybrid</th>\n",
       "      <th>F_Flash</th>\n",
       "      <th>S_Memory</th>\n",
       "      <th>S_HDD</th>\n",
       "      <th>S_SSD</th>\n",
       "      <th>S_Hybrid</th>\n",
       "      <th>S_Flash</th>\n",
       "    </tr>\n",
       "  </thead>\n",
       "  <tbody>\n",
       "    <tr>\n",
       "      <th>0</th>\n",
       "      <td>Apple</td>\n",
       "      <td>Ultrabook</td>\n",
       "      <td>IPS Panel Retina Display 2560x1600</td>\n",
       "      <td>8</td>\n",
       "      <td>128 SSD</td>\n",
       "      <td>Intel Iris Plus Graphics 640</td>\n",
       "      <td>macOS</td>\n",
       "      <td>1.37kg</td>\n",
       "      <td>71378.6832</td>\n",
       "      <td>0</td>\n",
       "      <td>...</td>\n",
       "      <td>128</td>\n",
       "      <td>0</td>\n",
       "      <td>1</td>\n",
       "      <td>0</td>\n",
       "      <td>0</td>\n",
       "      <td>0</td>\n",
       "      <td>0</td>\n",
       "      <td>0</td>\n",
       "      <td>0</td>\n",
       "      <td>0</td>\n",
       "    </tr>\n",
       "    <tr>\n",
       "      <th>1</th>\n",
       "      <td>Apple</td>\n",
       "      <td>Ultrabook</td>\n",
       "      <td>1440x900</td>\n",
       "      <td>8</td>\n",
       "      <td>128 Flash Storage</td>\n",
       "      <td>Intel HD Graphics 6000</td>\n",
       "      <td>macOS</td>\n",
       "      <td>1.34kg</td>\n",
       "      <td>47895.5232</td>\n",
       "      <td>0</td>\n",
       "      <td>...</td>\n",
       "      <td>128</td>\n",
       "      <td>0</td>\n",
       "      <td>0</td>\n",
       "      <td>0</td>\n",
       "      <td>1</td>\n",
       "      <td>0</td>\n",
       "      <td>0</td>\n",
       "      <td>0</td>\n",
       "      <td>0</td>\n",
       "      <td>0</td>\n",
       "    </tr>\n",
       "    <tr>\n",
       "      <th>2</th>\n",
       "      <td>HP</td>\n",
       "      <td>Notebook</td>\n",
       "      <td>Full HD 1920x1080</td>\n",
       "      <td>8</td>\n",
       "      <td>256 SSD</td>\n",
       "      <td>Intel HD Graphics 620</td>\n",
       "      <td>No OS</td>\n",
       "      <td>1.86kg</td>\n",
       "      <td>30636.0000</td>\n",
       "      <td>0</td>\n",
       "      <td>...</td>\n",
       "      <td>256</td>\n",
       "      <td>0</td>\n",
       "      <td>1</td>\n",
       "      <td>0</td>\n",
       "      <td>0</td>\n",
       "      <td>0</td>\n",
       "      <td>0</td>\n",
       "      <td>0</td>\n",
       "      <td>0</td>\n",
       "      <td>0</td>\n",
       "    </tr>\n",
       "    <tr>\n",
       "      <th>3</th>\n",
       "      <td>Apple</td>\n",
       "      <td>Ultrabook</td>\n",
       "      <td>IPS Panel Retina Display 2880x1800</td>\n",
       "      <td>16</td>\n",
       "      <td>512 SSD</td>\n",
       "      <td>AMD Radeon Pro 455</td>\n",
       "      <td>macOS</td>\n",
       "      <td>1.83kg</td>\n",
       "      <td>135195.3360</td>\n",
       "      <td>0</td>\n",
       "      <td>...</td>\n",
       "      <td>512</td>\n",
       "      <td>0</td>\n",
       "      <td>1</td>\n",
       "      <td>0</td>\n",
       "      <td>0</td>\n",
       "      <td>0</td>\n",
       "      <td>0</td>\n",
       "      <td>0</td>\n",
       "      <td>0</td>\n",
       "      <td>0</td>\n",
       "    </tr>\n",
       "    <tr>\n",
       "      <th>4</th>\n",
       "      <td>Apple</td>\n",
       "      <td>Ultrabook</td>\n",
       "      <td>IPS Panel Retina Display 2560x1600</td>\n",
       "      <td>8</td>\n",
       "      <td>256 SSD</td>\n",
       "      <td>Intel Iris Plus Graphics 650</td>\n",
       "      <td>macOS</td>\n",
       "      <td>1.37kg</td>\n",
       "      <td>96095.8080</td>\n",
       "      <td>0</td>\n",
       "      <td>...</td>\n",
       "      <td>256</td>\n",
       "      <td>0</td>\n",
       "      <td>1</td>\n",
       "      <td>0</td>\n",
       "      <td>0</td>\n",
       "      <td>0</td>\n",
       "      <td>0</td>\n",
       "      <td>0</td>\n",
       "      <td>0</td>\n",
       "      <td>0</td>\n",
       "    </tr>\n",
       "  </tbody>\n",
       "</table>\n",
       "<p>5 rows × 23 columns</p>\n",
       "</div>"
      ],
      "text/plain": [
       "  Company   TypeName                    ScreenResolution Ram  \\\n",
       "0   Apple  Ultrabook  IPS Panel Retina Display 2560x1600   8   \n",
       "1   Apple  Ultrabook                            1440x900   8   \n",
       "2      HP   Notebook                   Full HD 1920x1080   8   \n",
       "3   Apple  Ultrabook  IPS Panel Retina Display 2880x1800  16   \n",
       "4   Apple  Ultrabook  IPS Panel Retina Display 2560x1600   8   \n",
       "\n",
       "              Memory                           Gpu  OpSys  Weight  \\\n",
       "0            128 SSD  Intel Iris Plus Graphics 640  macOS  1.37kg   \n",
       "1  128 Flash Storage        Intel HD Graphics 6000  macOS  1.34kg   \n",
       "2            256 SSD         Intel HD Graphics 620  No OS  1.86kg   \n",
       "3            512 SSD            AMD Radeon Pro 455  macOS  1.83kg   \n",
       "4            256 SSD  Intel Iris Plus Graphics 650  macOS  1.37kg   \n",
       "\n",
       "         Price  Touch_Screen  ...  F_Memory  F_HDD F_SSD F_Hybrid  F_Flash  \\\n",
       "0   71378.6832             0  ...       128      0     1        0        0   \n",
       "1   47895.5232             0  ...       128      0     0        0        1   \n",
       "2   30636.0000             0  ...       256      0     1        0        0   \n",
       "3  135195.3360             0  ...       512      0     1        0        0   \n",
       "4   96095.8080             0  ...       256      0     1        0        0   \n",
       "\n",
       "   S_Memory  S_HDD  S_SSD S_Hybrid  S_Flash  \n",
       "0         0      0      0        0        0  \n",
       "1         0      0      0        0        0  \n",
       "2         0      0      0        0        0  \n",
       "3         0      0      0        0        0  \n",
       "4         0      0      0        0        0  \n",
       "\n",
       "[5 rows x 23 columns]"
      ]
     },
     "execution_count": 45,
     "metadata": {},
     "output_type": "execute_result"
    }
   ],
   "source": [
    "# There are four main type of memory 'HDD', 'SSD', 'Hybrib', 'Flash Storage'\n",
    "# Now we have to Create all these new columns for secondary Memory\n",
    "\n",
    "def applychanges(Name):\n",
    "     df3[\"S_\"+Name] = df3[\"S_Memory\"].apply(lambda x: 1 if Name in x else 0)\n",
    "\n",
    "\n",
    "List_of_Memory1 = ['HDD','SSD','Hybrid','Flash']\n",
    "df3[\"S_Memory\"] = df3[\"S_Memory\"].fillna(\"0\")\n",
    "\n",
    "for Name in List_of_Memory1:\n",
    "    applychanges(Name)\n",
    "\n",
    "\n",
    "df3.head()"
   ]
  },
  {
   "cell_type": "code",
   "execution_count": 46,
   "id": "a3f4e4ea",
   "metadata": {},
   "outputs": [
    {
     "data": {
      "text/plain": [
       "S_Memory\n",
       "0       1095\n",
       "1000     187\n",
       "2000      15\n",
       "256        3\n",
       "500        2\n",
       "512        1\n",
       "Name: count, dtype: int64"
      ]
     },
     "execution_count": 46,
     "metadata": {},
     "output_type": "execute_result"
    }
   ],
   "source": [
    "# Now to remove extra string from number\n",
    "df3['S_Memory'] = df3[\"S_Memory\"].str.findall(r'\\d+').apply(lambda x:x[0])\n",
    "df3['S_Memory'].value_counts()"
   ]
  },
  {
   "cell_type": "code",
   "execution_count": 47,
   "id": "71bfd6bc",
   "metadata": {},
   "outputs": [
    {
     "data": {
      "text/html": [
       "<div>\n",
       "<style scoped>\n",
       "    .dataframe tbody tr th:only-of-type {\n",
       "        vertical-align: middle;\n",
       "    }\n",
       "\n",
       "    .dataframe tbody tr th {\n",
       "        vertical-align: top;\n",
       "    }\n",
       "\n",
       "    .dataframe thead th {\n",
       "        text-align: right;\n",
       "    }\n",
       "</style>\n",
       "<table border=\"1\" class=\"dataframe\">\n",
       "  <thead>\n",
       "    <tr style=\"text-align: right;\">\n",
       "      <th></th>\n",
       "      <th>Company</th>\n",
       "      <th>TypeName</th>\n",
       "      <th>ScreenResolution</th>\n",
       "      <th>Ram</th>\n",
       "      <th>Memory</th>\n",
       "      <th>Gpu</th>\n",
       "      <th>OpSys</th>\n",
       "      <th>Weight</th>\n",
       "      <th>Price</th>\n",
       "      <th>Touch_Screen</th>\n",
       "      <th>...</th>\n",
       "      <th>F_Memory</th>\n",
       "      <th>F_HDD</th>\n",
       "      <th>F_SSD</th>\n",
       "      <th>F_Hybrid</th>\n",
       "      <th>F_Flash</th>\n",
       "      <th>S_Memory</th>\n",
       "      <th>S_HDD</th>\n",
       "      <th>S_SSD</th>\n",
       "      <th>S_Hybrid</th>\n",
       "      <th>S_Flash</th>\n",
       "    </tr>\n",
       "  </thead>\n",
       "  <tbody>\n",
       "    <tr>\n",
       "      <th>0</th>\n",
       "      <td>Apple</td>\n",
       "      <td>Ultrabook</td>\n",
       "      <td>IPS Panel Retina Display 2560x1600</td>\n",
       "      <td>8</td>\n",
       "      <td>128 SSD</td>\n",
       "      <td>Intel Iris Plus Graphics 640</td>\n",
       "      <td>macOS</td>\n",
       "      <td>1.37kg</td>\n",
       "      <td>71378.6832</td>\n",
       "      <td>0</td>\n",
       "      <td>...</td>\n",
       "      <td>128</td>\n",
       "      <td>0</td>\n",
       "      <td>1</td>\n",
       "      <td>0</td>\n",
       "      <td>0</td>\n",
       "      <td>0</td>\n",
       "      <td>0</td>\n",
       "      <td>0</td>\n",
       "      <td>0</td>\n",
       "      <td>0</td>\n",
       "    </tr>\n",
       "    <tr>\n",
       "      <th>1</th>\n",
       "      <td>Apple</td>\n",
       "      <td>Ultrabook</td>\n",
       "      <td>1440x900</td>\n",
       "      <td>8</td>\n",
       "      <td>128 Flash Storage</td>\n",
       "      <td>Intel HD Graphics 6000</td>\n",
       "      <td>macOS</td>\n",
       "      <td>1.34kg</td>\n",
       "      <td>47895.5232</td>\n",
       "      <td>0</td>\n",
       "      <td>...</td>\n",
       "      <td>128</td>\n",
       "      <td>0</td>\n",
       "      <td>0</td>\n",
       "      <td>0</td>\n",
       "      <td>1</td>\n",
       "      <td>0</td>\n",
       "      <td>0</td>\n",
       "      <td>0</td>\n",
       "      <td>0</td>\n",
       "      <td>0</td>\n",
       "    </tr>\n",
       "  </tbody>\n",
       "</table>\n",
       "<p>2 rows × 23 columns</p>\n",
       "</div>"
      ],
      "text/plain": [
       "  Company   TypeName                    ScreenResolution Ram  \\\n",
       "0   Apple  Ultrabook  IPS Panel Retina Display 2560x1600   8   \n",
       "1   Apple  Ultrabook                            1440x900   8   \n",
       "\n",
       "              Memory                           Gpu  OpSys  Weight       Price  \\\n",
       "0            128 SSD  Intel Iris Plus Graphics 640  macOS  1.37kg  71378.6832   \n",
       "1  128 Flash Storage        Intel HD Graphics 6000  macOS  1.34kg  47895.5232   \n",
       "\n",
       "   Touch_Screen  ...  F_Memory  F_HDD F_SSD  F_Hybrid  F_Flash  S_Memory  \\\n",
       "0             0  ...       128      0     1         0        0         0   \n",
       "1             0  ...       128      0     0         0        1         0   \n",
       "\n",
       "   S_HDD  S_SSD  S_Hybrid  S_Flash  \n",
       "0      0      0         0        0  \n",
       "1      0      0         0        0  \n",
       "\n",
       "[2 rows x 23 columns]"
      ]
     },
     "execution_count": 47,
     "metadata": {},
     "output_type": "execute_result"
    }
   ],
   "source": [
    "# Now we have to convert it into integers\n",
    "df3['F_Memory'] = df3['F_Memory'].astype('int')\n",
    "df3['S_Memory'] = df3['S_Memory'].astype('int')\n",
    "df3.head(2)"
   ]
  },
  {
   "cell_type": "code",
   "execution_count": 49,
   "id": "9bb558a8",
   "metadata": {},
   "outputs": [],
   "source": [
    "df4 = df3.copy()"
   ]
  },
  {
   "cell_type": "code",
   "execution_count": 50,
   "id": "723a48f3",
   "metadata": {},
   "outputs": [],
   "source": [
    "df4[\"HDD\"] = df4[\"F_Memory\"]*df4[\"F_HDD\"]+df4[\"S_Memory\"]*df4[\"S_HDD\"]\n",
    "df4[\"SSD\"] = df4[\"F_Memory\"]*df4[\"F_SSD\"]+df4[\"S_Memory\"]*df4[\"S_SSD\"]\n",
    "df4[\"Hybrid\"] = df4[\"F_Memory\"]*df4[\"F_Hybrid\"]+df4[\"S_Memory\"]*df4[\"S_Hybrid\"]\n",
    "df4[\"Flash_Storage\"] = df4[\"F_Memory\"]*df4[\"F_Flash\"]+df4[\"S_Memory\"]*df4[\"S_Flash\"]"
   ]
  },
  {
   "cell_type": "code",
   "execution_count": 145,
   "id": "f6c43e30",
   "metadata": {},
   "outputs": [
    {
     "data": {
      "text/html": [
       "<div>\n",
       "<style scoped>\n",
       "    .dataframe tbody tr th:only-of-type {\n",
       "        vertical-align: middle;\n",
       "    }\n",
       "\n",
       "    .dataframe tbody tr th {\n",
       "        vertical-align: top;\n",
       "    }\n",
       "\n",
       "    .dataframe thead th {\n",
       "        text-align: right;\n",
       "    }\n",
       "</style>\n",
       "<table border=\"1\" class=\"dataframe\">\n",
       "  <thead>\n",
       "    <tr style=\"text-align: right;\">\n",
       "      <th></th>\n",
       "      <th>Company</th>\n",
       "      <th>TypeName</th>\n",
       "      <th>ScreenResolution</th>\n",
       "      <th>Ram</th>\n",
       "      <th>Memory</th>\n",
       "      <th>Gpu</th>\n",
       "      <th>OpSys</th>\n",
       "      <th>Weight</th>\n",
       "      <th>Price</th>\n",
       "      <th>Touch_Screen</th>\n",
       "      <th>...</th>\n",
       "      <th>F_Flash</th>\n",
       "      <th>S_Memory</th>\n",
       "      <th>S_HDD</th>\n",
       "      <th>S_SSD</th>\n",
       "      <th>S_Hybrid</th>\n",
       "      <th>S_Flash</th>\n",
       "      <th>HDD</th>\n",
       "      <th>SSD</th>\n",
       "      <th>Hybrid</th>\n",
       "      <th>Flash_Storage</th>\n",
       "    </tr>\n",
       "  </thead>\n",
       "  <tbody>\n",
       "    <tr>\n",
       "      <th>0</th>\n",
       "      <td>Apple</td>\n",
       "      <td>Ultrabook</td>\n",
       "      <td>IPS Panel Retina Display 2560x1600</td>\n",
       "      <td>8</td>\n",
       "      <td>128 SSD</td>\n",
       "      <td>Intel Iris Plus Graphics 640</td>\n",
       "      <td>macOS</td>\n",
       "      <td>1.37kg</td>\n",
       "      <td>71378.6832</td>\n",
       "      <td>0</td>\n",
       "      <td>...</td>\n",
       "      <td>0</td>\n",
       "      <td>0</td>\n",
       "      <td>0</td>\n",
       "      <td>0</td>\n",
       "      <td>0</td>\n",
       "      <td>0</td>\n",
       "      <td>0</td>\n",
       "      <td>128</td>\n",
       "      <td>0</td>\n",
       "      <td>0</td>\n",
       "    </tr>\n",
       "    <tr>\n",
       "      <th>1</th>\n",
       "      <td>Apple</td>\n",
       "      <td>Ultrabook</td>\n",
       "      <td>1440x900</td>\n",
       "      <td>8</td>\n",
       "      <td>128 Flash Storage</td>\n",
       "      <td>Intel HD Graphics 6000</td>\n",
       "      <td>macOS</td>\n",
       "      <td>1.34kg</td>\n",
       "      <td>47895.5232</td>\n",
       "      <td>0</td>\n",
       "      <td>...</td>\n",
       "      <td>1</td>\n",
       "      <td>0</td>\n",
       "      <td>0</td>\n",
       "      <td>0</td>\n",
       "      <td>0</td>\n",
       "      <td>0</td>\n",
       "      <td>0</td>\n",
       "      <td>0</td>\n",
       "      <td>0</td>\n",
       "      <td>128</td>\n",
       "    </tr>\n",
       "    <tr>\n",
       "      <th>2</th>\n",
       "      <td>HP</td>\n",
       "      <td>Notebook</td>\n",
       "      <td>Full HD 1920x1080</td>\n",
       "      <td>8</td>\n",
       "      <td>256 SSD</td>\n",
       "      <td>Intel HD Graphics 620</td>\n",
       "      <td>No OS</td>\n",
       "      <td>1.86kg</td>\n",
       "      <td>30636.0000</td>\n",
       "      <td>0</td>\n",
       "      <td>...</td>\n",
       "      <td>0</td>\n",
       "      <td>0</td>\n",
       "      <td>0</td>\n",
       "      <td>0</td>\n",
       "      <td>0</td>\n",
       "      <td>0</td>\n",
       "      <td>0</td>\n",
       "      <td>256</td>\n",
       "      <td>0</td>\n",
       "      <td>0</td>\n",
       "    </tr>\n",
       "    <tr>\n",
       "      <th>3</th>\n",
       "      <td>Apple</td>\n",
       "      <td>Ultrabook</td>\n",
       "      <td>IPS Panel Retina Display 2880x1800</td>\n",
       "      <td>16</td>\n",
       "      <td>512 SSD</td>\n",
       "      <td>AMD Radeon Pro 455</td>\n",
       "      <td>macOS</td>\n",
       "      <td>1.83kg</td>\n",
       "      <td>135195.3360</td>\n",
       "      <td>0</td>\n",
       "      <td>...</td>\n",
       "      <td>0</td>\n",
       "      <td>0</td>\n",
       "      <td>0</td>\n",
       "      <td>0</td>\n",
       "      <td>0</td>\n",
       "      <td>0</td>\n",
       "      <td>0</td>\n",
       "      <td>512</td>\n",
       "      <td>0</td>\n",
       "      <td>0</td>\n",
       "    </tr>\n",
       "    <tr>\n",
       "      <th>4</th>\n",
       "      <td>Apple</td>\n",
       "      <td>Ultrabook</td>\n",
       "      <td>IPS Panel Retina Display 2560x1600</td>\n",
       "      <td>8</td>\n",
       "      <td>256 SSD</td>\n",
       "      <td>Intel Iris Plus Graphics 650</td>\n",
       "      <td>macOS</td>\n",
       "      <td>1.37kg</td>\n",
       "      <td>96095.8080</td>\n",
       "      <td>0</td>\n",
       "      <td>...</td>\n",
       "      <td>0</td>\n",
       "      <td>0</td>\n",
       "      <td>0</td>\n",
       "      <td>0</td>\n",
       "      <td>0</td>\n",
       "      <td>0</td>\n",
       "      <td>0</td>\n",
       "      <td>256</td>\n",
       "      <td>0</td>\n",
       "      <td>0</td>\n",
       "    </tr>\n",
       "  </tbody>\n",
       "</table>\n",
       "<p>5 rows × 27 columns</p>\n",
       "</div>"
      ],
      "text/plain": [
       "  Company   TypeName                    ScreenResolution Ram  \\\n",
       "0   Apple  Ultrabook  IPS Panel Retina Display 2560x1600   8   \n",
       "1   Apple  Ultrabook                            1440x900   8   \n",
       "2      HP   Notebook                   Full HD 1920x1080   8   \n",
       "3   Apple  Ultrabook  IPS Panel Retina Display 2880x1800  16   \n",
       "4   Apple  Ultrabook  IPS Panel Retina Display 2560x1600   8   \n",
       "\n",
       "              Memory                           Gpu  OpSys  Weight  \\\n",
       "0            128 SSD  Intel Iris Plus Graphics 640  macOS  1.37kg   \n",
       "1  128 Flash Storage        Intel HD Graphics 6000  macOS  1.34kg   \n",
       "2            256 SSD         Intel HD Graphics 620  No OS  1.86kg   \n",
       "3            512 SSD            AMD Radeon Pro 455  macOS  1.83kg   \n",
       "4            256 SSD  Intel Iris Plus Graphics 650  macOS  1.37kg   \n",
       "\n",
       "         Price  Touch_Screen  ...  F_Flash  S_Memory S_HDD  S_SSD  S_Hybrid  \\\n",
       "0   71378.6832             0  ...        0         0     0      0         0   \n",
       "1   47895.5232             0  ...        1         0     0      0         0   \n",
       "2   30636.0000             0  ...        0         0     0      0         0   \n",
       "3  135195.3360             0  ...        0         0     0      0         0   \n",
       "4   96095.8080             0  ...        0         0     0      0         0   \n",
       "\n",
       "   S_Flash  HDD  SSD  Hybrid  Flash_Storage  \n",
       "0        0    0  128       0              0  \n",
       "1        0    0    0       0            128  \n",
       "2        0    0  256       0              0  \n",
       "3        0    0  512       0              0  \n",
       "4        0    0  256       0              0  \n",
       "\n",
       "[5 rows x 27 columns]"
      ]
     },
     "execution_count": 145,
     "metadata": {},
     "output_type": "execute_result"
    }
   ],
   "source": [
    "df4.head()"
   ]
  },
  {
   "cell_type": "code",
   "execution_count": 51,
   "id": "f3c9fd27",
   "metadata": {},
   "outputs": [],
   "source": [
    "df5 = df4.copy()"
   ]
  },
  {
   "cell_type": "code",
   "execution_count": 56,
   "id": "50d7f561",
   "metadata": {},
   "outputs": [
    {
     "name": "stdout",
     "output_type": "stream",
     "text": [
      "<class 'pandas.core.frame.DataFrame'>\n",
      "RangeIndex: 1303 entries, 0 to 1302\n",
      "Data columns (total 27 columns):\n",
      " #   Column            Non-Null Count  Dtype  \n",
      "---  ------            --------------  -----  \n",
      " 0   Company           1303 non-null   object \n",
      " 1   TypeName          1303 non-null   object \n",
      " 2   ScreenResolution  1303 non-null   object \n",
      " 3   Ram               1303 non-null   object \n",
      " 4   Memory            1303 non-null   object \n",
      " 5   Gpu               1303 non-null   object \n",
      " 6   OpSys             1303 non-null   object \n",
      " 7   Weight            1303 non-null   object \n",
      " 8   Price             1303 non-null   float64\n",
      " 9   Touch_Screen      1303 non-null   int64  \n",
      " 10  IPS               1303 non-null   int64  \n",
      " 11  PPI               1303 non-null   float64\n",
      " 12  CPU_Name          1303 non-null   object \n",
      " 13  F_Memory          1303 non-null   int32  \n",
      " 14  F_HDD             1303 non-null   int64  \n",
      " 15  F_SSD             1303 non-null   int64  \n",
      " 16  F_Hybrid          1303 non-null   int64  \n",
      " 17  F_Flash           1303 non-null   int64  \n",
      " 18  S_Memory          1303 non-null   int32  \n",
      " 19  S_HDD             1303 non-null   int64  \n",
      " 20  S_SSD             1303 non-null   int64  \n",
      " 21  S_Hybrid          1303 non-null   int64  \n",
      " 22  S_Flash           1303 non-null   int64  \n",
      " 23  HDD               1303 non-null   int64  \n",
      " 24  SSD               1303 non-null   int64  \n",
      " 25  Hybrid            1303 non-null   int64  \n",
      " 26  Flash_Storage     1303 non-null   int64  \n",
      "dtypes: float64(2), int32(2), int64(14), object(9)\n",
      "memory usage: 264.8+ KB\n"
     ]
    }
   ],
   "source": [
    "df5.info()"
   ]
  },
  {
   "cell_type": "code",
   "execution_count": 52,
   "id": "71be2bea",
   "metadata": {},
   "outputs": [],
   "source": [
    "df5.drop(columns = [\"F_Memory\",\"F_HDD\",\"F_Hybrid\",\"F_Flash\",\"F_SSD\",\"S_Memory\",\"S_HDD\",\"S_Hybrid\",\"S_Flash\",\"S_SSD\",\"Memory\",\"ScreenResolution\"], inplace = True)"
   ]
  },
  {
   "cell_type": "code",
   "execution_count": 49,
   "id": "401b5f80",
   "metadata": {},
   "outputs": [
    {
     "data": {
      "text/html": [
       "<div>\n",
       "<style scoped>\n",
       "    .dataframe tbody tr th:only-of-type {\n",
       "        vertical-align: middle;\n",
       "    }\n",
       "\n",
       "    .dataframe tbody tr th {\n",
       "        vertical-align: top;\n",
       "    }\n",
       "\n",
       "    .dataframe thead th {\n",
       "        text-align: right;\n",
       "    }\n",
       "</style>\n",
       "<table border=\"1\" class=\"dataframe\">\n",
       "  <thead>\n",
       "    <tr style=\"text-align: right;\">\n",
       "      <th></th>\n",
       "      <th>Company</th>\n",
       "      <th>TypeName</th>\n",
       "      <th>Ram</th>\n",
       "      <th>Gpu</th>\n",
       "      <th>OpSys</th>\n",
       "      <th>Weight</th>\n",
       "      <th>Price</th>\n",
       "      <th>Touch_Screen</th>\n",
       "      <th>IPS</th>\n",
       "      <th>PPI</th>\n",
       "      <th>CPU_Name</th>\n",
       "      <th>HDD</th>\n",
       "      <th>SSD</th>\n",
       "      <th>Hybrid</th>\n",
       "      <th>Flash_Storage</th>\n",
       "    </tr>\n",
       "  </thead>\n",
       "  <tbody>\n",
       "    <tr>\n",
       "      <th>0</th>\n",
       "      <td>Apple</td>\n",
       "      <td>Ultrabook</td>\n",
       "      <td>8</td>\n",
       "      <td>Intel Iris Plus Graphics 640</td>\n",
       "      <td>macOS</td>\n",
       "      <td>1.37kg</td>\n",
       "      <td>71378.6832</td>\n",
       "      <td>0</td>\n",
       "      <td>1</td>\n",
       "      <td>226.983005</td>\n",
       "      <td>Intel Core i5</td>\n",
       "      <td>0</td>\n",
       "      <td>128</td>\n",
       "      <td>0</td>\n",
       "      <td>0</td>\n",
       "    </tr>\n",
       "    <tr>\n",
       "      <th>1</th>\n",
       "      <td>Apple</td>\n",
       "      <td>Ultrabook</td>\n",
       "      <td>8</td>\n",
       "      <td>Intel HD Graphics 6000</td>\n",
       "      <td>macOS</td>\n",
       "      <td>1.34kg</td>\n",
       "      <td>47895.5232</td>\n",
       "      <td>0</td>\n",
       "      <td>0</td>\n",
       "      <td>127.677940</td>\n",
       "      <td>Intel Core i5</td>\n",
       "      <td>0</td>\n",
       "      <td>0</td>\n",
       "      <td>0</td>\n",
       "      <td>128</td>\n",
       "    </tr>\n",
       "  </tbody>\n",
       "</table>\n",
       "</div>"
      ],
      "text/plain": [
       "  Company   TypeName Ram                           Gpu  OpSys  Weight  \\\n",
       "0   Apple  Ultrabook   8  Intel Iris Plus Graphics 640  macOS  1.37kg   \n",
       "1   Apple  Ultrabook   8        Intel HD Graphics 6000  macOS  1.34kg   \n",
       "\n",
       "        Price  Touch_Screen  IPS         PPI       CPU_Name  HDD  SSD  Hybrid  \\\n",
       "0  71378.6832             0    1  226.983005  Intel Core i5    0  128       0   \n",
       "1  47895.5232             0    0  127.677940  Intel Core i5    0    0       0   \n",
       "\n",
       "   Flash_Storage  \n",
       "0              0  \n",
       "1            128  "
      ]
     },
     "execution_count": 49,
     "metadata": {},
     "output_type": "execute_result"
    }
   ],
   "source": [
    "df5.head(2)"
   ]
  },
  {
   "cell_type": "code",
   "execution_count": 53,
   "id": "bb2e389d",
   "metadata": {},
   "outputs": [],
   "source": [
    "# Remove extra string\n",
    "df5[\"Weight\"] = df5[\"Weight\"].str.replace('kg','').astype(\"float64\")"
   ]
  },
  {
   "cell_type": "code",
   "execution_count": 51,
   "id": "b5a37690",
   "metadata": {},
   "outputs": [
    {
     "name": "stdout",
     "output_type": "stream",
     "text": [
      "<class 'pandas.core.frame.DataFrame'>\n",
      "RangeIndex: 1303 entries, 0 to 1302\n",
      "Data columns (total 15 columns):\n",
      " #   Column         Non-Null Count  Dtype  \n",
      "---  ------         --------------  -----  \n",
      " 0   Company        1303 non-null   object \n",
      " 1   TypeName       1303 non-null   object \n",
      " 2   Ram            1303 non-null   object \n",
      " 3   Gpu            1303 non-null   object \n",
      " 4   OpSys          1303 non-null   object \n",
      " 5   Weight         1303 non-null   float64\n",
      " 6   Price          1303 non-null   float64\n",
      " 7   Touch_Screen   1303 non-null   int64  \n",
      " 8   IPS            1303 non-null   int64  \n",
      " 9   PPI            1303 non-null   float64\n",
      " 10  CPU_Name       1303 non-null   object \n",
      " 11  HDD            1303 non-null   int64  \n",
      " 12  SSD            1303 non-null   int64  \n",
      " 13  Hybrid         1303 non-null   int64  \n",
      " 14  Flash_Storage  1303 non-null   int64  \n",
      "dtypes: float64(3), int64(6), object(6)\n",
      "memory usage: 152.8+ KB\n"
     ]
    }
   ],
   "source": [
    "df5.info()"
   ]
  },
  {
   "cell_type": "code",
   "execution_count": 54,
   "id": "dcb7dfa9",
   "metadata": {},
   "outputs": [
    {
     "data": {
      "text/plain": [
       "Weight           0.210370\n",
       "Price            1.000000\n",
       "Touch_Screen     0.191226\n",
       "IPS              0.252208\n",
       "PPI              0.473487\n",
       "HDD             -0.096441\n",
       "SSD              0.670799\n",
       "Hybrid           0.007989\n",
       "Flash_Storage   -0.040511\n",
       "Name: Price, dtype: float64"
      ]
     },
     "execution_count": 54,
     "metadata": {},
     "output_type": "execute_result"
    }
   ],
   "source": [
    "df5.corr(numeric_only = True)[\"Price\"]"
   ]
  },
  {
   "cell_type": "code",
   "execution_count": 55,
   "id": "8db584ef",
   "metadata": {},
   "outputs": [],
   "source": [
    "# The relation of hybrid is very low so we have to remove it\n",
    "df5.drop(columns = [\"Hybrid\"], inplace = True)"
   ]
  },
  {
   "cell_type": "code",
   "execution_count": 56,
   "id": "5df782cc",
   "metadata": {},
   "outputs": [
    {
     "data": {
      "text/plain": [
       "Weight           0.210370\n",
       "Price            1.000000\n",
       "Touch_Screen     0.191226\n",
       "IPS              0.252208\n",
       "PPI              0.473487\n",
       "HDD             -0.096441\n",
       "SSD              0.670799\n",
       "Flash_Storage   -0.040511\n",
       "Name: Price, dtype: float64"
      ]
     },
     "execution_count": 56,
     "metadata": {},
     "output_type": "execute_result"
    }
   ],
   "source": [
    "df5.corr(numeric_only = True)[\"Price\"]"
   ]
  },
  {
   "cell_type": "markdown",
   "id": "24c166ee",
   "metadata": {},
   "source": [
    "### Analysis on GPU"
   ]
  },
  {
   "cell_type": "code",
   "execution_count": 57,
   "id": "cb49f547",
   "metadata": {},
   "outputs": [],
   "source": [
    "df6 = df5.copy()"
   ]
  },
  {
   "cell_type": "code",
   "execution_count": 58,
   "id": "f9fd1dc5",
   "metadata": {},
   "outputs": [
    {
     "data": {
      "text/plain": [
       "Gpu\n",
       "Intel HD Graphics 620      281\n",
       "Intel HD Graphics 520      185\n",
       "Intel UHD Graphics 620      68\n",
       "Nvidia GeForce GTX 1050     66\n",
       "Nvidia GeForce GTX 1060     48\n",
       "                          ... \n",
       "AMD Radeon R5 520            1\n",
       "AMD Radeon R7                1\n",
       "Intel HD Graphics 540        1\n",
       "AMD Radeon 540               1\n",
       "ARM Mali T860 MP4            1\n",
       "Name: count, Length: 110, dtype: int64"
      ]
     },
     "execution_count": 58,
     "metadata": {},
     "output_type": "execute_result"
    }
   ],
   "source": [
    "df6.Gpu.value_counts()"
   ]
  },
  {
   "cell_type": "code",
   "execution_count": 59,
   "id": "1f30db78",
   "metadata": {},
   "outputs": [],
   "source": [
    "# We have to take the first name of the GPU\n",
    "df6[\"GPU_Brand\"] = df6[\"Gpu\"].apply(lambda x:x.split()[0])"
   ]
  },
  {
   "cell_type": "code",
   "execution_count": 60,
   "id": "27a6fb58",
   "metadata": {},
   "outputs": [],
   "source": [
    "df6.drop(columns = [\"Gpu\"], inplace = True)"
   ]
  },
  {
   "cell_type": "code",
   "execution_count": 61,
   "id": "a9f0393e",
   "metadata": {},
   "outputs": [
    {
     "data": {
      "text/plain": [
       "GPU_Brand\n",
       "Intel     722\n",
       "Nvidia    400\n",
       "AMD       180\n",
       "ARM         1\n",
       "Name: count, dtype: int64"
      ]
     },
     "execution_count": 61,
     "metadata": {},
     "output_type": "execute_result"
    }
   ],
   "source": [
    "df6[\"GPU_Brand\"].value_counts()"
   ]
  },
  {
   "cell_type": "code",
   "execution_count": 61,
   "id": "067cd17e",
   "metadata": {},
   "outputs": [
    {
     "data": {
      "text/plain": [
       "<Axes: xlabel='GPU_Brand', ylabel='count'>"
      ]
     },
     "execution_count": 61,
     "metadata": {},
     "output_type": "execute_result"
    },
    {
     "data": {
      "image/png": "[encoded data removed]",
      "text/plain": [
       "<Figure size 640x480 with 1 Axes>"
      ]
     },
     "metadata": {},
     "output_type": "display_data"
    }
   ],
   "source": [
    "sb.countplot(x = df6[\"GPU_Brand\"])"
   ]
  },
  {
   "cell_type": "code",
   "execution_count": 62,
   "id": "e6b1a8eb",
   "metadata": {},
   "outputs": [
    {
     "data": {
      "text/plain": [
       "GPU_Brand\n",
       "Intel     722\n",
       "Nvidia    400\n",
       "AMD       180\n",
       "Name: count, dtype: int64"
      ]
     },
     "execution_count": 62,
     "metadata": {},
     "output_type": "execute_result"
    }
   ],
   "source": [
    "# There is only one ARM GPU so we have to remove it\n",
    "df6 = df6[df6[\"GPU_Brand\"] != \"ARM\"]\n",
    "df6[\"GPU_Brand\"].value_counts()"
   ]
  },
  {
   "cell_type": "code",
   "execution_count": 76,
   "id": "65cf3da2",
   "metadata": {
    "scrolled": true
   },
   "outputs": [
    {
     "name": "stderr",
     "output_type": "stream",
     "text": [
      "C:\\Users\\Mohsin\\AppData\\Local\\Temp\\ipykernel_18484\\695314653.py:1: FutureWarning: \n",
      "\n",
      "Passing `palette` without assigning `hue` is deprecated and will be removed in v0.14.0. Assign the `x` variable to `hue` and set `legend=False` for the same effect.\n",
      "\n",
      "  sb.barplot(x = df6[\"GPU_Brand\"], y = df6.Price, palette = \"plasma\")\n"
     ]
    },
    {
     "data": {
      "text/plain": [
       "<Axes: xlabel='GPU_Brand', ylabel='Price'>"
      ]
     },
     "execution_count": 76,
     "metadata": {},
     "output_type": "execute_result"
    },
    {
     "data": {
      "image/png": "[encoded data removed]",
      "text/plain": [
       "<Figure size 640x480 with 1 Axes>"
      ]
     },
     "metadata": {},
     "output_type": "display_data"
    }
   ],
   "source": [
    "sb.barplot(x = df6[\"GPU_Brand\"], y = df6.Price, palette = \"plasma\")"
   ]
  },
  {
   "cell_type": "markdown",
   "id": "df41e5d8",
   "metadata": {},
   "source": [
    "### Analysis on Operating System"
   ]
  },
  {
   "cell_type": "code",
   "execution_count": 64,
   "id": "d5b3a114",
   "metadata": {},
   "outputs": [],
   "source": [
    "df7 = df6.copy()"
   ]
  },
  {
   "cell_type": "code",
   "execution_count": 71,
   "id": "147b1e83",
   "metadata": {},
   "outputs": [
    {
     "data": {
      "image/png": "[encoded data removed]",
      "text/plain": [
       "<Figure size 300x300 with 1 Axes>"
      ]
     },
     "metadata": {},
     "output_type": "display_data"
    }
   ],
   "source": [
    "plt.figure(figsize = (3,3))\n",
    "sb.barplot(x = df6.OpSys, y = df6.Price)\n",
    "plt.xticks(rotation = \"vertical\")\n",
    "plt.show()"
   ]
  },
  {
   "cell_type": "code",
   "execution_count": 72,
   "id": "abc1fd43",
   "metadata": {},
   "outputs": [
    {
     "data": {
      "text/plain": [
       "OpSys\n",
       "Windows 10      1072\n",
       "No OS             66\n",
       "Linux             62\n",
       "Windows 7         45\n",
       "Chrome OS         26\n",
       "macOS             13\n",
       "Mac OS X           8\n",
       "Windows 10 S       8\n",
       "Android            2\n",
       "Name: count, dtype: int64"
      ]
     },
     "execution_count": 72,
     "metadata": {},
     "output_type": "execute_result"
    }
   ],
   "source": [
    "df7.OpSys.value_counts()"
   ]
  },
  {
   "cell_type": "code",
   "execution_count": 65,
   "id": "6f77a27a",
   "metadata": {},
   "outputs": [],
   "source": [
    "# There is nine common type of operating system.\n",
    "# After some analysis we put\n",
    "# window 10, window 7 , windows 10 s -------> Windows\n",
    "# Mac Os , mac ----> Mac\n",
    "# The other we put in -------> Other\n",
    "\n",
    "def OS_catg(text):\n",
    "    if text == \"Windows 10\" or text == \"windows 7\" or text == \"Windows 10 S\":\n",
    "        return \"Windows\"\n",
    "    elif text == \"macOS\" or text == \"Mac OS X\":\n",
    "        return \"MAC\"\n",
    "    else:\n",
    "        return \"Other\"\n",
    "    \n",
    "    \n",
    "df7[\"OpSys\"] = df7[\"OpSys\"].apply(lambda x: OS_catg(x))"
   ]
  },
  {
   "cell_type": "code",
   "execution_count": 66,
   "id": "2a5961c6",
   "metadata": {},
   "outputs": [
    {
     "data": {
      "text/plain": [
       "OpSys\n",
       "Windows    1080\n",
       "Other       201\n",
       "MAC          21\n",
       "Name: count, dtype: int64"
      ]
     },
     "execution_count": 66,
     "metadata": {},
     "output_type": "execute_result"
    }
   ],
   "source": [
    "df7[\"OpSys\"].value_counts()"
   ]
  },
  {
   "cell_type": "code",
   "execution_count": 67,
   "id": "8d2c0699",
   "metadata": {},
   "outputs": [
    {
     "data": {
      "text/plain": [
       "<Axes: xlabel='OpSys', ylabel='count'>"
      ]
     },
     "execution_count": 67,
     "metadata": {},
     "output_type": "execute_result"
    },
    {
     "data": {
      "image/png": "[encoded data removed]",
      "text/plain": [
       "<Figure size 300x300 with 1 Axes>"
      ]
     },
     "metadata": {},
     "output_type": "display_data"
    }
   ],
   "source": [
    "plt.figure(figsize = (3,3))\n",
    "sb.countplot(x = df7[\"OpSys\"])"
   ]
  },
  {
   "cell_type": "code",
   "execution_count": 68,
   "id": "6ee08015",
   "metadata": {},
   "outputs": [
    {
     "data": {
      "image/png": "[encoded data removed]",
      "text/plain": [
       "<Figure size 300x300 with 1 Axes>"
      ]
     },
     "metadata": {},
     "output_type": "display_data"
    }
   ],
   "source": [
    "plt.figure(figsize = (3,3))\n",
    "sb.barplot(x = df7.OpSys, y = df7.Price)\n",
    "plt.xticks(rotation = \"vertical\")\n",
    "plt.show()"
   ]
  },
  {
   "cell_type": "markdown",
   "id": "6499528a",
   "metadata": {},
   "source": [
    "### Weight Analysis "
   ]
  },
  {
   "cell_type": "code",
   "execution_count": 78,
   "id": "27574192",
   "metadata": {},
   "outputs": [
    {
     "data": {
      "text/plain": [
       "<Axes: xlabel='Weight', ylabel='Price'>"
      ]
     },
     "execution_count": 78,
     "metadata": {},
     "output_type": "execute_result"
    },
    {
     "data": {
      "image/png": "[encoded data removed]",
      "text/plain": [
       "<Figure size 750x450 with 1 Axes>"
      ]
     },
     "metadata": {},
     "output_type": "display_data"
    }
   ],
   "source": [
    "plt.figure(figsize = (5,3), dpi = 150)\n",
    "sb.scatterplot(x = df7.Weight, y = df7.Price)"
   ]
  },
  {
   "cell_type": "code",
   "execution_count": 69,
   "id": "efa6943a",
   "metadata": {},
   "outputs": [
    {
     "data": {
      "text/plain": [
       "<Figure size 300x200 with 0 Axes>"
      ]
     },
     "metadata": {},
     "output_type": "display_data"
    },
    {
     "data": {
      "image/png": "[encoded data removed]",
      "text/plain": [
       "<Figure size 500x500 with 1 Axes>"
      ]
     },
     "metadata": {},
     "output_type": "display_data"
    }
   ],
   "source": [
    "plt.figure(figsize = (3,2))\n",
    "sb.displot(x = df7.Weight, kde = True)\n",
    "plt.show()"
   ]
  },
  {
   "cell_type": "markdown",
   "id": "8e6d4715",
   "metadata": {},
   "source": [
    "#### Price Analysis"
   ]
  },
  {
   "cell_type": "code",
   "execution_count": 81,
   "id": "290e3d90",
   "metadata": {},
   "outputs": [
    {
     "data": {
      "text/plain": [
       "<Figure size 200x200 with 0 Axes>"
      ]
     },
     "metadata": {},
     "output_type": "display_data"
    },
    {
     "data": {
      "image/png": "[encoded data removed]",
      "text/plain": [
       "<Figure size 500x500 with 1 Axes>"
      ]
     },
     "metadata": {},
     "output_type": "display_data"
    }
   ],
   "source": [
    "plt.figure(figsize = (2,2))\n",
    "sb.displot(df7.Price, kde =True)\n",
    "plt.show()"
   ]
  },
  {
   "cell_type": "code",
   "execution_count": 70,
   "id": "d52e4295",
   "metadata": {},
   "outputs": [
    {
     "data": {
      "text/plain": [
       "<Figure size 200x200 with 0 Axes>"
      ]
     },
     "metadata": {},
     "output_type": "display_data"
    },
    {
     "data": {
      "image/png": "[encoded data removed]",
      "text/plain": [
       "<Figure size 500x500 with 1 Axes>"
      ]
     },
     "metadata": {},
     "output_type": "display_data"
    }
   ],
   "source": [
    "# The Price Columns is Skew at Right side so we take its log value\n",
    "# Then the skewness is removed \n",
    "plt.figure(figsize = (2,2))\n",
    "sb.displot(np.log(df7.Price), kde =True)\n",
    "plt.show()"
   ]
  },
  {
   "cell_type": "code",
   "execution_count": 71,
   "id": "ed091fa4",
   "metadata": {},
   "outputs": [
    {
     "data": {
      "text/plain": [
       "Weight           0.209867\n",
       "Price            1.000000\n",
       "Touch_Screen     0.192917\n",
       "IPS              0.253320\n",
       "PPI              0.475368\n",
       "HDD             -0.096891\n",
       "SSD              0.670660\n",
       "Flash_Storage   -0.040067\n",
       "Name: Price, dtype: float64"
      ]
     },
     "execution_count": 71,
     "metadata": {},
     "output_type": "execute_result"
    }
   ],
   "source": [
    "df7.corr(numeric_only = True)[\"Price\"]"
   ]
  },
  {
   "cell_type": "code",
   "execution_count": 103,
   "id": "594e4dc2",
   "metadata": {},
   "outputs": [
    {
     "data": {
      "text/plain": [
       "<Axes: >"
      ]
     },
     "execution_count": 103,
     "metadata": {},
     "output_type": "execute_result"
    },
    {
     "data": {
      "image/png": "[encoded data removed]",
      "text/plain": [
       "<Figure size 640x480 with 2 Axes>"
      ]
     },
     "metadata": {},
     "output_type": "display_data"
    }
   ],
   "source": [
    "sb.heatmap(df7.corr(numeric_only = True), annot = True, cmap = \"plasma\")"
   ]
  },
  {
   "cell_type": "markdown",
   "id": "87327d97",
   "metadata": {},
   "source": [
    "### Model Building"
   ]
  },
  {
   "cell_type": "code",
   "execution_count": 97,
   "id": "8db8da6e",
   "metadata": {},
   "outputs": [],
   "source": [
    "target = np.log(df7[\"Price\"])\n",
    "train = df7.drop([\"Price\"], axis = 1)"
   ]
  },
  {
   "cell_type": "code",
   "execution_count": 104,
   "id": "5dde242a",
   "metadata": {},
   "outputs": [],
   "source": [
    "from sklearn.model_selection import train_test_split\n",
    "from sklearn.preprocessing import MinMaxScaler, StandardScaler\n",
    "from sklearn.compose import ColumnTransformer\n",
    "from sklearn.preprocessing import LabelEncoder,OneHotEncoder\n",
    "from sklearn.model_selection import RandomizedSearchCV\n",
    "from sklearn import metrics\n",
    "from sklearn.linear_model import LinearRegression,Lasso,Ridge\n",
    "from sklearn.tree import DecisionTreeRegressor\n",
    "from sklearn.ensemble import RandomForestRegressor,GradientBoostingRegressor\n",
    "from sklearn.neighbors import KNeighborsRegressor\n",
    "#from xghoost import XGBRegressor\n",
    "from sklearn.pipeline import Pipeline\n",
    "from sklearn.svm import SVR\n",
    "\n",
    "from sklearn import tree"
   ]
  },
  {
   "cell_type": "code",
   "execution_count": 105,
   "id": "5c2acc26",
   "metadata": {},
   "outputs": [
    {
     "data": {
      "text/plain": [
       "((1106, 13), (196, 13))"
      ]
     },
     "execution_count": 105,
     "metadata": {},
     "output_type": "execute_result"
    }
   ],
   "source": [
    "xtrain, xtest, ytrain, ytest = train_test_split(train, target, test_size = 0.15, random_state = 2)\n",
    "\n",
    "xtrain.shape, xtest.shape"
   ]
  },
  {
   "cell_type": "markdown",
   "id": "97446df7",
   "metadata": {},
   "source": [
    "##### There is a class which we imported name as columns Transformer. we use this widely while building our models using Pipeline. so for this we have to get the index numbers of the columns which are having Categorical Variables"
   ]
  },
  {
   "cell_type": "code",
   "execution_count": 108,
   "id": "713eafc8",
   "metadata": {},
   "outputs": [
    {
     "data": {
      "text/plain": [
       "{0: 'Company',\n",
       " 1: 'TypeName',\n",
       " 2: 'Ram',\n",
       " 3: 'OpSys',\n",
       " 4: 'Weight',\n",
       " 5: 'Touch_Screen',\n",
       " 6: 'IPS',\n",
       " 7: 'PPI',\n",
       " 8: 'CPU_Name',\n",
       " 9: 'HDD',\n",
       " 10: 'SSD',\n",
       " 11: 'Flash_Storage',\n",
       " 12: 'GPU_Brand'}"
      ]
     },
     "execution_count": 108,
     "metadata": {},
     "output_type": "execute_result"
    }
   ],
   "source": [
    "mapper = {i: value for i, value in enumerate(xtrain.columns)}\n",
    "mapper"
   ]
  },
  {
   "cell_type": "markdown",
   "id": "c2d74dcf",
   "metadata": {},
   "source": [
    "## Linear Regression"
   ]
  },
  {
   "cell_type": "code",
   "execution_count": 112,
   "id": "7f9b2972",
   "metadata": {},
   "outputs": [
    {
     "name": "stdout",
     "output_type": "stream",
     "text": [
      "R2 Score 0.8052868769014168\n",
      "MAE 0.21422265562273243\n"
     ]
    }
   ],
   "source": [
    "# we will apply one hot encoding on the categorical columns\n",
    "# this is categorical columns---->[0,1,3,8,12]\n",
    "\n",
    "step1 = ColumnTransformer(transformers =[\n",
    "    ('col_tnf', OneHotEncoder(sparse_output = False, drop = 'first'),[0,1,3,8,12])\n",
    "], remainder = \"passthrough\")\n",
    "\n",
    "Algorithm = LinearRegression()\n",
    "\n",
    "pipe = Pipeline([('step1',step1),('Algorithm', Algorithm)])\n",
    "\n",
    "pipe.fit(xtrain, ytrain)\n",
    "\n",
    "y_pred = pipe.predict(xtest)\n",
    "\n",
    "print(\"R2 Score\", metrics.r2_score(ytest, y_pred))\n",
    "print(\"MAE\", metrics.mean_absolute_error(ytest, y_pred))"
   ]
  },
  {
   "cell_type": "markdown",
   "id": "26ea6784",
   "metadata": {},
   "source": [
    "### Ridge Regression"
   ]
  },
  {
   "cell_type": "code",
   "execution_count": 113,
   "id": "00dc3ecc",
   "metadata": {},
   "outputs": [
    {
     "name": "stdout",
     "output_type": "stream",
     "text": [
      "R2 Score 0.8076914232716821\n",
      "MAE 0.21449595492642817\n"
     ]
    }
   ],
   "source": [
    "# we will apply one hot encoding on the categorical columns\n",
    "# this is categorical columns---->[0,1,3,8,12]\n",
    "\n",
    "step1 = ColumnTransformer(transformers =[\n",
    "    ('col_tnf', OneHotEncoder(sparse_output = False, drop = 'first'),[0,1,3,8,12])\n",
    "], remainder = \"passthrough\")\n",
    "\n",
    "Ridge_Reg = Ridge(alpha = 10)\n",
    "\n",
    "pipe = Pipeline([('step1',step1),('Algorithm', Ridge_Reg)])\n",
    "\n",
    "pipe.fit(xtrain, ytrain)\n",
    "\n",
    "y_pred = pipe.predict(xtest)\n",
    "\n",
    "print(\"R2 Score\", metrics.r2_score(ytest, y_pred))\n",
    "print(\"MAE\", metrics.mean_absolute_error(ytest, y_pred))"
   ]
  },
  {
   "cell_type": "code",
   "execution_count": 114,
   "id": "f04f4d1b",
   "metadata": {},
   "outputs": [
    {
     "name": "stdout",
     "output_type": "stream",
     "text": [
      "R2 Score 0.8007115073692128\n",
      "MAE 0.21712575569011988\n"
     ]
    }
   ],
   "source": [
    "# we will apply one hot encoding on the categorical columns\n",
    "# this is categorical columns---->[0,1,3,8,12]\n",
    "\n",
    "step1 = ColumnTransformer(transformers =[\n",
    "    ('col_tnf', OneHotEncoder(sparse_output = False, drop = 'first'),[0,1,3,8,12])\n",
    "], remainder = \"passthrough\")\n",
    "\n",
    "Lasso_Reg = Lasso(alpha = 0.001)\n",
    "\n",
    "pipe = Pipeline([('step1',step1),('Algorithm', Lasso_Reg)])\n",
    "\n",
    "pipe.fit(xtrain, ytrain)\n",
    "\n",
    "y_pred = pipe.predict(xtest)\n",
    "\n",
    "print(\"R2 Score\", metrics.r2_score(ytest, y_pred))\n",
    "print(\"MAE\", metrics.mean_absolute_error(ytest, y_pred))"
   ]
  },
  {
   "cell_type": "markdown",
   "id": "d00bc18e",
   "metadata": {},
   "source": [
    "### Decision Tree"
   ]
  },
  {
   "cell_type": "code",
   "execution_count": 123,
   "id": "d62d391e",
   "metadata": {},
   "outputs": [
    {
     "name": "stdout",
     "output_type": "stream",
     "text": [
      "R2 Score 0.8222579520927662\n",
      "MAE 0.19376967377971835\n"
     ]
    }
   ],
   "source": [
    "# we will apply one hot encoding on the categorical columns\n",
    "# this is categorical columns---->[0,1,3,8,12]\n",
    "\n",
    "step1 = ColumnTransformer(transformers =[\n",
    "    ('col_tnf', OneHotEncoder(sparse_output = False, drop = 'first'),[0,1,3,8,12])\n",
    "], remainder = \"passthrough\")\n",
    "\n",
    "DT = DecisionTreeRegressor(max_depth = 8)\n",
    "\n",
    "pipe = Pipeline([('step1',step1),('Algorithm', DT)])\n",
    "\n",
    "pipe.fit(xtrain, ytrain)\n",
    "\n",
    "y_pred = pipe.predict(xtest)\n",
    "\n",
    "print(\"R2 Score\", metrics.r2_score(ytest, y_pred))\n",
    "print(\"MAE\", metrics.mean_absolute_error(ytest, y_pred))"
   ]
  },
  {
   "cell_type": "markdown",
   "id": "160a1004",
   "metadata": {},
   "source": [
    "### Random Forest"
   ]
  },
  {
   "cell_type": "code",
   "execution_count": 124,
   "id": "03d6aea4",
   "metadata": {},
   "outputs": [
    {
     "name": "stdout",
     "output_type": "stream",
     "text": [
      "R2 Score 0.879304194821178\n",
      "MAE 0.15786848463433464\n"
     ]
    }
   ],
   "source": [
    "# we will apply one hot encoding on the categorical columns\n",
    "# this is categorical columns---->[0,1,3,8,12]\n",
    "\n",
    "step1 = ColumnTransformer(transformers =[\n",
    "    ('col_tnf', OneHotEncoder(sparse_output = False, drop = 'first'),[0,1,3,8,12])\n",
    "], remainder = \"passthrough\")\n",
    "\n",
    "RF = RandomForestRegressor()\n",
    "\n",
    "pipe = Pipeline([('step1',step1),('Algorithm', RF)])\n",
    "\n",
    "pipe.fit(xtrain, ytrain)\n",
    "\n",
    "y_pred = pipe.predict(xtest)\n",
    "\n",
    "print(\"R2 Score\", metrics.r2_score(ytest, y_pred))\n",
    "print(\"MAE\", metrics.mean_absolute_error(ytest, y_pred))"
   ]
  },
  {
   "cell_type": "code",
   "execution_count": null,
   "id": "3efbd6fc",
   "metadata": {},
   "outputs": [],
   "source": []
  }
 ],
 "metadata": {
  "kernelspec": {
   "display_name": "Python 3 (ipykernel)",
   "language": "python",
   "name": "python3"
  },
  "language_info": {
   "codemirror_mode": {
    "name": "ipython",
    "version": 3
   },
   "file_extension": ".py",
   "mimetype": "text/x-python",
   "name": "python",
   "nbconvert_exporter": "python",
   "pygments_lexer": "ipython3",
   "version": "3.9.19"
  }
 },
 "nbformat": 4,
 "nbformat_minor": 5
}
