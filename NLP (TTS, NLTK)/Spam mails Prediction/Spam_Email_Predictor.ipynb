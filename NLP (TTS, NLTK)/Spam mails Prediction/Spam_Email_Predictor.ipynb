{
 "cells": [
  {
   "cell_type": "markdown",
   "id": "925208b8-47a8-426f-9fec-a3d7de17b1f4",
   "metadata": {},
   "source": [
    "### Mohsin Shah"
   ]
  },
  {
   "cell_type": "code",
   "execution_count": 3,
   "id": "8f0341b9-a819-4932-bd07-1b076f820bdf",
   "metadata": {},
   "outputs": [],
   "source": [
    "import numpy as np\n",
    "import pandas as pd\n",
    "import matplotlib.pyplot as plt\n",
    "import seaborn as sb"
   ]
  },
  {
   "cell_type": "markdown",
   "id": "7384ed68-7698-4694-b9ff-ab60b660e440",
   "metadata": {},
   "source": [
    "### 1. Collecting Data Set"
   ]
  },
  {
   "cell_type": "code",
   "execution_count": 4,
   "id": "f9f5636d-c403-4d9c-8fe5-68c0db6dcf33",
   "metadata": {},
   "outputs": [],
   "source": [
    "df = pd.read_csv(\"Spam_NotSpam_Mails.csv\",  encoding='ISO-8859-1')"
   ]
  },
  {
   "cell_type": "code",
   "execution_count": 5,
   "id": "0fc85622-f566-471a-b4f5-2b3466faa9e9",
   "metadata": {},
   "outputs": [
    {
     "data": {
      "text/html": [
       "<div>\n",
       "<style scoped>\n",
       "    .dataframe tbody tr th:only-of-type {\n",
       "        vertical-align: middle;\n",
       "    }\n",
       "\n",
       "    .dataframe tbody tr th {\n",
       "        vertical-align: top;\n",
       "    }\n",
       "\n",
       "    .dataframe thead th {\n",
       "        text-align: right;\n",
       "    }\n",
       "</style>\n",
       "<table border=\"1\" class=\"dataframe\">\n",
       "  <thead>\n",
       "    <tr style=\"text-align: right;\">\n",
       "      <th></th>\n",
       "      <th>v1</th>\n",
       "      <th>v2</th>\n",
       "      <th>Unnamed: 2</th>\n",
       "      <th>Unnamed: 3</th>\n",
       "      <th>Unnamed: 4</th>\n",
       "    </tr>\n",
       "  </thead>\n",
       "  <tbody>\n",
       "    <tr>\n",
       "      <th>0</th>\n",
       "      <td>ham</td>\n",
       "      <td>Go until jurong point, crazy.. Available only ...</td>\n",
       "      <td>NaN</td>\n",
       "      <td>NaN</td>\n",
       "      <td>NaN</td>\n",
       "    </tr>\n",
       "    <tr>\n",
       "      <th>1</th>\n",
       "      <td>ham</td>\n",
       "      <td>Ok lar... Joking wif u oni...</td>\n",
       "      <td>NaN</td>\n",
       "      <td>NaN</td>\n",
       "      <td>NaN</td>\n",
       "    </tr>\n",
       "  </tbody>\n",
       "</table>\n",
       "</div>"
      ],
      "text/plain": [
       "    v1                                                 v2 Unnamed: 2  \\\n",
       "0  ham  Go until jurong point, crazy.. Available only ...        NaN   \n",
       "1  ham                      Ok lar... Joking wif u oni...        NaN   \n",
       "\n",
       "  Unnamed: 3 Unnamed: 4  \n",
       "0        NaN        NaN  \n",
       "1        NaN        NaN  "
      ]
     },
     "execution_count": 5,
     "metadata": {},
     "output_type": "execute_result"
    }
   ],
   "source": [
    "df.head(2)"
   ]
  },
  {
   "cell_type": "markdown",
   "id": "f462de73-9183-40f1-83fe-476ef86d121b",
   "metadata": {},
   "source": [
    "### 2. Pre Processing and Feature Selection"
   ]
  },
  {
   "cell_type": "code",
   "execution_count": 6,
   "id": "9ccbb61e-5b3b-4c51-8684-df8336d450aa",
   "metadata": {},
   "outputs": [],
   "source": [
    "# First of all i have to drop the extra columns from the Dataset.\n",
    "df.drop(columns = ['Unnamed: 2','Unnamed: 3','Unnamed: 4'], inplace = True)"
   ]
  },
  {
   "cell_type": "code",
   "execution_count": 7,
   "id": "07301f10-bb60-4da5-9c98-b5d23688dcf3",
   "metadata": {},
   "outputs": [],
   "source": [
    "# Now to change the name of the columns.\n",
    "df = df.rename(columns = {\"v1\" : \"Type\",\"v2\" : \"Mails\"})"
   ]
  },
  {
   "cell_type": "code",
   "execution_count": 8,
   "id": "c11fca60-3e23-4358-a59f-c498db13e008",
   "metadata": {},
   "outputs": [
    {
     "data": {
      "text/html": [
       "<div>\n",
       "<style scoped>\n",
       "    .dataframe tbody tr th:only-of-type {\n",
       "        vertical-align: middle;\n",
       "    }\n",
       "\n",
       "    .dataframe tbody tr th {\n",
       "        vertical-align: top;\n",
       "    }\n",
       "\n",
       "    .dataframe thead th {\n",
       "        text-align: right;\n",
       "    }\n",
       "</style>\n",
       "<table border=\"1\" class=\"dataframe\">\n",
       "  <thead>\n",
       "    <tr style=\"text-align: right;\">\n",
       "      <th></th>\n",
       "      <th>Type</th>\n",
       "      <th>Mails</th>\n",
       "    </tr>\n",
       "  </thead>\n",
       "  <tbody>\n",
       "    <tr>\n",
       "      <th>0</th>\n",
       "      <td>ham</td>\n",
       "      <td>Go until jurong point, crazy.. Available only ...</td>\n",
       "    </tr>\n",
       "    <tr>\n",
       "      <th>1</th>\n",
       "      <td>ham</td>\n",
       "      <td>Ok lar... Joking wif u oni...</td>\n",
       "    </tr>\n",
       "  </tbody>\n",
       "</table>\n",
       "</div>"
      ],
      "text/plain": [
       "  Type                                              Mails\n",
       "0  ham  Go until jurong point, crazy.. Available only ...\n",
       "1  ham                      Ok lar... Joking wif u oni..."
      ]
     },
     "execution_count": 8,
     "metadata": {},
     "output_type": "execute_result"
    }
   ],
   "source": [
    "df.head(2)"
   ]
  },
  {
   "cell_type": "code",
   "execution_count": 9,
   "id": "d79e173e-f613-46b9-be4d-7f86c361ecf2",
   "metadata": {},
   "outputs": [
    {
     "name": "stdout",
     "output_type": "stream",
     "text": [
      "<class 'pandas.core.frame.DataFrame'>\n",
      "RangeIndex: 5572 entries, 0 to 5571\n",
      "Data columns (total 2 columns):\n",
      " #   Column  Non-Null Count  Dtype \n",
      "---  ------  --------------  ----- \n",
      " 0   Type    5572 non-null   object\n",
      " 1   Mails   5572 non-null   object\n",
      "dtypes: object(2)\n",
      "memory usage: 87.2+ KB\n"
     ]
    }
   ],
   "source": [
    "# Now to check the 'info' function.\n",
    "# Check the null value and remove it\n",
    "df.info()"
   ]
  },
  {
   "cell_type": "code",
   "execution_count": 10,
   "id": "66ddd6f4-a64f-4f43-95f4-a99c9bb72664",
   "metadata": {},
   "outputs": [
    {
     "data": {
      "text/plain": [
       "Type     0\n",
       "Mails    0\n",
       "dtype: int64"
      ]
     },
     "execution_count": 10,
     "metadata": {},
     "output_type": "execute_result"
    }
   ],
   "source": [
    "df.isnull().sum()"
   ]
  },
  {
   "cell_type": "code",
   "execution_count": 11,
   "id": "d7cc5805-914c-494a-9ebc-e0fafc18c822",
   "metadata": {},
   "outputs": [
    {
     "data": {
      "text/plain": [
       "403"
      ]
     },
     "execution_count": 11,
     "metadata": {},
     "output_type": "execute_result"
    }
   ],
   "source": [
    "# There is no null value in the Dataset\n",
    "# Check the duplicate mails and then remove it\n",
    "df.duplicated().sum()"
   ]
  },
  {
   "cell_type": "code",
   "execution_count": 12,
   "id": "bbd589ee-52ae-47e5-989c-e63cfb844e4b",
   "metadata": {},
   "outputs": [],
   "source": [
    "# There are 403 duplicate mails, so i remove it, for best accuracy.\n",
    "df.drop_duplicates(inplace = True)"
   ]
  },
  {
   "cell_type": "code",
   "execution_count": 13,
   "id": "d9801ec4-dd0f-4038-9fab-04cadcf734ba",
   "metadata": {},
   "outputs": [
    {
     "data": {
      "text/plain": [
       "0"
      ]
     },
     "execution_count": 13,
     "metadata": {},
     "output_type": "execute_result"
    }
   ],
   "source": [
    "df.duplicated().sum()"
   ]
  },
  {
   "cell_type": "markdown",
   "id": "0cfca904-a3a3-4bdd-ab6a-f32b9773a53b",
   "metadata": {},
   "source": [
    "#### Used label Encoding on 'Type' columns of the Dataset."
   ]
  },
  {
   "cell_type": "code",
   "execution_count": 14,
   "id": "a3b6cea7-c21f-4937-af8b-51735d28cdd9",
   "metadata": {},
   "outputs": [],
   "source": [
    "from sklearn.preprocessing import LabelEncoder\n",
    "L_Encoder = LabelEncoder()"
   ]
  },
  {
   "cell_type": "code",
   "execution_count": 15,
   "id": "aea88230-c8ce-4894-8a1f-55fc025fb937",
   "metadata": {},
   "outputs": [],
   "source": [
    "df.Type = L_Encoder.fit_transform(df.Type)"
   ]
  },
  {
   "cell_type": "code",
   "execution_count": 16,
   "id": "05aa60d4-ca68-4f5a-9d9f-df5ac3dc1aca",
   "metadata": {},
   "outputs": [
    {
     "data": {
      "text/plain": [
       "Type\n",
       "0    4516\n",
       "1     653\n",
       "Name: count, dtype: int64"
      ]
     },
     "execution_count": 16,
     "metadata": {},
     "output_type": "execute_result"
    }
   ],
   "source": [
    "df.Type.value_counts()"
   ]
  },
  {
   "cell_type": "code",
   "execution_count": 17,
   "id": "3b384328-2254-44a1-b29f-4c431b80272d",
   "metadata": {
    "scrolled": true
   },
   "outputs": [
    {
     "data": {
      "text/plain": [
       "<Axes: xlabel='Type', ylabel='count'>"
      ]
     },
     "execution_count": 17,
     "metadata": {},
     "output_type": "execute_result"
    },
    {
     "data": {
      "image/png": "[encoded data removed]",
      "text/plain": [
       "<Figure size 600x300 with 1 Axes>"
      ]
     },
     "metadata": {},
     "output_type": "display_data"
    }
   ],
   "source": [
    "# To visualize the Type of spam and Unspem mails\n",
    "plt.figure(figsize = (4,2), dpi = 150)\n",
    "sb.countplot(data = df, x = df.Type)"
   ]
  },
  {
   "cell_type": "code",
   "execution_count": 18,
   "id": "bed1fb59-5c5c-4a6b-a915-90006a97e0cb",
   "metadata": {},
   "outputs": [
    {
     "data": {
      "image/png": "[encoded data removed]",
      "text/plain": [
       "<Figure size 200x200 with 1 Axes>"
      ]
     },
     "metadata": {},
     "output_type": "display_data"
    }
   ],
   "source": [
    "# autopct is a string or function used to label the wedges with their numeric value\n",
    "plt.figure(figsize = (2,2))\n",
    "plt.pie(df['Type'].value_counts(), labels = ['Unspam','Spam'], autopct = '%.2f')\n",
    "plt.show()"
   ]
  },
  {
   "cell_type": "markdown",
   "id": "5fca66e9-1eae-4877-8d8e-eb89cf64325b",
   "metadata": {},
   "source": [
    "#### Now we have to remove stopwords and punctuation from dataset."
   ]
  },
  {
   "cell_type": "code",
   "execution_count": 19,
   "id": "5a40bff9-8972-4e66-b14b-3efecbfab930",
   "metadata": {},
   "outputs": [
    {
     "data": {
      "text/plain": [
       "'!\"#$%&\\'()*+,-./:;<=>?@[\\\\]^_`{|}~'"
      ]
     },
     "execution_count": 19,
     "metadata": {},
     "output_type": "execute_result"
    }
   ],
   "source": [
    "import string\n",
    "string.punctuation   # These all are Punctuation !\"#$%&\\'()*+,-./:;<=>?@[\\\\]^_`{|}~"
   ]
  },
  {
   "cell_type": "code",
   "execution_count": 20,
   "id": "17419afb-5c36-4a2d-8036-e223b6fcc430",
   "metadata": {},
   "outputs": [],
   "source": [
    "import nltk\n",
    "from nltk.corpus import stopwords"
   ]
  },
  {
   "cell_type": "code",
   "execution_count": 21,
   "id": "31481b37-a86a-4b0f-9493-3e7e72d0fd4f",
   "metadata": {},
   "outputs": [],
   "source": [
    "# This function convert sentence into lower case, then divide it into words\n",
    "# Then it will remove stop words and punctuation, which are not necessary for model \n",
    "\n",
    "def transform_text(text):\n",
    "    text = text.lower()  # It convert all the sentence into lower case\n",
    "    text = nltk.word_tokenize(text) # It divide the sentences into word\n",
    "\n",
    "    y = []\n",
    "    for t in text:\n",
    "        if t.isalnum():  # This function will remove all Special Character from the words\n",
    "            y.append(t) # It will return the words except special character \n",
    "            \n",
    "    text = y[:] \n",
    "    y.clear()\n",
    "\n",
    "    for t in text:\n",
    "        # isalnum and string.punctuation both work same. if we used any one of them, it will remove the punctuation\n",
    "        # if there is any stop word or punctuation it will be removed from the words.\n",
    "        if t not in stopwords.words('english') and t not in string.punctuation:\n",
    "            y.append(t)\n",
    "\n",
    "    return \" \".join(y)\n",
    "    "
   ]
  },
  {
   "cell_type": "code",
   "execution_count": 22,
   "id": "ca47c78c-82eb-4d06-ae24-db7bf9e02812",
   "metadata": {},
   "outputs": [
    {
     "data": {
      "text/plain": [
       "0       go jurong point crazy available bugis n great ...\n",
       "1                                 ok lar joking wif u oni\n",
       "2       free entry 2 wkly comp win fa cup final tkts 2...\n",
       "3                     u dun say early hor u c already say\n",
       "4                  nah think goes usf lives around though\n",
       "                              ...                        \n",
       "5567    2nd time tried 2 contact u pound prize 2 claim...\n",
       "5568                            b going esplanade fr home\n",
       "5569                                pity mood suggestions\n",
       "5570    guy bitching acted like interested buying some...\n",
       "5571                                       rofl true name\n",
       "Name: Mails, Length: 5169, dtype: object"
      ]
     },
     "execution_count": 22,
     "metadata": {},
     "output_type": "execute_result"
    }
   ],
   "source": [
    "df[\"Mails\"].apply(transform_text)"
   ]
  },
  {
   "cell_type": "code",
   "execution_count": 23,
   "id": "eb53d0d0-cb19-4cc4-8773-f1a6440beb4b",
   "metadata": {},
   "outputs": [],
   "source": [
    "df['Mails'] = df[\"Mails\"].apply(transform_text)"
   ]
  },
  {
   "cell_type": "code",
   "execution_count": 24,
   "id": "395ebca0-96c5-49f1-b397-61eeffd502b6",
   "metadata": {},
   "outputs": [
    {
     "data": {
      "text/html": [
       "<div>\n",
       "<style scoped>\n",
       "    .dataframe tbody tr th:only-of-type {\n",
       "        vertical-align: middle;\n",
       "    }\n",
       "\n",
       "    .dataframe tbody tr th {\n",
       "        vertical-align: top;\n",
       "    }\n",
       "\n",
       "    .dataframe thead th {\n",
       "        text-align: right;\n",
       "    }\n",
       "</style>\n",
       "<table border=\"1\" class=\"dataframe\">\n",
       "  <thead>\n",
       "    <tr style=\"text-align: right;\">\n",
       "      <th></th>\n",
       "      <th>Type</th>\n",
       "      <th>Mails</th>\n",
       "    </tr>\n",
       "  </thead>\n",
       "  <tbody>\n",
       "    <tr>\n",
       "      <th>0</th>\n",
       "      <td>0</td>\n",
       "      <td>go jurong point crazy available bugis n great ...</td>\n",
       "    </tr>\n",
       "    <tr>\n",
       "      <th>1</th>\n",
       "      <td>0</td>\n",
       "      <td>ok lar joking wif u oni</td>\n",
       "    </tr>\n",
       "  </tbody>\n",
       "</table>\n",
       "</div>"
      ],
      "text/plain": [
       "   Type                                              Mails\n",
       "0     0  go jurong point crazy available bugis n great ...\n",
       "1     0                            ok lar joking wif u oni"
      ]
     },
     "execution_count": 24,
     "metadata": {},
     "output_type": "execute_result"
    }
   ],
   "source": [
    "df.head(2)"
   ]
  },
  {
   "cell_type": "markdown",
   "id": "0ac7e880-a429-4467-98cb-6f9b1e529c2e",
   "metadata": {},
   "source": [
    "### 3. Apply Spam Filter Algorithm, Train and Test Data"
   ]
  },
  {
   "cell_type": "markdown",
   "id": "94a60a44-aec8-4098-9d3c-318d0d98e538",
   "metadata": {},
   "source": [
    "#### TFIDF vectorization"
   ]
  },
  {
   "cell_type": "code",
   "execution_count": 25,
   "id": "f955ade7-4660-4cca-843a-d26e1ee9a246",
   "metadata": {},
   "outputs": [],
   "source": [
    "from sklearn.feature_extraction.text import TfidfVectorizer\n",
    "tfidf =TfidfVectorizer()"
   ]
  },
  {
   "cell_type": "code",
   "execution_count": 26,
   "id": "00e7eccd-5cd0-41c4-9a5e-17f0dddb6f40",
   "metadata": {},
   "outputs": [],
   "source": [
    "x = tfidf.fit_transform(df['Mails']).toarray()"
   ]
  },
  {
   "cell_type": "code",
   "execution_count": 27,
   "id": "3a44154f-9a27-4218-b6ad-4146a9ae2406",
   "metadata": {},
   "outputs": [],
   "source": [
    "y = df['Type'].values"
   ]
  },
  {
   "cell_type": "code",
   "execution_count": 28,
   "id": "882fe03a-9d8e-41dc-915c-a756cf51845e",
   "metadata": {},
   "outputs": [
    {
     "data": {
      "text/plain": [
       "array([0, 0, 1, ..., 0, 0, 0])"
      ]
     },
     "execution_count": 28,
     "metadata": {},
     "output_type": "execute_result"
    }
   ],
   "source": [
    "y"
   ]
  },
  {
   "cell_type": "markdown",
   "id": "970e271f-c240-40ca-856c-458626364f67",
   "metadata": {},
   "source": [
    "#### Train Test Split "
   ]
  },
  {
   "cell_type": "code",
   "execution_count": 29,
   "id": "c4e64271-8cb9-4193-9e63-4b5b6b28ef49",
   "metadata": {},
   "outputs": [],
   "source": [
    "from sklearn.model_selection import train_test_split\n",
    "xtrain, xtest, ytrain, ytest = train_test_split(x,y,test_size = 0.3, random_state = 2)"
   ]
  },
  {
   "cell_type": "markdown",
   "id": "01935a68-0b9e-4a85-a1cc-75b35f7a422f",
   "metadata": {},
   "source": [
    "### Naive Bayes"
   ]
  },
  {
   "cell_type": "code",
   "execution_count": 30,
   "id": "611df635",
   "metadata": {},
   "outputs": [],
   "source": [
    "from sklearn.naive_bayes import GaussianNB, MultinomialNB, BernoulliNB\n",
    "from sklearn.metrics import accuracy_score,confusion_matrix\n",
    "gnb = GaussianNB()\n",
    "mnb = MultinomialNB()\n",
    "bnb = BernoulliNB()"
   ]
  },
  {
   "cell_type": "markdown",
   "id": "a63e4ba7-3c0a-4fdd-ab51-bdd2b7977870",
   "metadata": {},
   "source": [
    "Guassian naive bayes"
   ]
  },
  {
   "cell_type": "code",
   "execution_count": 31,
   "id": "d879a52e-3cc3-4d11-9609-c31eecb3269a",
   "metadata": {},
   "outputs": [],
   "source": [
    "gnb.fit(xtrain,ytrain)\n",
    "ypred = gnb.predict(xtest)"
   ]
  },
  {
   "cell_type": "code",
   "execution_count": 32,
   "id": "4282dec0-0c87-4851-b9aa-44d98d43fb20",
   "metadata": {},
   "outputs": [
    {
     "name": "stdout",
     "output_type": "stream",
     "text": [
      "Accuracy Score =  0.8936170212765957\n",
      "Error rate =  0.1063829787234043\n",
      "[[1230  130]\n",
      " [  35  156]]\n"
     ]
    }
   ],
   "source": [
    "print(\"Accuracy Score = \", accuracy_score(ytest,ypred))\n",
    "print(\"Error rate = \",  1 - accuracy_score(ytest,ypred))\n",
    "print(confusion_matrix(ytest,ypred))"
   ]
  },
  {
   "cell_type": "markdown",
   "id": "7d000fa8-e3e0-4aba-b046-593be0b88fed",
   "metadata": {},
   "source": [
    "Multinomia naive bayes"
   ]
  },
  {
   "cell_type": "code",
   "execution_count": 33,
   "id": "b7c527ab-ce9b-47ec-a28c-908b3cd873da",
   "metadata": {},
   "outputs": [],
   "source": [
    "mnb.fit(xtrain,ytrain)\n",
    "ypred = mnb.predict(xtest)"
   ]
  },
  {
   "cell_type": "code",
   "execution_count": 34,
   "id": "03f7fac7-826d-4b96-a0a9-43e56319baf8",
   "metadata": {},
   "outputs": [
    {
     "name": "stdout",
     "output_type": "stream",
     "text": [
      "Accuracy Score =  0.9542230818826564\n",
      "Errore rate =  0.045776918117343635\n",
      "[[1360    0]\n",
      " [  71  120]]\n"
     ]
    }
   ],
   "source": [
    "print(\"Accuracy Score = \", accuracy_score(ytest,ypred))\n",
    "print(\"Errore rate = \",  1 - accuracy_score(ytest,ypred))\n",
    "print(confusion_matrix(ytest,ypred))"
   ]
  },
  {
   "cell_type": "markdown",
   "id": "ecc9bab9-a9d6-4a63-b74e-209f82c1794a",
   "metadata": {},
   "source": [
    "Bernoili naive bayes"
   ]
  },
  {
   "cell_type": "code",
   "execution_count": 35,
   "id": "8ed6cb8a-0777-4cd8-be7a-09ab401bb565",
   "metadata": {},
   "outputs": [],
   "source": [
    "bnb.fit(xtrain,ytrain)\n",
    "ypred = bnb.predict(xtest)"
   ]
  },
  {
   "cell_type": "code",
   "execution_count": 36,
   "id": "ad61fd97-78d3-4ba8-ac33-7049add1ad07",
   "metadata": {},
   "outputs": [
    {
     "name": "stdout",
     "output_type": "stream",
     "text": [
      "Accuracy Score 0.9664732430689877\n",
      "Errore rate =  0.03352675693101226\n",
      "[[1354    6]\n",
      " [  46  145]]\n"
     ]
    }
   ],
   "source": [
    "print(\"Accuracy Score\", accuracy_score(ytest,ypred))\n",
    "print(\"Errore rate = \",  1 - accuracy_score(ytest,ypred))\n",
    "print(confusion_matrix(ytest,ypred))"
   ]
  },
  {
   "cell_type": "markdown",
   "id": "a3cff720-53c2-4820-86ee-dcdf04d108a0",
   "metadata": {},
   "source": [
    "### 4. Confusion Matrix"
   ]
  },
  {
   "cell_type": "code",
   "execution_count": 37,
   "id": "b0fdfb76-6d3c-43ed-8deb-30abb8a58108",
   "metadata": {},
   "outputs": [
    {
     "data": {
      "text/plain": [
       "<sklearn.metrics._plot.confusion_matrix.ConfusionMatrixDisplay at 0x239c29b6c70>"
      ]
     },
     "execution_count": 37,
     "metadata": {},
     "output_type": "execute_result"
    },
    {
     "data": {
      "image/png": "[encoded data removed]",
      "text/plain": [
       "<Figure size 640x480 with 2 Axes>"
      ]
     },
     "metadata": {},
     "output_type": "display_data"
    }
   ],
   "source": [
    "from sklearn.metrics import ConfusionMatrixDisplay\n",
    "ConfusionMatrixDisplay.from_estimator(bnb,xtest,ytest)"
   ]
  },
  {
   "cell_type": "markdown",
   "id": "3769c243-dd26-49ea-ac8b-b79b37775b19",
   "metadata": {},
   "source": [
    "### 5. Accuracy"
   ]
  },
  {
   "cell_type": "markdown",
   "id": "fdedb85c-0102-4dbf-9e15-de7e8fa35235",
   "metadata": {},
   "source": [
    "The Best Accuracy and low error rate is guassian Naive bayes Algorithm"
   ]
  }
 ],
 "metadata": {
  "kernelspec": {
   "display_name": "Python 3 (ipykernel)",
   "language": "python",
   "name": "python3"
  },
  "language_info": {
   "codemirror_mode": {
    "name": "ipython",
    "version": 3
   },
   "file_extension": ".py",
   "mimetype": "text/x-python",
   "name": "python",
   "nbconvert_exporter": "python",
   "pygments_lexer": "ipython3",
   "version": "3.9.18"
  }
 },
 "nbformat": 4,
 "nbformat_minor": 5
}
