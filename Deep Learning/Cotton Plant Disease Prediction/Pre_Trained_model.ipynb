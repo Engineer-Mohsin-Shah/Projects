{
 "cells": [
  {
   "cell_type": "code",
   "execution_count": 1,
   "id": "e697c24e",
   "metadata": {},
   "outputs": [],
   "source": [
    "import tensorflow as tf\n",
    "from tensorflow.keras import models, layers, Sequential\n",
    "import matplotlib.pyplot as plt"
   ]
  },
  {
   "cell_type": "code",
   "execution_count": 2,
   "id": "b8013a05",
   "metadata": {},
   "outputs": [
    {
     "name": "stdout",
     "output_type": "stream",
     "text": [
      "Found 1707 files belonging to 4 classes.\n"
     ]
    }
   ],
   "source": [
    "dataset = tf.keras.preprocessing.image_dataset_from_directory(\n",
    "    directory = \"Cotton Plant Disease Dataset\",\n",
    "    shuffle = True,\n",
    "    label_mode = 'int',\n",
    "    batch_size = 32,\n",
    "    image_size = (256,256)\n",
    ")"
   ]
  },
  {
   "cell_type": "code",
   "execution_count": 4,
   "id": "5e96aceb",
   "metadata": {},
   "outputs": [
    {
     "data": {
      "text/plain": [
       "['Bacterial Blight', 'Curl Virus', 'Fussarium Wilt', 'Healthy']"
      ]
     },
     "execution_count": 4,
     "metadata": {},
     "output_type": "execute_result"
    }
   ],
   "source": [
    "class_name = dataset.class_names\n",
    "class_name"
   ]
  },
  {
   "cell_type": "code",
   "execution_count": 5,
   "id": "8d08f427",
   "metadata": {},
   "outputs": [
    {
     "data": {
      "text/plain": [
       "4"
      ]
     },
     "execution_count": 5,
     "metadata": {},
     "output_type": "execute_result"
    }
   ],
   "source": [
    "n_class = len(class_name)\n",
    "n_class"
   ]
  },
  {
   "cell_type": "markdown",
   "id": "95699d82",
   "metadata": {},
   "source": [
    "### Print Image of each batch"
   ]
  },
  {
   "cell_type": "code",
   "execution_count": null,
   "id": "eef74a56",
   "metadata": {},
   "outputs": [
    {
     "name": "stdout",
     "output_type": "stream",
     "text": [
      "tf.Tensor(\n",
      "[[[2.55000000e+02 2.55000000e+02 2.55000000e+02]\n",
      "  [0.00000000e+00 9.43919983e+01 0.00000000e+00]\n",
      "  [2.52381897e+00 1.08243744e+02 0.00000000e+00]\n",
      "  ...\n",
      "  [0.00000000e+00 0.00000000e+00 0.00000000e+00]\n",
      "  [0.00000000e+00 0.00000000e+00 0.00000000e+00]\n",
      "  [0.00000000e+00 0.00000000e+00 0.00000000e+00]]\n",
      "\n",
      " [[2.55000000e+02 2.55000000e+02 2.55000000e+02]\n",
      "  [0.00000000e+00 8.47982483e+01 0.00000000e+00]\n",
      "  [1.95703125e+00 9.94418793e+01 0.00000000e+00]\n",
      "  ...\n",
      "  [0.00000000e+00 0.00000000e+00 0.00000000e+00]\n",
      "  [0.00000000e+00 0.00000000e+00 0.00000000e+00]\n",
      "  [0.00000000e+00 0.00000000e+00 0.00000000e+00]]\n",
      "\n",
      " [[2.55000000e+02 2.55000000e+02 2.55000000e+02]\n",
      "  [8.55560303e-02 8.00103760e+01 0.00000000e+00]\n",
      "  [0.00000000e+00 9.09139709e+01 0.00000000e+00]\n",
      "  ...\n",
      "  [0.00000000e+00 0.00000000e+00 0.00000000e+00]\n",
      "  [0.00000000e+00 0.00000000e+00 0.00000000e+00]\n",
      "  [0.00000000e+00 0.00000000e+00 0.00000000e+00]]\n",
      "\n",
      " ...\n",
      "\n",
      " [[2.55000000e+02 2.55000000e+02 2.55000000e+02]\n",
      "  [5.75296326e+01 1.19487427e+02 1.34487427e+02]\n",
      "  [6.59904022e+01 1.29865433e+02 1.45111526e+02]\n",
      "  ...\n",
      "  [0.00000000e+00 0.00000000e+00 0.00000000e+00]\n",
      "  [0.00000000e+00 0.00000000e+00 0.00000000e+00]\n",
      "  [0.00000000e+00 0.00000000e+00 0.00000000e+00]]\n",
      "\n",
      " [[2.55000000e+02 2.55000000e+02 2.55000000e+02]\n",
      "  [5.07332306e+01 1.14299637e+02 1.27796188e+02]\n",
      "  [5.84157715e+01 1.21470078e+02 1.35336121e+02]\n",
      "  ...\n",
      "  [0.00000000e+00 0.00000000e+00 0.00000000e+00]\n",
      "  [0.00000000e+00 0.00000000e+00 0.00000000e+00]\n",
      "  [0.00000000e+00 0.00000000e+00 0.00000000e+00]]\n",
      "\n",
      " [[2.55000000e+02 2.55000000e+02 2.55000000e+02]\n",
      "  [1.63183899e+02 1.90449371e+02 1.94804688e+02]\n",
      "  [1.63034744e+02 1.92904282e+02 1.97617569e+02]\n",
      "  ...\n",
      "  [1.40449219e+02 1.40449219e+02 1.40449219e+02]\n",
      "  [1.40449219e+02 1.40449219e+02 1.40449219e+02]\n",
      "  [1.40449219e+02 1.40449219e+02 1.40449219e+02]]], shape=(256, 256, 3), dtype=float32)\n",
      "[[[2.55000000e+02 2.55000000e+02 2.55000000e+02]\n",
      "  [0.00000000e+00 9.43919983e+01 0.00000000e+00]\n",
      "  [2.52381897e+00 1.08243744e+02 0.00000000e+00]\n",
      "  ...\n",
      "  [0.00000000e+00 0.00000000e+00 0.00000000e+00]\n",
      "  [0.00000000e+00 0.00000000e+00 0.00000000e+00]\n",
      "  [0.00000000e+00 0.00000000e+00 0.00000000e+00]]\n",
      "\n",
      " [[2.55000000e+02 2.55000000e+02 2.55000000e+02]\n",
      "  [0.00000000e+00 8.47982483e+01 0.00000000e+00]\n",
      "  [1.95703125e+00 9.94418793e+01 0.00000000e+00]\n",
      "  ...\n",
      "  [0.00000000e+00 0.00000000e+00 0.00000000e+00]\n",
      "  [0.00000000e+00 0.00000000e+00 0.00000000e+00]\n",
      "  [0.00000000e+00 0.00000000e+00 0.00000000e+00]]\n",
      "\n",
      " [[2.55000000e+02 2.55000000e+02 2.55000000e+02]\n",
      "  [8.55560303e-02 8.00103760e+01 0.00000000e+00]\n",
      "  [0.00000000e+00 9.09139709e+01 0.00000000e+00]\n",
      "  ...\n",
      "  [0.00000000e+00 0.00000000e+00 0.00000000e+00]\n",
      "  [0.00000000e+00 0.00000000e+00 0.00000000e+00]\n",
      "  [0.00000000e+00 0.00000000e+00 0.00000000e+00]]\n",
      "\n",
      " ...\n",
      "\n",
      " [[2.55000000e+02 2.55000000e+02 2.55000000e+02]\n",
      "  [5.75296326e+01 1.19487427e+02 1.34487427e+02]\n",
      "  [6.59904022e+01 1.29865433e+02 1.45111526e+02]\n",
      "  ...\n",
      "  [0.00000000e+00 0.00000000e+00 0.00000000e+00]\n",
      "  [0.00000000e+00 0.00000000e+00 0.00000000e+00]\n",
      "  [0.00000000e+00 0.00000000e+00 0.00000000e+00]]\n",
      "\n",
      " [[2.55000000e+02 2.55000000e+02 2.55000000e+02]\n",
      "  [5.07332306e+01 1.14299637e+02 1.27796188e+02]\n",
      "  [5.84157715e+01 1.21470078e+02 1.35336121e+02]\n",
      "  ...\n",
      "  [0.00000000e+00 0.00000000e+00 0.00000000e+00]\n",
      "  [0.00000000e+00 0.00000000e+00 0.00000000e+00]\n",
      "  [0.00000000e+00 0.00000000e+00 0.00000000e+00]]\n",
      "\n",
      " [[2.55000000e+02 2.55000000e+02 2.55000000e+02]\n",
      "  [1.63183899e+02 1.90449371e+02 1.94804688e+02]\n",
      "  [1.63034744e+02 1.92904282e+02 1.97617569e+02]\n",
      "  ...\n",
      "  [1.40449219e+02 1.40449219e+02 1.40449219e+02]\n",
      "  [1.40449219e+02 1.40449219e+02 1.40449219e+02]\n",
      "  [1.40449219e+02 1.40449219e+02 1.40449219e+02]]]\n",
      "(256, 256, 3)\n",
      "class number =  0\n",
      "class Name =  Bacterial Blight\n"
     ]
    }
   ],
   "source": [
    "plt.figure(figsize = (3,3))\n",
    "for image_batch, label_batch in dataset.take(1):\n",
    "  # It show tensor of images \n",
    "  print(image_batch[0])\n",
    "  # It Show numpy array images\n",
    "  print(image_batch[0].numpy())\n",
    "  # it show shape of image\n",
    "  print(image_batch[0].shape)\n",
    "  # it show the different class value\n",
    "  print(\"class number = \", label_batch[0].numpy())\n",
    "  # It show the class name of the image\n",
    "  print(\"class Name = \", class_name[label_batch[0]])\n",
    "  # It show the specfic image\n",
    "  plt.imshow(image_batch[0].numpy().astype('uint8'))\n",
    "  plt.axis('off')"
   ]
  },
  {
   "cell_type": "code",
   "execution_count": null,
   "id": "9005fd95",
   "metadata": {},
   "outputs": [],
   "source": [
    "plt.figure(figsize = (6,6))\n",
    "\n",
    "for image_batch, label_batch in dataset.take(1):\n",
    "  for i in range(9):\n",
    "    ax = plt.subplot(3,3,i+1)\n",
    "    plt.imshow(image_batch[i].numpy().astype('uint8'))\n",
    "    plt.title(class_name[label_batch[i]])\n",
    "    plt.axis('off')"
   ]
  },
  {
   "cell_type": "markdown",
   "id": "e9a64b25",
   "metadata": {},
   "source": [
    "### Divide the Dataset into Train, Test, Valid"
   ]
  },
  {
   "cell_type": "code",
   "execution_count": 7,
   "id": "92a8aaaf",
   "metadata": {},
   "outputs": [
    {
     "data": {
      "text/plain": [
       "(43, 5, 5)"
      ]
     },
     "execution_count": 7,
     "metadata": {},
     "output_type": "execute_result"
    }
   ],
   "source": [
    "# The size of train dataset is 80%\n",
    "# The size of test dataset is 10%\n",
    "# The size of valid dataset is 10%\n",
    "\n",
    "train_datasize = int(0.8*len(dataset))\n",
    "test_datasize = int(0.1*len(dataset))\n",
    "valid_datasize = int(0.1*len(dataset))\n",
    "\n",
    "train_datasize, test_datasize, valid_datasize"
   ]
  },
  {
   "cell_type": "code",
   "execution_count": 8,
   "id": "9683c712",
   "metadata": {},
   "outputs": [
    {
     "name": "stdout",
     "output_type": "stream",
     "text": [
      "Train Dataset lenght = 43\n",
      "Test Dataset lenght = 5\n",
      "Valid Dataset lenght = 6\n"
     ]
    }
   ],
   "source": [
    "Train_dataset = dataset.take(train_datasize)\n",
    "Test_dataset = dataset.skip(train_datasize).take(test_datasize)\n",
    "Valid_dataset = dataset.skip(train_datasize+test_datasize)\n",
    "print(f\"Train Dataset lenght = {len(Train_dataset)}\\nTest Dataset lenght = {len(Test_dataset)}\\nValid Dataset lenght = {len(Valid_dataset)}\")"
   ]
  },
  {
   "cell_type": "markdown",
   "id": "6a4f4169",
   "metadata": {},
   "source": [
    "### Through a function we also splite the Dataset"
   ]
  },
  {
   "cell_type": "code",
   "execution_count": 9,
   "id": "ad2bf386",
   "metadata": {},
   "outputs": [],
   "source": [
    "def split_dataset(dataset, train_size, test_size, valid_size, shuffle = True, shuffle_size = 10000):\n",
    "  dataset_size = len(dataset)\n",
    "\n",
    "  if shuffle:\n",
    "    dataset = dataset.shuffle(shuffle_size, seed = 15)\n",
    "\n",
    "  train_datasize = int(train_size*dataset_size)\n",
    "  test_datasize = int(test_size*dataset_size)\n",
    "  valid_datasize = int(valid_size*dataset_size)\n",
    "\n",
    "  Train_dataset = dataset.take(train_datasize)\n",
    "  Test_dataset = dataset.skip(train_datasize).take(test_datasize)\n",
    "  Valid_dataset = dataset.skip(train_datasize+test_datasize)\n",
    "\n",
    "  return Train_dataset, Test_dataset, Valid_dataset"
   ]
  },
  {
   "cell_type": "code",
   "execution_count": 10,
   "id": "6812fb1b",
   "metadata": {},
   "outputs": [
    {
     "name": "stdout",
     "output_type": "stream",
     "text": [
      "Train Dataset lenght = 43\n",
      "Test Dataset lenght = 5\n",
      "Valid Dataset lenght = 6\n"
     ]
    }
   ],
   "source": [
    "Train_dataset, Test_dataset, Valid_dataset = split_dataset(dataset, 0.8, 0.1, 0.1)\n",
    "print(f\"Train Dataset lenght = {len(Train_dataset)}\\nTest Dataset lenght = {len(Test_dataset)}\\nValid Dataset lenght = {len(Valid_dataset)}\")"
   ]
  },
  {
   "cell_type": "markdown",
   "id": "b4c955be",
   "metadata": {},
   "source": [
    "### Preprocessing"
   ]
  },
  {
   "cell_type": "code",
   "execution_count": 11,
   "id": "7538cbbb",
   "metadata": {},
   "outputs": [],
   "source": [
    "Train_dataset = Train_dataset.cache().shuffle(1000).prefetch(buffer_size = tf.data.AUTOTUNE)\n",
    "Test_dataset = Test_dataset.cache().shuffle(1000).prefetch(buffer_size = tf.data.AUTOTUNE)\n",
    "Valid_dataset = Valid_dataset.cache().shuffle(1000).prefetch(buffer_size = tf.data.AUTOTUNE)"
   ]
  },
  {
   "cell_type": "code",
   "execution_count": 12,
   "id": "a5791f4a",
   "metadata": {},
   "outputs": [],
   "source": [
    "resize_and_rescale = tf.keras.Sequential([\n",
    "    layers.experimental.preprocessing.Resizing(256,256),\n",
    "    layers.experimental.preprocessing.Rescaling(1.0/255)\n",
    "])"
   ]
  },
  {
   "cell_type": "code",
   "execution_count": 13,
   "id": "de125571",
   "metadata": {},
   "outputs": [],
   "source": [
    "data_augmentation = tf.keras.Sequential([\n",
    "    layers.experimental.preprocessing.RandomFlip(\"horizontal_and_vertical\"),\n",
    "    layers.experimental.preprocessing.RandomRotation(0.2)\n",
    "])"
   ]
  },
  {
   "cell_type": "markdown",
   "id": "f287453a",
   "metadata": {},
   "source": [
    "### Resnet50 Model"
   ]
  },
  {
   "cell_type": "code",
   "execution_count": 11,
   "id": "462425f3",
   "metadata": {},
   "outputs": [],
   "source": [
    "Resnet50 = tf.keras.applications.ResNet50(\n",
    "    include_top = False,\n",
    "    weights=\"imagenet\",\n",
    "    input_shape = (256,256,3),\n",
    "    classes = 4\n",
    ")"
   ]
  },
  {
   "cell_type": "code",
   "execution_count": 12,
   "id": "a46eafee",
   "metadata": {},
   "outputs": [],
   "source": [
    "Resnet_Model = Sequential()\n",
    "Resnet50.trainable = False\n",
    "\n",
    "Resnet_Model.add(Resnet50)\n",
    "Resnet_Model.add(layers.Flatten())\n",
    "Resnet_Model.add(layers.Dense(512, activation = 'relu'))\n",
    "Resnet_Model.add(layers.Dense(4, activation = 'softmax'))\n"
   ]
  },
  {
   "cell_type": "code",
   "execution_count": 13,
   "id": "2d8735a7",
   "metadata": {},
   "outputs": [
    {
     "name": "stdout",
     "output_type": "stream",
     "text": [
      "Model: \"sequential\"\n",
      "_________________________________________________________________\n",
      "Layer (type)                 Output Shape              Param #   \n",
      "=================================================================\n",
      "resnet50 (Functional)        (None, 8, 8, 2048)        23587712  \n",
      "_________________________________________________________________\n",
      "flatten (Flatten)            (None, 131072)            0         \n",
      "_________________________________________________________________\n",
      "dense (Dense)                (None, 512)               67109376  \n",
      "_________________________________________________________________\n",
      "dense_1 (Dense)              (None, 4)                 2052      \n",
      "=================================================================\n",
      "Total params: 90,699,140\n",
      "Trainable params: 67,111,428\n",
      "Non-trainable params: 23,587,712\n",
      "_________________________________________________________________\n"
     ]
    }
   ],
   "source": [
    "Resnet_Model.summary()"
   ]
  },
  {
   "cell_type": "code",
   "execution_count": 14,
   "id": "53352be1",
   "metadata": {},
   "outputs": [],
   "source": [
    "Resnet_Model.compile(\n",
    "    optimizer = 'adam',\n",
    "    loss = tf.keras.losses.SparseCategoricalCrossentropy(from_logits = False),\n",
    "    metrics = ['accuracy']\n",
    ")"
   ]
  },
  {
   "cell_type": "code",
   "execution_count": 15,
   "id": "c87766f6",
   "metadata": {},
   "outputs": [
    {
     "name": "stdout",
     "output_type": "stream",
     "text": [
      "Epoch 1/4\n",
      "43/43 [==============================] - 176s 4s/step - loss: 12.9840 - accuracy: 0.8074 - val_loss: 0.2345 - val_accuracy: 0.9896\n",
      "Epoch 2/4\n",
      "43/43 [==============================] - 163s 4s/step - loss: 0.3094 - accuracy: 0.9804 - val_loss: 0.0498 - val_accuracy: 0.9896\n",
      "Epoch 3/4\n",
      "43/43 [==============================] - 152s 3s/step - loss: 0.1162 - accuracy: 0.9948 - val_loss: 4.2938e-04 - val_accuracy: 1.0000\n",
      "Epoch 4/4\n",
      "43/43 [==============================] - 169s 4s/step - loss: 0.0532 - accuracy: 0.9956 - val_loss: 0.0278 - val_accuracy: 0.9942\n"
     ]
    }
   ],
   "source": [
    "Resnet50_history = Resnet_Model.fit(\n",
    "    Train_dataset,\n",
    "    epochs = 4,\n",
    "    validation_data = Valid_dataset\n",
    ")"
   ]
  },
  {
   "cell_type": "code",
   "execution_count": 16,
   "id": "3b1a6409",
   "metadata": {},
   "outputs": [
    {
     "name": "stdout",
     "output_type": "stream",
     "text": [
      "5/5 [==============================] - 17s 3s/step - loss: 0.0870 - accuracy: 0.9875\n"
     ]
    },
    {
     "data": {
      "text/plain": [
       "[0.0870383232831955, 0.987500011920929]"
      ]
     },
     "execution_count": 16,
     "metadata": {},
     "output_type": "execute_result"
    }
   ],
   "source": [
    "Resnet50_Score = Resnet_Model.evaluate(Test_dataset)\n",
    "Resnet50_Score"
   ]
  },
  {
   "cell_type": "markdown",
   "id": "223e238f",
   "metadata": {},
   "source": [
    "### VGG16 Model"
   ]
  },
  {
   "cell_type": "code",
   "execution_count": 26,
   "id": "8964e4bc",
   "metadata": {},
   "outputs": [],
   "source": [
    "VGG16 = tf.keras.applications.VGG16(\n",
    "    include_top=False,\n",
    "    weights=\"imagenet\",\n",
    "    input_shape=(256,256,3)\n",
    ")"
   ]
  },
  {
   "cell_type": "code",
   "execution_count": 27,
   "id": "dd45bfd5",
   "metadata": {},
   "outputs": [],
   "source": [
    "VGG16_Model = Sequential()\n",
    "VGG16.trainable = False\n",
    "\n",
    "VGG16_Model.add(VGG16)\n",
    "VGG16_Model.add(layers.Flatten())\n",
    "VGG16_Model.add(layers.Dense(512, activation = 'relu'))\n",
    "VGG16_Model.add(layers.Dense(4, activation = 'softmax'))"
   ]
  },
  {
   "cell_type": "code",
   "execution_count": 28,
   "id": "46c628e0",
   "metadata": {},
   "outputs": [
    {
     "name": "stdout",
     "output_type": "stream",
     "text": [
      "Model: \"sequential_3\"\n",
      "_________________________________________________________________\n",
      "Layer (type)                 Output Shape              Param #   \n",
      "=================================================================\n",
      "vgg16 (Functional)           (None, 8, 8, 512)         14714688  \n",
      "_________________________________________________________________\n",
      "flatten_1 (Flatten)          (None, 32768)             0         \n",
      "_________________________________________________________________\n",
      "dense_2 (Dense)              (None, 512)               16777728  \n",
      "_________________________________________________________________\n",
      "dense_3 (Dense)              (None, 4)                 2052      \n",
      "=================================================================\n",
      "Total params: 31,494,468\n",
      "Trainable params: 16,779,780\n",
      "Non-trainable params: 14,714,688\n",
      "_________________________________________________________________\n"
     ]
    }
   ],
   "source": [
    "VGG16_Model.summary()"
   ]
  },
  {
   "cell_type": "code",
   "execution_count": 29,
   "id": "e13c0b75",
   "metadata": {},
   "outputs": [],
   "source": [
    "VGG16_Model.compile(\n",
    "    optimizer = 'adam',\n",
    "    loss = tf.keras.losses.SparseCategoricalCrossentropy(from_logits = False),\n",
    "    metrics = ['accuracy']\n",
    ")"
   ]
  },
  {
   "cell_type": "code",
   "execution_count": 30,
   "id": "3a713429",
   "metadata": {},
   "outputs": [
    {
     "name": "stdout",
     "output_type": "stream",
     "text": [
      "Epoch 1/4\n",
      "43/43 [==============================] - 650s 15s/step - loss: 9.9458 - accuracy: 0.8170 - val_loss: 0.0786 - val_accuracy: 0.9942\n",
      "Epoch 2/4\n",
      "43/43 [==============================] - 614s 14s/step - loss: 0.2021 - accuracy: 0.9838 - val_loss: 0.0826 - val_accuracy: 0.9825\n",
      "Epoch 3/4\n",
      "43/43 [==============================] - 597s 14s/step - loss: 0.0759 - accuracy: 0.9919 - val_loss: 0.2390 - val_accuracy: 0.9766\n",
      "Epoch 4/4\n",
      "43/43 [==============================] - 777s 18s/step - loss: 0.0469 - accuracy: 0.9956 - val_loss: 0.2302 - val_accuracy: 0.9825\n"
     ]
    }
   ],
   "source": [
    "VGG16_history = VGG16_Model.fit(\n",
    "    Train_dataset,\n",
    "    epochs = 4,\n",
    "    validation_data = Valid_dataset\n",
    ")"
   ]
  },
  {
   "cell_type": "code",
   "execution_count": 38,
   "id": "4205e964",
   "metadata": {},
   "outputs": [
    {
     "name": "stdout",
     "output_type": "stream",
     "text": [
      "5/5 [==============================] - 70s 14s/step - loss: 0.3428 - accuracy: 0.9875\n"
     ]
    },
    {
     "data": {
      "text/plain": [
       "[0.34280914068222046, 0.987500011920929]"
      ]
     },
     "execution_count": 38,
     "metadata": {},
     "output_type": "execute_result"
    }
   ],
   "source": [
    "VGG16_Score = VGG16_Model.evaluate(Test_dataset)\n",
    "VGG16_Score"
   ]
  },
  {
   "cell_type": "markdown",
   "id": "26526dc6",
   "metadata": {},
   "source": [
    "### Xception "
   ]
  },
  {
   "cell_type": "code",
   "execution_count": 31,
   "id": "43d56f7c",
   "metadata": {},
   "outputs": [
    {
     "name": "stdout",
     "output_type": "stream",
     "text": [
      "Downloading data from https://storage.googleapis.com/tensorflow/keras-applications/xception/xception_weights_tf_dim_ordering_tf_kernels_notop.h5\n",
      "83689472/83683744 [==============================] - 1303s 16us/step\n",
      "83697664/83683744 [==============================] - 1303s 16us/step\n"
     ]
    }
   ],
   "source": [
    "Xception = tf.keras.applications.Xception(\n",
    "    include_top=False,\n",
    "    weights=\"imagenet\",\n",
    "    input_shape=(256,256,3)\n",
    ")"
   ]
  },
  {
   "cell_type": "code",
   "execution_count": 34,
   "id": "606d2bda",
   "metadata": {},
   "outputs": [],
   "source": [
    "Xception_Model = Sequential()\n",
    "Xception.trainable = False\n",
    "\n",
    "Xception_Model.add(Xception)\n",
    "Xception_Model.add(layers.Flatten())\n",
    "Xception_Model.add(layers.Dense(512, activation = \"relu\"))\n",
    "Xception_Model.add(layers.Dense(4, activation = \"softmax\"))\n"
   ]
  },
  {
   "cell_type": "code",
   "execution_count": 35,
   "id": "58348b53",
   "metadata": {},
   "outputs": [
    {
     "name": "stdout",
     "output_type": "stream",
     "text": [
      "Model: \"sequential_6\"\n",
      "_________________________________________________________________\n",
      "Layer (type)                 Output Shape              Param #   \n",
      "=================================================================\n",
      "xception (Functional)        (None, 8, 8, 2048)        20861480  \n",
      "_________________________________________________________________\n",
      "flatten_2 (Flatten)          (None, 131072)            0         \n",
      "_________________________________________________________________\n",
      "dense_4 (Dense)              (None, 512)               67109376  \n",
      "_________________________________________________________________\n",
      "dense_5 (Dense)              (None, 4)                 2052      \n",
      "=================================================================\n",
      "Total params: 87,972,908\n",
      "Trainable params: 67,111,428\n",
      "Non-trainable params: 20,861,480\n",
      "_________________________________________________________________\n"
     ]
    }
   ],
   "source": [
    "Xception_Model.summary()"
   ]
  },
  {
   "cell_type": "code",
   "execution_count": 36,
   "id": "833ec8cd",
   "metadata": {},
   "outputs": [],
   "source": [
    "Xception_Model.compile(\n",
    "    optimizer = 'adam',\n",
    "    loss = tf.keras.losses.SparseCategoricalCrossentropy(from_logits = False),\n",
    "    metrics = ['accuracy']\n",
    ")"
   ]
  },
  {
   "cell_type": "code",
   "execution_count": 37,
   "id": "00c0d9fe",
   "metadata": {},
   "outputs": [
    {
     "name": "stdout",
     "output_type": "stream",
     "text": [
      "Epoch 1/4\n",
      "43/43 [==============================] - 662s 15s/step - loss: 0.0469 - accuracy: 0.9926 - val_loss: 0.4551 - val_accuracy: 0.9825\n",
      "Epoch 2/4\n",
      "43/43 [==============================] - 626s 15s/step - loss: 0.3164 - accuracy: 0.9867 - val_loss: 0.5010 - val_accuracy: 0.9942\n",
      "Epoch 3/4\n",
      "43/43 [==============================] - 616s 14s/step - loss: 0.0244 - accuracy: 0.9985 - val_loss: 0.5877 - val_accuracy: 0.9883\n",
      "Epoch 4/4\n",
      "43/43 [==============================] - 689s 16s/step - loss: 0.0325 - accuracy: 0.9970 - val_loss: 0.8113 - val_accuracy: 0.9942\n"
     ]
    }
   ],
   "source": [
    "Xception_Model_history = VGG16_Model.fit(\n",
    "    Train_dataset,\n",
    "    epochs = 4,\n",
    "    validation_data = Valid_dataset\n",
    ")"
   ]
  },
  {
   "cell_type": "code",
   "execution_count": 40,
   "id": "cd383885",
   "metadata": {},
   "outputs": [
    {
     "name": "stdout",
     "output_type": "stream",
     "text": [
      "5/5 [==============================] - 24s 5s/step - loss: 13.8336 - accuracy: 0.2313\n"
     ]
    },
    {
     "data": {
      "text/plain": [
       "[13.833582878112793, 0.23125000298023224]"
      ]
     },
     "execution_count": 40,
     "metadata": {},
     "output_type": "execute_result"
    }
   ],
   "source": [
    "Xception_Score = Xception_Model.evaluate(Test_dataset)\n",
    "Xception_Score"
   ]
  },
  {
   "cell_type": "markdown",
   "id": "2c3bd66e",
   "metadata": {},
   "source": [
    "### InceptionV3"
   ]
  },
  {
   "cell_type": "code",
   "execution_count": 10,
   "id": "16a1248c",
   "metadata": {},
   "outputs": [
    {
     "name": "stdout",
     "output_type": "stream",
     "text": [
      "A local file was found, but it seems to be incomplete or outdated because the auto file hash does not match the original value of bcbd6486424b2319ff4ef7d526e38f63 so we will re-download the data.\n",
      "Downloading data from https://storage.googleapis.com/tensorflow/keras-applications/inception_v3/inception_v3_weights_tf_dim_ordering_tf_kernels_notop.h5\n",
      "87916544/87910968 [==============================] - 510s 6us/step\n",
      "87924736/87910968 [==============================] - 510s 6us/step\n"
     ]
    }
   ],
   "source": [
    "InceptionV3 = tf.keras.applications.InceptionV3(\n",
    "    include_top=False,\n",
    "    weights=\"imagenet\",\n",
    "    input_shape=(256,256,3)\n",
    ")"
   ]
  },
  {
   "cell_type": "code",
   "execution_count": 11,
   "id": "56dc6ae0",
   "metadata": {},
   "outputs": [],
   "source": [
    "InceptionV3_Model = Sequential()\n",
    "InceptionV3.trainable = False\n",
    "\n",
    "InceptionV3_Model.add(InceptionV3)\n",
    "InceptionV3_Model.add(layers.Flatten())\n",
    "InceptionV3_Model.add(layers.Dense(512, activation = \"relu\"))\n",
    "InceptionV3_Model.add(layers.Dense(4, activation = \"softmax\"))\n"
   ]
  },
  {
   "cell_type": "code",
   "execution_count": 13,
   "id": "c2c006ad",
   "metadata": {},
   "outputs": [
    {
     "name": "stdout",
     "output_type": "stream",
     "text": [
      "Model: \"sequential\"\n",
      "_________________________________________________________________\n",
      "Layer (type)                 Output Shape              Param #   \n",
      "=================================================================\n",
      "inception_v3 (Functional)    (None, 6, 6, 2048)        21802784  \n",
      "_________________________________________________________________\n",
      "flatten (Flatten)            (None, 73728)             0         \n",
      "_________________________________________________________________\n",
      "dense (Dense)                (None, 512)               37749248  \n",
      "_________________________________________________________________\n",
      "dense_1 (Dense)              (None, 4)                 2052      \n",
      "=================================================================\n",
      "Total params: 59,554,084\n",
      "Trainable params: 37,751,300\n",
      "Non-trainable params: 21,802,784\n",
      "_________________________________________________________________\n"
     ]
    }
   ],
   "source": [
    "InceptionV3_Model.summary()"
   ]
  },
  {
   "cell_type": "code",
   "execution_count": 15,
   "id": "adbd2c51",
   "metadata": {},
   "outputs": [],
   "source": [
    "InceptionV3_Model.compile(\n",
    "    optimizer = 'adam',\n",
    "    loss = tf.keras.losses.SparseCategoricalCrossentropy(from_logits = False),\n",
    "    metrics = ['accuracy']\n",
    ")"
   ]
  },
  {
   "cell_type": "code",
   "execution_count": 16,
   "id": "1486e4d3",
   "metadata": {},
   "outputs": [
    {
     "name": "stdout",
     "output_type": "stream",
     "text": [
      "Epoch 1/4\n",
      "43/43 [==============================] - 119s 3s/step - loss: 296.0261 - accuracy: 0.5160 - val_loss: 183.7151 - val_accuracy: 0.5521\n",
      "Epoch 2/4\n",
      "43/43 [==============================] - 107s 2s/step - loss: 80.9226 - accuracy: 0.7129 - val_loss: 40.2923 - val_accuracy: 0.8490\n",
      "Epoch 3/4\n",
      "43/43 [==============================] - 102s 2s/step - loss: 67.9309 - accuracy: 0.7528 - val_loss: 16.9933 - val_accuracy: 0.8906\n",
      "Epoch 4/4\n",
      "43/43 [==============================] - 335s 8s/step - loss: 29.1202 - accuracy: 0.8365 - val_loss: 44.1854 - val_accuracy: 0.7836\n"
     ]
    }
   ],
   "source": [
    "InceptionV3_Model_history = InceptionV3_Model.fit(\n",
    "    Train_dataset,\n",
    "    epochs = 4,\n",
    "    validation_data = Valid_dataset\n",
    ")"
   ]
  },
  {
   "cell_type": "code",
   "execution_count": 18,
   "id": "84d98235",
   "metadata": {},
   "outputs": [
    {
     "name": "stdout",
     "output_type": "stream",
     "text": [
      "5/5 [==============================] - 10s 1s/step - loss: 46.2853 - accuracy: 0.7875\n"
     ]
    },
    {
     "data": {
      "text/plain": [
       "[46.28532409667969, 0.7875000238418579]"
      ]
     },
     "execution_count": 18,
     "metadata": {},
     "output_type": "execute_result"
    }
   ],
   "source": [
    "InceptionV3_Model_Score = InceptionV3_Model.evaluate(Test_dataset)\n",
    "InceptionV3_Model_Score"
   ]
  },
  {
   "cell_type": "markdown",
   "id": "37842042",
   "metadata": {},
   "source": [
    "### Visualize The Loss and Accuracy of Train and valid data"
   ]
  },
  {
   "cell_type": "code",
   "execution_count": null,
   "id": "17248239",
   "metadata": {},
   "outputs": [],
   "source": [
    "import seaborn as sb"
   ]
  },
  {
   "cell_type": "code",
   "execution_count": 57,
   "id": "eccef567",
   "metadata": {},
   "outputs": [
    {
     "data": {
      "image/png": "[encoded data removed]",
      "text/plain": [
       "<Figure size 216x216 with 1 Axes>"
      ]
     },
     "metadata": {
      "needs_background": "light"
     },
     "output_type": "display_data"
    },
    {
     "data": {
      "image/png": "[encoded data removed]",
      "text/plain": [
       "<Figure size 216x216 with 1 Axes>"
      ]
     },
     "metadata": {
      "needs_background": "light"
     },
     "output_type": "display_data"
    }
   ],
   "source": [
    "plt.figure(figsize = (3,3))\n",
    "plt.plot(range(4),Resnet50_history.history['accuracy'], color = 'orange', label = 'Train')\n",
    "plt.plot(range(4),Resnet50_history.history['val_accuracy'], color = 'blue', label = 'Test')\n",
    "plt.title('The Accuracy of  Resnet50 Model ')\n",
    "plt.legend()\n",
    "plt.show()\n",
    "plt.figure(figsize = (3,3))\n",
    "plt.plot(range(4),Resnet50_history.history['loss'], color = 'orange', label = 'Train')\n",
    "plt.plot(range(4),Resnet50_history.history['val_loss'], color = 'blue', label = 'Test')\n",
    "plt.title('The Loss of  Resnet50 Model ')\n",
    "plt.legend()\n",
    "plt.show()"
   ]
  },
  {
   "cell_type": "code",
   "execution_count": 58,
   "id": "1ae6f756",
   "metadata": {},
   "outputs": [
    {
     "data": {
      "image/png": "[encoded data removed]",
      "text/plain": [
       "<Figure size 216x216 with 1 Axes>"
      ]
     },
     "metadata": {
      "needs_background": "light"
     },
     "output_type": "display_data"
    },
    {
     "data": {
      "image/png": "[encoded data removed]",
      "text/plain": [
       "<Figure size 216x216 with 1 Axes>"
      ]
     },
     "metadata": {
      "needs_background": "light"
     },
     "output_type": "display_data"
    }
   ],
   "source": [
    "plt.figure(figsize = (3,3))\n",
    "plt.plot(range(4),VGG16_history.history['accuracy'], color = 'red', label = 'Train')\n",
    "plt.plot(range(4),VGG16_history.history['val_accuracy'], color = 'green', label = 'Test')\n",
    "plt.title('The Accuracy of the VGG16 Model Train and Valid Data ')\n",
    "plt.legend()\n",
    "plt.show()\n",
    "plt.figure(figsize = (3,3))\n",
    "plt.plot(range(4),VGG16_history.history['loss'], color = 'red', label = 'Train')\n",
    "plt.plot(range(4),VGG16_history.history['val_loss'], color = 'green', label = 'Test')\n",
    "plt.title('The Loss of the VGG16 Model Train and Valid Data ')\n",
    "plt.legend()\n",
    "plt.show()"
   ]
  },
  {
   "cell_type": "code",
   "execution_count": 59,
   "id": "8132840a",
   "metadata": {},
   "outputs": [
    {
     "data": {
      "image/png": "[encoded data removed]",
      "text/plain": [
       "<Figure size 216x216 with 1 Axes>"
      ]
     },
     "metadata": {
      "needs_background": "light"
     },
     "output_type": "display_data"
    },
    {
     "data": {
      "image/png": "[encoded data removed]",
      "text/plain": [
       "<Figure size 216x216 with 1 Axes>"
      ]
     },
     "metadata": {
      "needs_background": "light"
     },
     "output_type": "display_data"
    }
   ],
   "source": [
    "plt.figure(figsize = (3,3))\n",
    "plt.plot(range(4),Xception_Model_history.history['accuracy'], color = 'red', label = 'Train')\n",
    "plt.plot(range(4),Xception_Model_history.history['val_accuracy'], color = 'green', label = 'Test')\n",
    "plt.title('The Accuracy of the Xception Model Train and Valid Data ')\n",
    "plt.legend()\n",
    "plt.show()\n",
    "plt.figure(figsize = (3,3))\n",
    "plt.plot(range(4),Xception_Model_history.history['loss'], color = 'red', label = 'Train')\n",
    "plt.plot(range(4),Xception_Model_history.history['val_loss'], color = 'green', label = 'Test')\n",
    "plt.title('The Loss of the Xception Model Train and Valid Data ')\n",
    "plt.legend()\n",
    "plt.show()"
   ]
  },
  {
   "cell_type": "code",
   "execution_count": 19,
   "id": "d9255e3a",
   "metadata": {},
   "outputs": [
    {
     "data": {
      "image/png": "[encoded data removed]",
      "text/plain": [
       "<Figure size 216x216 with 1 Axes>"
      ]
     },
     "metadata": {
      "needs_background": "light"
     },
     "output_type": "display_data"
    },
    {
     "data": {
      "image/png": "[encoded data removed]",
      "text/plain": [
       "<Figure size 216x216 with 1 Axes>"
      ]
     },
     "metadata": {
      "needs_background": "light"
     },
     "output_type": "display_data"
    }
   ],
   "source": [
    "plt.figure(figsize = (3,3))\n",
    "plt.plot(range(4),InceptionV3_Model_history.history['accuracy'], color = 'red', label = 'Train')\n",
    "plt.plot(range(4),InceptionV3_Model_history.history['val_accuracy'], color = 'green', label = 'Test')\n",
    "plt.title('The Accuracy of the Inception Model Train and Valid Data ')\n",
    "plt.legend()\n",
    "plt.show()\n",
    "plt.figure(figsize = (3,3))\n",
    "plt.plot(range(4),InceptionV3_Model_history.history['loss'], color = 'red', label = 'Train')\n",
    "plt.plot(range(4),InceptionV3_Model_history.history['val_loss'], color = 'green', label = 'Test')\n",
    "plt.title('The Loss of the Inception Model Train and Valid Data ')\n",
    "plt.legend()\n",
    "plt.show()"
   ]
  }
 ],
 "metadata": {
  "kernelspec": {
   "display_name": "Python 3",
   "language": "python",
   "name": "python3"
  },
  "language_info": {
   "codemirror_mode": {
    "name": "ipython",
    "version": 3
   },
   "file_extension": ".py",
   "mimetype": "text/x-python",
   "name": "python",
   "nbconvert_exporter": "python",
   "pygments_lexer": "ipython3",
   "version": "3.6.13"
  }
 },
 "nbformat": 4,
 "nbformat_minor": 5
}
